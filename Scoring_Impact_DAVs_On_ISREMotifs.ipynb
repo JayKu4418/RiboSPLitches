{
 "cells": [
  {
   "cell_type": "markdown",
   "metadata": {},
   "source": [
    "# Scoring the impact on DAVs on ISRE motifs compared to common SNPs\n",
    "\n",
    "We have information about whether a DAV is causing the loss or gain of a motif. There are 4 categories:\n",
    "1. ISE gained: either non ISRE motif becomes an ISE or an ISS becomes an ISE\n",
    "2. ISE lost: either ISE becomes a non ISRE motif or ISE becomes an ISS\n",
    "3. ISS gained : either non ISRE motif becomes an ISS or an ISE becomes an ISS\n",
    "4. ISS lost: either ISS becomes a non ISRE motif or ISS becomes an ISE"
   ]
  },
  {
   "cell_type": "code",
   "execution_count": 1,
   "metadata": {},
   "outputs": [],
   "source": [
    "whichDataSet = \"HGMD\""
   ]
  },
  {
   "cell_type": "code",
   "execution_count": 5,
   "metadata": {},
   "outputs": [
    {
     "name": "stdout",
     "output_type": "stream",
     "text": [
      "The autoreload extension is already loaded. To reload it, use:\n",
      "  %reload_ext autoreload\n"
     ]
    },
    {
     "data": {
      "application/json": {
       "Software versions": [
        {
         "module": "Python",
         "version": "2.7.12 64bit [GCC 5.4.0 20160609]"
        },
        {
         "module": "IPython",
         "version": "5.5.0"
        },
        {
         "module": "OS",
         "version": "Linux 4.4.0 116 generic x86_64 with Ubuntu 16.04 xenial"
        },
        {
         "module": "pandas",
         "version": "0.18.0"
        },
        {
         "module": "matplotlib",
         "version": "2.1.0"
        },
        {
         "module": "seaborn",
         "version": "0.8.1"
        },
        {
         "module": "scipy",
         "version": "1.0.0"
        }
       ]
      },
      "text/html": [
       "<table><tr><th>Software</th><th>Version</th></tr><tr><td>Python</td><td>2.7.12 64bit [GCC 5.4.0 20160609]</td></tr><tr><td>IPython</td><td>5.5.0</td></tr><tr><td>OS</td><td>Linux 4.4.0 116 generic x86_64 with Ubuntu 16.04 xenial</td></tr><tr><td>pandas</td><td>0.18.0</td></tr><tr><td>matplotlib</td><td>2.1.0</td></tr><tr><td>seaborn</td><td>0.8.1</td></tr><tr><td>scipy</td><td>1.0.0</td></tr><tr><td colspan='2'>Thu Apr 26 17:10:59 2018 EDT</td></tr></table>"
      ],
      "text/latex": [
       "\\begin{tabular}{|l|l|}\\hline\n",
       "{\\bf Software} & {\\bf Version} \\\\ \\hline\\hline\n",
       "Python & 2.7.12 64bit [GCC 5.4.0 20160609] \\\\ \\hline\n",
       "IPython & 5.5.0 \\\\ \\hline\n",
       "OS & Linux 4.4.0 116 generic x86\\_64 with Ubuntu 16.04 xenial \\\\ \\hline\n",
       "pandas & 0.18.0 \\\\ \\hline\n",
       "matplotlib & 2.1.0 \\\\ \\hline\n",
       "seaborn & 0.8.1 \\\\ \\hline\n",
       "scipy & 1.0.0 \\\\ \\hline\n",
       "\\hline \\multicolumn{2}{|l|}{Thu Apr 26 17:10:59 2018 EDT} \\\\ \\hline\n",
       "\\end{tabular}\n"
      ],
      "text/plain": [
       "Software versions\n",
       "Python 2.7.12 64bit [GCC 5.4.0 20160609]\n",
       "IPython 5.5.0\n",
       "OS Linux 4.4.0 116 generic x86_64 with Ubuntu 16.04 xenial\n",
       "pandas 0.18.0\n",
       "matplotlib 2.1.0\n",
       "seaborn 0.8.1\n",
       "scipy 1.0.0\n",
       "Thu Apr 26 17:10:59 2018 EDT"
      ]
     },
     "execution_count": 5,
     "metadata": {},
     "output_type": "execute_result"
    }
   ],
   "source": [
    "%matplotlib inline\n",
    "\n",
    "%load_ext autoreload\n",
    "%autoreload 2\n",
    "\n",
    "%load_ext version_information\n",
    "%version_information pandas, matplotlib, seaborn, scipy"
   ]
  },
  {
   "cell_type": "code",
   "execution_count": 6,
   "metadata": {},
   "outputs": [],
   "source": [
    "import pandas as pd\n",
    "import matplotlib.pyplot as plt\n",
    "import seaborn as sns\n",
    "import scipy"
   ]
  },
  {
   "cell_type": "code",
   "execution_count": 3,
   "metadata": {},
   "outputs": [],
   "source": [
    "# Get ISRE motifs between ISEs and ISSs\n",
    "ISE_motifs = pd.read_csv(\"../data/ISE_ZWpaper_OverrepresentedHexamers.tsv\",header=None)\n",
    "ISS_motifs = pd.read_csv(\"../data/ISS_ZWpaper_OverrepresentedHexamers.tsv\",header=None)"
   ]
  },
  {
   "cell_type": "code",
   "execution_count": 4,
   "metadata": {},
   "outputs": [],
   "source": [
    "# This is a function that will find mutations that will create or destroy ISRE motifs\n",
    "def getMutationsThatCreateOrDestroyISREMotifs_Modify(ISREfile, mutation_seqfile, mutationsOfInterest, mutsite, create):\n",
    "    # Open the file containing ISRE motifs\n",
    "    ISRE_motifs = pd.read_csv(ISREfile,header=None)\n",
    "    print ISRE_motifs.head()\n",
    "    # Open file with mutations and sequences surrounding mutations\n",
    "    mutations_withSeq = pd.read_csv(mutation_seqfile,sep=\"\\t\",header=None)\n",
    "    print mutations_withSeq.shape\n",
    "    # Open file that contains IDs of mutations of interest\n",
    "    muts_Of_interest = pd.read_csv(mutationsOfInterest,sep=\"\\t\",header=None)\n",
    "    print muts_Of_interest.shape\n",
    "    \n",
    "    # Subset muations_withSeq data and only have ones that contains IDs of mutations of interest\n",
    "    muts_Of_interest_withSeq = mutations_withSeq[mutations_withSeq[9].isin(muts_Of_interest[9])]\n",
    "    print muts_Of_interest_withSeq.shape\n",
    "    \n",
    "    if create == True:\n",
    "        index_for_seq = 14\n",
    "    else:\n",
    "        index_for_seq = 13\n",
    "    \n",
    "    # We just want to grab the 10 base pair sequence around the mutant since we want to check if\n",
    "    # WT base or mutant base is within the 6 base pair ISRE\n",
    "    muts_Seq_JustAroundMut = muts_Of_interest_withSeq[index_for_seq].str.slice(mutsite-5,mutsite+6)\n",
    "    \n",
    "    # These are the dictionary that are going to contain the mutation ids for mutations that result in new ISRE motifs\n",
    "    # as the keys and the values will be the motifs found \n",
    "    mutations_Have_Motifs = {}\n",
    "    \n",
    "    # Go through every ISRE\n",
    "    for motif in ISRE_motifs[0].values:\n",
    "        muts_WithMotif = muts_Of_interest_withSeq[muts_Seq_JustAroundMut.str.contains(motif)][9]\n",
    "        #print muts_WithMotif.shape\n",
    "        #print muts_WithMotif.head()\n",
    "        for mut in muts_WithMotif.values:\n",
    "            mutations_Have_Motifs[mut] = mutations_Have_Motifs.get(mut,[])+[motif]\n",
    "\n",
    "    return mutations_Have_Motifs"
   ]
  },
  {
   "cell_type": "code",
   "execution_count": null,
   "metadata": {},
   "outputs": [],
   "source": [
    "# This is a function that will find mutations that will create or destroy ISRE motifs\n",
    "# It will get the position where the mutation is found within the motif\n",
    "def getMutationsThatCreateOrDestroyISREMotifs_ModifyGetIndex(ISREfile, mutation_seqfile, mutationsOfInterest, mutsite, create):\n",
    "    # Open the file containing ISRE motifs\n",
    "    ISRE_motifs = pd.read_csv(ISREfile,header=None)\n",
    "    print ISRE_motifs.head()\n",
    "    # Open file with mutations and sequences surrounding mutations\n",
    "    mutations_withSeq = pd.read_csv(mutation_seqfile,sep=\"\\t\",header=None)\n",
    "    print mutations_withSeq.shape\n",
    "    # Open file that contains IDs of mutations of interest\n",
    "    muts_Of_interest = pd.read_csv(mutationsOfInterest,sep=\"\\t\",header=None)\n",
    "    print muts_Of_interest.shape\n",
    "    \n",
    "    # Subset muations_withSeq data and only have ones that contains IDs of mutations of interest\n",
    "    muts_Of_interest_withSeq = mutations_withSeq[mutations_withSeq[9].isin(muts_Of_interest[9])]\n",
    "    print muts_Of_interest_withSeq.shape\n",
    "    \n",
    "    if create == True:\n",
    "        index_for_seq = 14\n",
    "    else:\n",
    "        index_for_seq = 13\n",
    "    \n",
    "    # We just want to grab the 10 base pair sequence around the mutant since we want to check if\n",
    "    # WT base or mutant base is within the 6 base pair ISRE\n",
    "    muts_Seq_JustAroundMut = muts_Of_interest_withSeq[index_for_seq].str.slice(mutsite-5,mutsite+6)\n",
    "    \n",
    "    # These are the dictionary that are going to contain the mutation ids for mutations that result in new ISRE motifs\n",
    "    # as the keys and the values will be the motifs found \n",
    "    mutations_Have_Motifs = {}\n",
    "    \n",
    "    # Go through every ISRE\n",
    "    for motif in ISRE_motifs[0].values:\n",
    "        muts_WithMotif = muts_Of_interest_withSeq[muts_Seq_JustAroundMut.str.contains(motif)][9]\n",
    "        #print muts_WithMotif.shape\n",
    "        #print muts_WithMotif.head()\n",
    "        for mut in muts_WithMotif.values:\n",
    "            mutations_Have_Motifs[mut] = mutations_Have_Motifs.get(mut,[])+[motif]\n",
    "\n",
    "    return mutations_Have_Motifs"
   ]
  },
  {
   "cell_type": "code",
   "execution_count": 5,
   "metadata": {},
   "outputs": [
    {
     "name": "stdout",
     "output_type": "stream",
     "text": [
      "        0\n",
      "0  AGGTAT\n",
      "1  GGGGGG\n",
      "2  GGGTGG\n",
      "3  GGTATT\n",
      "4  TGGGGG\n",
      "(7742, 15)\n",
      "(7124, 13)\n",
      "(7124, 15)\n",
      "782\n"
     ]
    }
   ],
   "source": [
    "# Looking for DAVs that are creating new ISE motifs \n",
    "DAVs_Create_New_ISEmotifs = getMutationsThatCreateOrDestroyISREMotifs_Modify(\"../data/ISE_ZWpaper_OverrepresentedHexamers.tsv\",\"../temp/\"+whichDataSet+\"/Introns_Intersect_\"+whichDataSet+\"Muts_NotWithinSS-25bp_WTandMUTsequences.txt\",\"../temp/\"+whichDataSet+\"/Introns_Intersect_\"+whichDataSet+\"Muts_DoesNotCreateSS.txt\",25,True)\n",
    "print len(DAVs_Create_New_ISEmotifs.keys())"
   ]
  },
  {
   "cell_type": "code",
   "execution_count": 9,
   "metadata": {},
   "outputs": [
    {
     "name": "stdout",
     "output_type": "stream",
     "text": [
      "87\n"
     ]
    }
   ],
   "source": [
    "# Make the opposite dictionary, the values are the mutations and the keys are the ISE hexamers\n",
    "ISE_motifs_createdBY_DAVs = {}\n",
    "for key,value in DAVs_Create_New_ISEmotifs.items():\n",
    "    for v in value:\n",
    "        ISE_motifs_createdBY_DAVs[v] = ISE_motifs_createdBY_DAVs.get(v,[]) + [key]\n",
    "print len(ISE_motifs_createdBY_DAVs.keys())"
   ]
  },
  {
   "cell_type": "code",
   "execution_count": 6,
   "metadata": {},
   "outputs": [
    {
     "name": "stdout",
     "output_type": "stream",
     "text": [
      "        0\n",
      "0  AACAGT\n",
      "1  AATAGG\n",
      "2  AATTTA\n",
      "3  ACAGCT\n",
      "4  ACATGA\n",
      "(7742, 15)\n",
      "(7124, 13)\n",
      "(7124, 15)\n",
      "550\n"
     ]
    }
   ],
   "source": [
    "# Looking for DAVs that are creating new ISS motifs \n",
    "DAVs_Create_New_ISSmotifs = getMutationsThatCreateOrDestroyISREMotifs_Modify(\"../data/ISS_ZWpaper_OverrepresentedHexamers.tsv\",\"../temp/\"+whichDataSet+\"/Introns_Intersect_\"+whichDataSet+\"Muts_NotWithinSS-25bp_WTandMUTsequences.txt\",\"../temp/\"+whichDataSet+\"/Introns_Intersect_\"+whichDataSet+\"Muts_DoesNotCreateSS.txt\",25,True)\n",
    "print len(DAVs_Create_New_ISSmotifs.keys())"
   ]
  },
  {
   "cell_type": "code",
   "execution_count": 11,
   "metadata": {},
   "outputs": [
    {
     "name": "stdout",
     "output_type": "stream",
     "text": [
      "50\n"
     ]
    }
   ],
   "source": [
    "# Make the opposite dictionary, the values are the mutations and the keys are the ISS hexamers\n",
    "ISS_motifs_createdBY_DAVs = {}\n",
    "for key,value in DAVs_Create_New_ISSmotifs.items():\n",
    "    for v in value:\n",
    "        ISS_motifs_createdBY_DAVs[v] = ISS_motifs_createdBY_DAVs.get(v,[]) + [key]\n",
    "print len(ISS_motifs_createdBY_DAVs.keys())"
   ]
  },
  {
   "cell_type": "code",
   "execution_count": 7,
   "metadata": {},
   "outputs": [
    {
     "name": "stdout",
     "output_type": "stream",
     "text": [
      "        0\n",
      "0  AGGTAT\n",
      "1  GGGGGG\n",
      "2  GGGTGG\n",
      "3  GGTATT\n",
      "4  TGGGGG\n",
      "(7742, 15)\n",
      "(7124, 13)\n",
      "(7124, 15)\n",
      "820\n"
     ]
    }
   ],
   "source": [
    "# Looking for DAVs that are destroying ISE motifs \n",
    "DAVs_Destroy_New_ISEmotifs = getMutationsThatCreateOrDestroyISREMotifs_Modify(\"../data/ISE_ZWpaper_OverrepresentedHexamers.tsv\",\"../temp/\"+whichDataSet+\"/Introns_Intersect_\"+whichDataSet+\"Muts_NotWithinSS-25bp_WTandMUTsequences.txt\",\"../temp/\"+whichDataSet+\"/Introns_Intersect_\"+whichDataSet+\"Muts_DoesNotCreateSS.txt\",25,False)\n",
    "print len(DAVs_Destroy_New_ISEmotifs.keys())"
   ]
  },
  {
   "cell_type": "code",
   "execution_count": 12,
   "metadata": {},
   "outputs": [
    {
     "name": "stdout",
     "output_type": "stream",
     "text": [
      "87\n"
     ]
    }
   ],
   "source": [
    "# Make the opposite dictionary, the values are the mutations and the keys are the ISE hexamers\n",
    "ISE_motifs_destroyedBY_DAVs = {}\n",
    "for key,value in DAVs_Destroy_New_ISEmotifs.items():\n",
    "    for v in value:\n",
    "        ISE_motifs_destroyedBY_DAVs[v] = ISE_motifs_destroyedBY_DAVs.get(v,[]) + [key]\n",
    "print len(ISE_motifs_destroyedBY_DAVs.keys())"
   ]
  },
  {
   "cell_type": "code",
   "execution_count": 56,
   "metadata": {},
   "outputs": [
    {
     "data": {
      "text/plain": [
       "Text(0,0.5,u'Frequency of DAVs')"
      ]
     },
     "execution_count": 56,
     "metadata": {},
     "output_type": "execute_result"
    },
    {
     "data": {
      "image/png": "[encoded data removed]",
      "text/plain": [
       "<matplotlib.figure.Figure at 0x7f47912c3090>"
      ]
     },
     "metadata": {},
     "output_type": "display_data"
    }
   ],
   "source": [
    "# Let's see a distribution of the number of ISE motifs being destroyed by the presence of a mutation \n",
    "num_ISEs_perDAV = [len(i) for i in DAVs_Destroy_New_ISEmotifs.values()]\n",
    "sns.set_style(\"whitegrid\")\n",
    "ax = sns.distplot(num_ISEs_perDAV, bins=6, kde=False, rug=False);\n",
    "plt.xlabel(\"Number of ISEs destroyed per DAV\")\n",
    "plt.ylabel(\"Frequency of DAVs\")"
   ]
  },
  {
   "cell_type": "code",
   "execution_count": 8,
   "metadata": {},
   "outputs": [
    {
     "name": "stdout",
     "output_type": "stream",
     "text": [
      "        0\n",
      "0  AACAGT\n",
      "1  AATAGG\n",
      "2  AATTTA\n",
      "3  ACAGCT\n",
      "4  ACATGA\n",
      "(7742, 15)\n",
      "(7124, 13)\n",
      "(7124, 15)\n",
      "467\n"
     ]
    }
   ],
   "source": [
    "# Looking for DAVs that are creating new ISS motifs \n",
    "DAVs_Destroy_New_ISSmotifs = getMutationsThatCreateOrDestroyISREMotifs_Modify(\"../data/ISS_ZWpaper_OverrepresentedHexamers.tsv\",\"../temp/\"+whichDataSet+\"/Introns_Intersect_\"+whichDataSet+\"Muts_NotWithinSS-25bp_WTandMUTsequences.txt\",\"../temp/\"+whichDataSet+\"/Introns_Intersect_\"+whichDataSet+\"Muts_DoesNotCreateSS.txt\",25,False)\n",
    "print len(DAVs_Destroy_New_ISSmotifs.keys())"
   ]
  },
  {
   "cell_type": "code",
   "execution_count": 13,
   "metadata": {},
   "outputs": [
    {
     "name": "stdout",
     "output_type": "stream",
     "text": [
      "50\n"
     ]
    }
   ],
   "source": [
    "# Make the opposite dictionary, the values are the mutations and the keys are the ISE hexamers\n",
    "ISS_motifs_destroyedBY_DAVs = {}\n",
    "for key,value in DAVs_Destroy_New_ISSmotifs.items():\n",
    "    for v in value:\n",
    "        ISS_motifs_destroyedBY_DAVs[v] = ISS_motifs_destroyedBY_DAVs.get(v,[]) + [key]\n",
    "print len(ISS_motifs_destroyedBY_DAVs.keys())"
   ]
  },
  {
   "cell_type": "code",
   "execution_count": 63,
   "metadata": {},
   "outputs": [
    {
     "data": {
      "text/plain": [
       "Text(0,0.5,u'Frequency of DAVs')"
      ]
     },
     "execution_count": 63,
     "metadata": {},
     "output_type": "execute_result"
    },
    {
     "data": {
      "image/png": "[encoded data removed]",
      "text/plain": [
       "<matplotlib.figure.Figure at 0x7f47a8069e90>"
      ]
     },
     "metadata": {},
     "output_type": "display_data"
    }
   ],
   "source": [
    "# Let's see a distribution of the number of ISE motifs being destroyed by the presence of a mutation \n",
    "num_ISSs_perDAV = [len(i) for i in DAVs_Destroy_New_ISSmotifs.values()]\n",
    "sns.set_style(\"whitegrid\")\n",
    "ax = sns.distplot(num_ISSs_perDAV, bins=3, kde=False, rug=False);\n",
    "plt.xlabel(\"Number of ISSs destroyed per DAV\")\n",
    "plt.ylabel(\"Frequency of DAVs\")"
   ]
  },
  {
   "cell_type": "code",
   "execution_count": 80,
   "metadata": {},
   "outputs": [],
   "source": [
    "# Write a function that gets counts for ISEs/ISSs gained and ISEs/ISSs lost \n",
    "def getCountForISREBehavior(ISREmotifs,\\\n",
    "                            ISRE_data_behavior_keyISRE,\\\n",
    "                            ISRE_data_oppbehavior_keyISRE,\\\n",
    "                            ISRE_data_oppbehavior_keyVariant,\\\n",
    "                            ISRE_data_oppbehaviorOppISRE_keyVariant):\n",
    "    ISRE_behavior = {}\n",
    "    ISRE_neutral = {}\n",
    "    for ISRE in ISREmotifs[0].values:\n",
    "        # Get variants that result in ISRE behavior\n",
    "        vars_behavior = pd.Series(ISRE_data_behavior_keyISRE[ISRE])\n",
    "        # Get variants that do the opposite behavior for same ISRE motif\n",
    "        vars_oppbehaviorSameISRE_behavior = vars_behavior[vars_behavior.isin(\\\n",
    "                                        pd.Series(ISRE_data_oppbehavior_keyISRE[ISRE]))]\n",
    "        # Get variants that compensates for behavior using other ISREs\n",
    "        vars_oppbehaviorOtherISREs_behavior_step1 = vars_behavior[~vars_behavior.isin(\\\n",
    "                                                    vars_oppbehaviorSameISRE_behavior)]\n",
    "        vars_oppbehaviorOtherISREs_behavior_step2 = vars_oppbehaviorOtherISREs_behavior_step1[\\\n",
    "                                                    vars_oppbehaviorOtherISREs_behavior_step1.map(\\\n",
    "                                                    ISRE_data_oppbehavior_keyVariant).str.len()>0]\n",
    "        # Get variants that do behavior for type of ISREs but do opposite behavior for opp type of ISRE\n",
    "        vars_toexclude_thisround = vars_oppbehaviorSameISRE_behavior.append(vars_oppbehaviorOtherISREs_behavior_step2)\n",
    "        vars_oppbehaviorOppISRE_behavior = vars_behavior[(~vars_behavior.isin(vars_toexclude_thisround))&\\\n",
    "                                            (vars_behavior.isin(ISRE_data_oppbehaviorOppISRE_keyVariant.keys()))]\n",
    "        # Get variants that does behavior and either results in neutral seq or from neutral seq\n",
    "        vars_toexclude_thisround = vars_oppbehaviorSameISRE_behavior.append(\\\n",
    "                                    vars_oppbehaviorOtherISREs_behavior_step2.append(\\\n",
    "                                    vars_oppbehaviorOppISRE_behavior))\n",
    "        vars_non_behavior = vars_behavior[~vars_behavior.isin(vars_toexclude_thisround)]\n",
    "        \n",
    "        ISRE_behavior[ISRE] = list(vars_oppbehaviorOppISRE_behavior.values)+list(vars_non_behavior.values)\n",
    "        ISRE_neutral[ISRE] = list(vars_oppbehaviorSameISRE_behavior.values)+list(vars_oppbehaviorOtherISREs_behavior_step2.values)\n",
    "        \n",
    "    return [ISRE_behavior,ISRE_neutral]"
   ]
  },
  {
   "cell_type": "markdown",
   "metadata": {},
   "source": [
    "### Get counts for each ISE hexamer where that ISE motif gained or ISE motif is lost\n",
    "\n",
    "1. First for each ISE hexamer, get all mutations that are creating it. \n",
    "2. Then look for any overlap between this mutation and any mutations that are destroying ISS motifs \n"
   ]
  },
  {
   "cell_type": "code",
   "execution_count": 94,
   "metadata": {},
   "outputs": [],
   "source": [
    "DAVs_ISEs_gained, DAVs_ISEsgained_neutral = getCountForISREBehavior(ISE_motifs,ISE_motifs_createdBY_DAVs, ISE_motifs_destroyedBY_DAVs, DAVs_Destroy_New_ISEmotifs, DAVs_Destroy_New_ISSmotifs)\n",
    "DAVs_ISEs_lost, DAVs_ISEslost_neutral = getCountForISREBehavior(ISE_motifs,ISE_motifs_destroyedBY_DAVs, ISE_motifs_createdBY_DAVs, DAVs_Create_New_ISEmotifs, DAVs_Create_New_ISSmotifs)"
   ]
  },
  {
   "cell_type": "markdown",
   "metadata": {},
   "source": [
    "### Get counts for each ISS hexamer where that ISS motif gained or ISS motif is lost\n",
    "\n",
    "First for each ISS hexamer, get all mutations that are creating it. Then look for any overlap between this mutation and any mutations that are destroying ISE motifs "
   ]
  },
  {
   "cell_type": "code",
   "execution_count": 105,
   "metadata": {},
   "outputs": [],
   "source": [
    "DAVs_ISSs_gained, DAVs_ISSsgained_neutral = getCountForISREBehavior(ISS_motifs,ISS_motifs_createdBY_DAVs, ISS_motifs_destroyedBY_DAVs, DAVs_Destroy_New_ISSmotifs, DAVs_Destroy_New_ISEmotifs)\n",
    "DAVs_ISSs_lost, DAVs_ISSslost_neutral = getCountForISREBehavior(ISS_motifs,ISS_motifs_destroyedBY_DAVs, ISS_motifs_createdBY_DAVs, DAVs_Create_New_ISSmotifs, DAVs_Create_New_ISEmotifs)"
   ]
  },
  {
   "cell_type": "markdown",
   "metadata": {},
   "source": [
    "## Re-do above analysis for common SNPs"
   ]
  },
  {
   "cell_type": "code",
   "execution_count": 25,
   "metadata": {},
   "outputs": [],
   "source": [
    "whichDataSet = \"CommonSNPs\""
   ]
  },
  {
   "cell_type": "code",
   "execution_count": 27,
   "metadata": {},
   "outputs": [
    {
     "name": "stdout",
     "output_type": "stream",
     "text": [
      "        0\n",
      "0  AGGTAT\n",
      "1  GGGGGG\n",
      "2  GGGTGG\n",
      "3  GGTATT\n",
      "4  TGGGGG\n",
      "(2536534, 15)\n",
      "(2442426, 13)\n",
      "(2442426, 15)\n",
      "235855\n"
     ]
    }
   ],
   "source": [
    "# Looking for  that are creating new ISE motifs\n",
    "SNPs_Create_New_ISEmotifs = getMutationsThatCreateOrDestroyISREMotifs_Modify(\"../data/ISE_ZWpaper_OverrepresentedHexamers.tsv\",\"../temp/\"+whichDataSet+\"/Introns_Intersect_\"+whichDataSet+\"_NotWithinSS-25bp_WTandMUTsequences.txt\",\"../temp/\"+whichDataSet+\"/Introns_Intersect_\"+whichDataSet+\"_DoesNotCreateSS.txt\",25,True)\n",
    "print len(SNPs_Create_New_ISEmotifs.keys())"
   ]
  },
  {
   "cell_type": "code",
   "execution_count": 29,
   "metadata": {},
   "outputs": [
    {
     "name": "stdout",
     "output_type": "stream",
     "text": [
      "87\n"
     ]
    }
   ],
   "source": [
    "# Make the opposite dictionary, the values are the mutations and the keys are the ISE hexamers\n",
    "ISE_motifs_createdBY_SNPs = {}\n",
    "for key,value in SNPs_Create_New_ISEmotifs.items():\n",
    "    for v in value:\n",
    "        ISE_motifs_createdBY_SNPs[v] = ISE_motifs_createdBY_SNPs.get(v,[]) + [key]\n",
    "print len(ISE_motifs_createdBY_SNPs.keys())"
   ]
  },
  {
   "cell_type": "code",
   "execution_count": 28,
   "metadata": {},
   "outputs": [
    {
     "name": "stdout",
     "output_type": "stream",
     "text": [
      "        0\n",
      "0  AACAGT\n",
      "1  AATAGG\n",
      "2  AATTTA\n",
      "3  ACAGCT\n",
      "4  ACATGA\n",
      "(2536534, 15)\n",
      "(2442426, 13)\n",
      "(2442426, 15)\n",
      "165624\n"
     ]
    }
   ],
   "source": [
    "# Looking for  that are creating new ISS motifs\n",
    "SNPs_Create_New_ISSmotifs = getMutationsThatCreateOrDestroyISREMotifs_Modify(\"../data/ISS_ZWpaper_OverrepresentedHexamers.tsv\",\"../temp/\"+whichDataSet+\"/Introns_Intersect_\"+whichDataSet+\"_NotWithinSS-25bp_WTandMUTsequences.txt\",\"../temp/\"+whichDataSet+\"/Introns_Intersect_\"+whichDataSet+\"_DoesNotCreateSS.txt\",25,True)\n",
    "print len(SNPs_Create_New_ISSmotifs.keys())"
   ]
  },
  {
   "cell_type": "code",
   "execution_count": 30,
   "metadata": {},
   "outputs": [
    {
     "name": "stdout",
     "output_type": "stream",
     "text": [
      "50\n"
     ]
    }
   ],
   "source": [
    "# Make the opposite dictionary, the values are the mutations and the keys are the ISS hexamers\n",
    "ISS_motifs_createdBY_SNPs = {}\n",
    "for key,value in SNPs_Create_New_ISSmotifs.items():\n",
    "    for v in value:\n",
    "        ISS_motifs_createdBY_SNPs[v] = ISS_motifs_createdBY_SNPs.get(v,[]) + [key]\n",
    "print len(ISS_motifs_createdBY_SNPs.keys())"
   ]
  },
  {
   "cell_type": "code",
   "execution_count": 31,
   "metadata": {},
   "outputs": [
    {
     "name": "stdout",
     "output_type": "stream",
     "text": [
      "        0\n",
      "0  AGGTAT\n",
      "1  GGGGGG\n",
      "2  GGGTGG\n",
      "3  GGTATT\n",
      "4  TGGGGG\n",
      "(2536534, 15)\n",
      "(2442426, 13)\n",
      "(2442426, 15)\n",
      "236375\n"
     ]
    }
   ],
   "source": [
    "# Looking for SNPs that are destroying new ISE motifs\n",
    "SNPs_Destroy_New_ISEmotifs = getMutationsThatCreateOrDestroyISREMotifs_Modify(\"../data/ISE_ZWpaper_OverrepresentedHexamers.tsv\",\"../temp/\"+whichDataSet+\"/Introns_Intersect_\"+whichDataSet+\"_NotWithinSS-25bp_WTandMUTsequences.txt\",\"../temp/\"+whichDataSet+\"/Introns_Intersect_\"+whichDataSet+\"_DoesNotCreateSS.txt\",25,False)\n",
    "print len(SNPs_Destroy_New_ISEmotifs.keys())"
   ]
  },
  {
   "cell_type": "code",
   "execution_count": 32,
   "metadata": {},
   "outputs": [
    {
     "name": "stdout",
     "output_type": "stream",
     "text": [
      "87\n"
     ]
    }
   ],
   "source": [
    "# Make the opposite dictionary, the values are the SNPs and the keys are the ISE hexamers\n",
    "ISE_motifs_destroyedBY_SNPs = {}\n",
    "for key,value in SNPs_Destroy_New_ISEmotifs.items():\n",
    "    for v in value:\n",
    "        ISE_motifs_destroyedBY_SNPs[v] = ISE_motifs_destroyedBY_SNPs.get(v,[]) + [key]\n",
    "print len(ISE_motifs_destroyedBY_SNPs.keys())"
   ]
  },
  {
   "cell_type": "code",
   "execution_count": 59,
   "metadata": {},
   "outputs": [
    {
     "data": {
      "text/plain": [
       "Text(0,0.5,u'Frequency of SNPs')"
      ]
     },
     "execution_count": 59,
     "metadata": {},
     "output_type": "execute_result"
    },
    {
     "data": {
      "image/png": "[encoded data removed]",
      "text/plain": [
       "<matplotlib.figure.Figure at 0x7f47836dced0>"
      ]
     },
     "metadata": {},
     "output_type": "display_data"
    }
   ],
   "source": [
    "# Let's see a distribution of the number of ISE motifs being destroyed by the presence of a SNP\n",
    "num_ISEs_perSNP = [len(i) for i in SNPs_Destroy_New_ISEmotifs.values()]\n",
    "sns.set_style(\"whitegrid\")\n",
    "ax = sns.distplot(num_ISEs_perSNP, bins=6, kde=False, rug=False);\n",
    "plt.xlabel(\"Number of ISEs destroyed per SNP\")\n",
    "plt.ylabel(\"Frequency of SNPs\")"
   ]
  },
  {
   "cell_type": "code",
   "execution_count": 33,
   "metadata": {},
   "outputs": [
    {
     "name": "stdout",
     "output_type": "stream",
     "text": [
      "        0\n",
      "0  AACAGT\n",
      "1  AATAGG\n",
      "2  AATTTA\n",
      "3  ACAGCT\n",
      "4  ACATGA\n",
      "(2536534, 15)\n",
      "(2442426, 13)\n",
      "(2442426, 15)\n",
      "159865\n"
     ]
    }
   ],
   "source": [
    "# Looking for SNPs that are destroying new ISS motifs\n",
    "SNPs_Destroy_New_ISSmotifs = getMutationsThatCreateOrDestroyISREMotifs_Modify(\"../data/ISS_ZWpaper_OverrepresentedHexamers.tsv\",\"../temp/\"+whichDataSet+\"/Introns_Intersect_\"+whichDataSet+\"_NotWithinSS-25bp_WTandMUTsequences.txt\",\"../temp/\"+whichDataSet+\"/Introns_Intersect_\"+whichDataSet+\"_DoesNotCreateSS.txt\",25,False)\n",
    "print len(SNPs_Destroy_New_ISSmotifs.keys())"
   ]
  },
  {
   "cell_type": "code",
   "execution_count": 34,
   "metadata": {},
   "outputs": [
    {
     "name": "stdout",
     "output_type": "stream",
     "text": [
      "50\n"
     ]
    }
   ],
   "source": [
    "# Make the opposite dictionary, the values are the mutations and the keys are the ISE hexamers\n",
    "ISS_motifs_destroyedBY_SNPs = {}\n",
    "for key,value in SNPs_Destroy_New_ISSmotifs.items():\n",
    "    for v in value:\n",
    "        ISS_motifs_destroyedBY_SNPs[v] = ISS_motifs_destroyedBY_SNPs.get(v,[]) + [key]\n",
    "print len(ISS_motifs_destroyedBY_SNPs.keys())"
   ]
  },
  {
   "cell_type": "code",
   "execution_count": 60,
   "metadata": {},
   "outputs": [
    {
     "data": {
      "text/plain": [
       "Text(0,0.5,u'Frequency of SNPs')"
      ]
     },
     "execution_count": 60,
     "metadata": {},
     "output_type": "execute_result"
    },
    {
     "data": {
      "image/png": "[encoded data removed]",
      "text/plain": [
       "<matplotlib.figure.Figure at 0x7f479885c290>"
      ]
     },
     "metadata": {},
     "output_type": "display_data"
    }
   ],
   "source": [
    "# Let's see a distribution of the number of ISE motifs being destroyed by the presence of a SNP\n",
    "num_ISSs_perSNP = [len(i) for i in SNPs_Destroy_New_ISSmotifs.values()]\n",
    "sns.set_style(\"whitegrid\")\n",
    "ax = sns.distplot(num_ISSs_perSNP, bins=6, kde=False, rug=False);\n",
    "plt.xlabel(\"Number of ISSs destroyed per SNP\")\n",
    "plt.ylabel(\"Frequency of SNPs\")"
   ]
  },
  {
   "cell_type": "markdown",
   "metadata": {},
   "source": [
    "### Get counts for each ISE hexamer where that ISE motif gained or ISE motif is lost - common SNP edition\n",
    "\n",
    "First for each ISE hexamer, get all SNPs that are creating it. Then look for any overlap between this SNP and any SNPs that are destroying ISS motifs \n"
   ]
  },
  {
   "cell_type": "code",
   "execution_count": 107,
   "metadata": {},
   "outputs": [],
   "source": [
    "SNPs_ISEs_gained, SNPs_ISEsgained_neutral = getCountForISREBehavior(ISE_motifs,ISE_motifs_createdBY_SNPs, ISE_motifs_destroyedBY_SNPs, SNPs_Destroy_New_ISEmotifs, SNPs_Destroy_New_ISSmotifs)\n",
    "SNPs_ISEs_lost, SNPs_ISEslost_neutral = getCountForISREBehavior(ISE_motifs,ISE_motifs_destroyedBY_SNPs, ISE_motifs_createdBY_SNPs, SNPs_Create_New_ISEmotifs, SNPs_Create_New_ISSmotifs)"
   ]
  },
  {
   "cell_type": "markdown",
   "metadata": {},
   "source": [
    "### Get counts for each ISS hexamer where that ISS motif gained or ISS motif is lost - common SNP edition\n",
    "\n",
    "First for each ISS hexamer, get all SNPs that are creating it. Then look for any overlap between this SNP and any SNPs that are destroying ISE motifs "
   ]
  },
  {
   "cell_type": "code",
   "execution_count": 108,
   "metadata": {},
   "outputs": [],
   "source": [
    "SNPs_ISSs_gained, SNPs_ISSsgained_neutral = getCountForISREBehavior(ISS_motifs,ISS_motifs_createdBY_SNPs, ISS_motifs_destroyedBY_SNPs, SNPs_Destroy_New_ISSmotifs, SNPs_Destroy_New_ISEmotifs)\n",
    "SNPs_ISSs_lost, SNPs_ISSslost_neutral = getCountForISREBehavior(ISS_motifs,ISS_motifs_destroyedBY_SNPs, ISS_motifs_createdBY_SNPs, SNPs_Create_New_ISSmotifs, SNPs_Create_New_ISEmotifs)"
   ]
  },
  {
   "cell_type": "markdown",
   "metadata": {},
   "source": [
    "## Calculate odds ratio for hexamers"
   ]
  },
  {
   "cell_type": "code",
   "execution_count": 126,
   "metadata": {},
   "outputs": [],
   "source": [
    "# Get the odds ratio for ISEs gain\n",
    "# Add 0.5 as pseudo count\n",
    "OR_allISEgain = []\n",
    "OR_allISElost = []\n",
    "for ISE in ISE_motifs[0].values:\n",
    "    total_events_DAVs_ISE = len(DAVs_ISEs_gained.get(ISE,[])) + len(DAVs_ISEs_lost.get(ISE,[])) + \\\n",
    "                            len(DAVs_ISEsgained_neutral.get(ISE,[])) + len(DAVs_ISEslost_neutral.get(ISE,[]))\n",
    "    prob_ISEgain_DAVs = (len(DAVs_ISEs_gained.get(ISE,[]))+0.5)/(float(total_events_DAVs_ISE)+2)\n",
    "    prob_ISElost_DAVs = (len(DAVs_ISEs_lost.get(ISE,[]))+0.5)/(float(total_events_DAVs_ISE)+2)\n",
    "    total_events_SNPs_ISE = len(SNPs_ISEs_gained.get(ISE,[])) + len(SNPs_ISEs_lost.get(ISE,[])) + \\\n",
    "                            len(SNPs_ISEsgained_neutral.get(ISE,[])) + len(SNPs_ISEslost_neutral.get(ISE,[]))\n",
    "    prob_ISEgain_SNPs = (len(SNPs_ISEs_gained.get(ISE,[]))+0.5)/(float(total_events_SNPs_ISE)+2)\n",
    "    prob_ISElost_SNPs = (len(SNPs_ISEs_lost.get(ISE,[]))+0.5)/(float(total_events_SNPs_ISE)+2)\n",
    "    OR_for_ISEgain = (prob_ISEgain_DAVs/(1-prob_ISEgain_DAVs))/(prob_ISEgain_SNPs/(1-prob_ISEgain_SNPs))\n",
    "    OR_allISEgain.append(OR_for_ISEgain)\n",
    "    OR_for_ISElost = (prob_ISElost_DAVs/(1-prob_ISElost_DAVs))/(prob_ISElost_SNPs/(1-prob_ISElost_SNPs))\n",
    "    OR_allISElost.append(OR_for_ISElost)"
   ]
  },
  {
   "cell_type": "code",
   "execution_count": 135,
   "metadata": {},
   "outputs": [],
   "source": [
    "# Get the odds ratio for ISSs gain\n",
    "# Add 0.5 as pseudo count\n",
    "OR_allISSgain = []\n",
    "OR_allISSlost = []\n",
    "for ISS in ISS_motifs[0].values:\n",
    "    total_events_DAVs_ISS = len(DAVs_ISSs_gained.get(ISS,[])) + len(DAVs_ISSs_lost.get(ISS,[])) + \\\n",
    "                            len(DAVs_ISSsgained_neutral.get(ISS,[])) + len(DAVs_ISSslost_neutral.get(ISS,[]))\n",
    "    prob_ISSgain_DAVs = (len(DAVs_ISSs_gained.get(ISS,[]))+0.5)/(float(total_events_DAVs_ISS)+2)\n",
    "    prob_ISSlost_DAVs = (len(DAVs_ISSs_lost.get(ISS,[]))+0.5)/(float(total_events_DAVs_ISS)+2)\n",
    "    total_events_SNPs_ISS = len(SNPs_ISSs_gained.get(ISS,[])) + len(SNPs_ISSs_lost.get(ISS,[])) + \\\n",
    "                            len(SNPs_ISSsgained_neutral.get(ISS,[])) + len(SNPs_ISSslost_neutral.get(ISS,[]))\n",
    "    prob_ISSgain_SNPs = (len(SNPs_ISSs_gained.get(ISS,[]))+0.5)/(float(total_events_SNPs_ISS)+2)\n",
    "    prob_ISSlost_SNPs = (len(SNPs_ISSs_lost.get(ISS,[]))+0.5)/(float(total_events_SNPs_ISS)+2)\n",
    "    OR_for_ISSgain = (prob_ISSgain_DAVs/(1-prob_ISSgain_DAVs))/(prob_ISSgain_SNPs/(1-prob_ISSgain_SNPs))\n",
    "    OR_allISSgain.append(OR_for_ISSgain)\n",
    "    OR_for_ISSlost = (prob_ISSlost_DAVs/(1-prob_ISSlost_DAVs))/(prob_ISSlost_SNPs/(1-prob_ISSlost_SNPs))\n",
    "    OR_allISSlost.append(OR_for_ISSlost)"
   ]
  },
  {
   "cell_type": "code",
   "execution_count": 154,
   "metadata": {},
   "outputs": [
    {
     "data": {
      "text/plain": [
       "<matplotlib.lines.Line2D at 0x7f479a55f210>"
      ]
     },
     "execution_count": 154,
     "metadata": {},
     "output_type": "execute_result"
    },
    {
     "data": {
      "image/png": "[encoded data removed]",
      "text/plain": [
       "<matplotlib.figure.Figure at 0x7f479c2af350>"
      ]
     },
     "metadata": {},
     "output_type": "display_data"
    }
   ],
   "source": [
    "# Plot boxplot of distributions of ISE gain and loss\n",
    "df_ISE = pd.DataFrame({\"ISEgain\":OR_allISEgain,\"ISEloss\":OR_allISElost})\n",
    "df_ISE.head()\n",
    "sns.boxplot(data=df_ISE)\n",
    "#sns.swarmplot(data=df_ISE)\n",
    "plt.ylabel('Odds Ratio')\n",
    "plt.axhline(y=1,linestyle='dashed',color='black')"
   ]
  },
  {
   "cell_type": "code",
   "execution_count": 144,
   "metadata": {},
   "outputs": [
    {
     "data": {
      "text/plain": [
       "MannwhitneyuResult(statistic=3565.0, pvalue=0.50978755707070911)"
      ]
     },
     "execution_count": 144,
     "metadata": {},
     "output_type": "execute_result"
    }
   ],
   "source": [
    "scipy.stats.mannwhitneyu(OR_allISEgain, OR_allISElost, use_continuity=True, alternative=\"two-sided\")"
   ]
  },
  {
   "cell_type": "code",
   "execution_count": 152,
   "metadata": {},
   "outputs": [
    {
     "data": {
      "text/plain": [
       "<matplotlib.lines.Line2D at 0x7f479b702410>"
      ]
     },
     "execution_count": 152,
     "metadata": {},
     "output_type": "execute_result"
    },
    {
     "data": {
      "image/png": "[encoded data removed]",
      "text/plain": [
       "<matplotlib.figure.Figure at 0x7f479b702490>"
      ]
     },
     "metadata": {},
     "output_type": "display_data"
    }
   ],
   "source": [
    "# Plot boxplot of distributions of ISS gain and loss\n",
    "df_ISS = pd.DataFrame({\"ISSgain\":OR_allISSgain,\"ISSloss\":OR_allISSlost})\n",
    "df_ISS.head()\n",
    "sns.boxplot(data=df_ISS)\n",
    "sns.swarmplot(data=df_ISS,color=\".25\")\n",
    "plt.ylabel('Odds Ratio')\n",
    "plt.axhline(y=1,linestyle='dashed',color='black')"
   ]
  },
  {
   "cell_type": "code",
   "execution_count": 145,
   "metadata": {},
   "outputs": [
    {
     "data": {
      "text/plain": [
       "MannwhitneyuResult(statistic=1508.0, pvalue=0.075871700432894693)"
      ]
     },
     "execution_count": 145,
     "metadata": {},
     "output_type": "execute_result"
    }
   ],
   "source": [
    "scipy.stats.mannwhitneyu(OR_allISSgain, OR_allISSlost, use_continuity=True, alternative=\"two-sided\")"
   ]
  },
  {
   "cell_type": "markdown",
   "metadata": {},
   "source": [
    "## Use scoring system developed in Mort et al. 2014\n",
    "\n",
    "\"To express the relationship between disease and neutral variants and their differential distributions with respect to loss or gain of an ESE or ESS\""
   ]
  },
  {
   "cell_type": "code",
   "execution_count": null,
   "metadata": {},
   "outputs": [],
   "source": [
    "# This score S(t,i,dav) and S(t,i,snp) where t is the type of behavior (ISEgain, ISEloss, ISSgain, ISSloss)\n",
    "# and i is all the hexamers for the behavior \n",
    "# sum(S(t,i,dav))=1 and sum(S(t,i,snp))=1\n",
    "S_DAV_preNormalized_ISEgain = []\n",
    "S_SNP_preNormalized_ISEgain = []\n",
    "S_DAV_preNormalized_ISEloss = []\n",
    "S_SNP_preNormalized_ISEloss = []\n",
    "for ISE in ISE_motifs[0].values:\n",
    "        S_DAV_preNormalized_ISEgain.append([ISE,len(DAVs_ISEs_gained.get(ISE,[]))+0.25])\n",
    "        S_DAV_preNormalized_ISEloss.append([ISE,len(DAVs_ISEs_lost.get(ISE,[]))+0.25])\n",
    "        S_SNP_preNormalized_ISEgain.append([ISE,len(SNPs_ISEs_gained.get(ISE,[]))+0.25])\n",
    "        S_SNP_preNormalized_ISEloss.append([ISE,len(SNPs_ISEs_lost.get(ISE,[]))+0.25])        "
   ]
  }
 ],
 "metadata": {
  "kernelspec": {
   "display_name": "Python 2",
   "language": "python",
   "name": "python2"
  },
  "language_info": {
   "codemirror_mode": {
    "name": "ipython",
    "version": 2
   },
   "file_extension": ".py",
   "mimetype": "text/x-python",
   "name": "python",
   "nbconvert_exporter": "python",
   "pygments_lexer": "ipython2",
   "version": "2.7.12"
  }
 },
 "nbformat": 4,
 "nbformat_minor": 2
}
