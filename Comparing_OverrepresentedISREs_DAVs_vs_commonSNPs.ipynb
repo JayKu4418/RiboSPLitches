{
 "cells": [
  {
   "cell_type": "markdown",
   "metadata": {},
   "source": [
    "## Compare the normalized counts for DAVs compared to common SNPs -> \n",
    "We got the DAVs and commonSNPs data from the Jupyter script Understanding_Frequency_ISREs_Overrepresented_In_CommonSNPs and Understanding_Frequency_ISREs_Overrepresented_In_DAVs"
   ]
  },
  {
   "cell_type": "code",
   "execution_count": 1,
   "metadata": {},
   "outputs": [],
   "source": [
    "import scipy\n",
    "import pandas as pd\n",
    "import seaborn as sns\n",
    "import matplotlib.pyplot as plt"
   ]
  },
  {
   "cell_type": "markdown",
   "metadata": {},
   "source": [
    "###  Take a look at overrepresented ISREs in ISREs abolished by DAVs and SNPs"
   ]
  },
  {
   "cell_type": "code",
   "execution_count": 2,
   "metadata": {},
   "outputs": [],
   "source": [
    "# Get normalized counts for DAvs and commonSNPs\n",
    "normalizedCounts_ISEs_destroyed_DAVs = pd.read_csv(\"../temp/ISEs_destroyed_DAVs_NormalizedCounts.txt\",sep=\"\\t\",header=None)\n",
    "normalizedCounts_ISEs_destroyed_SNPs = pd.read_csv(\"../temp/ISEs_destroyed_commonSNPs_NormalizedCounts.txt\",sep=\"\\t\",header=None)"
   ]
  },
  {
   "cell_type": "code",
   "execution_count": 3,
   "metadata": {},
   "outputs": [
    {
     "data": {
      "text/html": [
       "<div>\n",
       "<table border=\"1\" class=\"dataframe\">\n",
       "  <thead>\n",
       "    <tr style=\"text-align: right;\">\n",
       "      <th></th>\n",
       "      <th>DAVs</th>\n",
       "      <th>commonSNPs</th>\n",
       "    </tr>\n",
       "  </thead>\n",
       "  <tbody>\n",
       "    <tr>\n",
       "      <th>0</th>\n",
       "      <td>49.227328</td>\n",
       "      <td>27.736242</td>\n",
       "    </tr>\n",
       "    <tr>\n",
       "      <th>1</th>\n",
       "      <td>29.643463</td>\n",
       "      <td>21.858657</td>\n",
       "    </tr>\n",
       "    <tr>\n",
       "      <th>2</th>\n",
       "      <td>19.369879</td>\n",
       "      <td>21.271420</td>\n",
       "    </tr>\n",
       "    <tr>\n",
       "      <th>3</th>\n",
       "      <td>16.106715</td>\n",
       "      <td>21.039432</td>\n",
       "    </tr>\n",
       "    <tr>\n",
       "      <th>4</th>\n",
       "      <td>15.786221</td>\n",
       "      <td>18.916677</td>\n",
       "    </tr>\n",
       "  </tbody>\n",
       "</table>\n",
       "</div>"
      ],
      "text/plain": [
       "        DAVs  commonSNPs\n",
       "0  49.227328   27.736242\n",
       "1  29.643463   21.858657\n",
       "2  19.369879   21.271420\n",
       "3  16.106715   21.039432\n",
       "4  15.786221   18.916677"
      ]
     },
     "execution_count": 3,
     "metadata": {},
     "output_type": "execute_result"
    }
   ],
   "source": [
    "# Make a new data frame which has both normalized counts\n",
    "normalizedCounts_ISEs_destroyed = pd.DataFrame({\"DAVs\":normalizedCounts_ISEs_destroyed_DAVs[2],\"commonSNPs\":normalizedCounts_ISEs_destroyed_SNPs[2]})\n",
    "normalizedCounts_ISEs_destroyed.head()\n"
   ]
  },
  {
   "cell_type": "code",
   "execution_count": 4,
   "metadata": {},
   "outputs": [
    {
     "data": {
      "image/png": "[encoded data removed]",
      "text/plain": [
       "<matplotlib.figure.Figure at 0x7fc75e196e50>"
      ]
     },
     "metadata": {},
     "output_type": "display_data"
    }
   ],
   "source": [
    "# Create a box plot for normalized counts \n",
    "sns.boxplot(data=normalizedCounts_ISEs_destroyed)\n",
    "plt.ylabel(\"Normalized Counts\")\n",
    "plt.title(\"Frequency of ISE motifs destroyed\")\n",
    "plt.show()"
   ]
  },
  {
   "cell_type": "code",
   "execution_count": 5,
   "metadata": {},
   "outputs": [
    {
     "data": {
      "text/plain": [
       "MannwhitneyuResult(statistic=3358.0, pvalue=0.19976610505011094)"
      ]
     },
     "execution_count": 5,
     "metadata": {},
     "output_type": "execute_result"
    }
   ],
   "source": [
    "# Calculate p-value\n",
    "scipy.stats.mannwhitneyu(normalizedCounts_ISEs_destroyed[\"DAVs\"], normalizedCounts_ISEs_destroyed[\"commonSNPs\"], use_continuity=True, alternative=\"two-sided\")"
   ]
  },
  {
   "cell_type": "code",
   "execution_count": 7,
   "metadata": {},
   "outputs": [
    {
     "data": {
      "text/plain": [
       "array(['GGTCGG', 'AACGGG', 'GGTAAG', 'GTAACG', 'GGGGGG', 'AGGTAA',\n",
       "       'GTATGG', 'GGAGGT', 'GGTAGG', 'GAGTGG', 'AGGGGG', 'GGTGGG',\n",
       "       'GGGGTA', 'AGTGTG', 'GGGAGG', 'TGGTGG', 'AGGTAT', 'GTGGGT',\n",
       "       'TAACGG', 'AGTGGG'], dtype=object)"
      ]
     },
     "execution_count": 7,
     "metadata": {},
     "output_type": "execute_result"
    }
   ],
   "source": [
    "# Top ten most represented motifs in DAVs\n",
    "motifsMostRepresented_DAVs = normalizedCounts_ISEs_destroyed_DAVs[0].values[0:20]\n",
    "#list(set(list(normalizedCounts_ISEs_destroyed_DAVs[0].values[0:10]) + list(normalizedCounts_ISEs_destroyed_SNPs[0].values[0:10])))\n",
    "motifsMostRepresented_DAVs"
   ]
  },
  {
   "cell_type": "code",
   "execution_count": 8,
   "metadata": {},
   "outputs": [
    {
     "data": {
      "text/html": [
       "<div>\n",
       "<table border=\"1\" class=\"dataframe\">\n",
       "  <thead>\n",
       "    <tr style=\"text-align: right;\">\n",
       "      <th></th>\n",
       "      <th>DAVs</th>\n",
       "      <th>commonSNPs</th>\n",
       "    </tr>\n",
       "  </thead>\n",
       "  <tbody>\n",
       "    <tr>\n",
       "      <th>0</th>\n",
       "      <td>49.227328</td>\n",
       "      <td>21.858657</td>\n",
       "    </tr>\n",
       "    <tr>\n",
       "      <th>1</th>\n",
       "      <td>29.643463</td>\n",
       "      <td>21.271420</td>\n",
       "    </tr>\n",
       "    <tr>\n",
       "      <th>2</th>\n",
       "      <td>19.369879</td>\n",
       "      <td>21.039432</td>\n",
       "    </tr>\n",
       "    <tr>\n",
       "      <th>3</th>\n",
       "      <td>16.106715</td>\n",
       "      <td>18.916677</td>\n",
       "    </tr>\n",
       "    <tr>\n",
       "      <th>4</th>\n",
       "      <td>15.786221</td>\n",
       "      <td>15.254118</td>\n",
       "    </tr>\n",
       "  </tbody>\n",
       "</table>\n",
       "</div>"
      ],
      "text/plain": [
       "        DAVs  commonSNPs\n",
       "0  49.227328   21.858657\n",
       "1  29.643463   21.271420\n",
       "2  19.369879   21.039432\n",
       "3  16.106715   18.916677\n",
       "4  15.786221   15.254118"
      ]
     },
     "execution_count": 8,
     "metadata": {},
     "output_type": "execute_result"
    }
   ],
   "source": [
    "# Make a new data frame which has both normalized counts with most represented motifs in both groups\n",
    "normalizedCounts_ISEs_destroyed = pd.DataFrame({\"DAVs\":normalizedCounts_ISEs_destroyed_DAVs[normalizedCounts_ISEs_destroyed_DAVs[0].isin(motifsMostRepresented_DAVs)][2].values,\n",
    "                                                \"commonSNPs\":normalizedCounts_ISEs_destroyed_SNPs[normalizedCounts_ISEs_destroyed_SNPs[0].isin(motifsMostRepresented_DAVs)][2].values})\n",
    "normalizedCounts_ISEs_destroyed.head()"
   ]
  },
  {
   "cell_type": "code",
   "execution_count": 9,
   "metadata": {},
   "outputs": [
    {
     "data": {
      "image/png": "[encoded data removed]",
      "text/plain": [
       "<matplotlib.figure.Figure at 0x7fc75e1bb890>"
      ]
     },
     "metadata": {},
     "output_type": "display_data"
    }
   ],
   "source": [
    "# Create a box plot for normalized counts \n",
    "sns.boxplot(data=normalizedCounts_ISEs_destroyed)\n",
    "plt.ylabel(\"Normalized Counts\")\n",
    "plt.title(\"Frequency of ISE motifs destroyed: Top 20 Overrepresented Motifs in DAVs\")\n",
    "plt.show()"
   ]
  },
  {
   "cell_type": "code",
   "execution_count": 10,
   "metadata": {
    "scrolled": true
   },
   "outputs": [
    {
     "data": {
      "text/plain": [
       "MannwhitneyuResult(statistic=314.0, pvalue=0.0021392613957354222)"
      ]
     },
     "execution_count": 10,
     "metadata": {},
     "output_type": "execute_result"
    }
   ],
   "source": [
    "# Calculate p-value\n",
    "scipy.stats.mannwhitneyu(normalizedCounts_ISEs_destroyed[\"DAVs\"], normalizedCounts_ISEs_destroyed[\"commonSNPs\"], use_continuity=True, alternative=\"two-sided\")\n"
   ]
  },
  {
   "cell_type": "code",
   "execution_count": 11,
   "metadata": {},
   "outputs": [
    {
     "data": {
      "text/plain": [
       "array(['TTACGG', 'TAACGG', 'AACGGG', 'GTAACG', 'GGTCGG', 'GGGGGG',\n",
       "       'GGGGGT', 'AGGGGG', 'TGGGGG', 'GGGGGA', 'TGGTGG', 'GGTGGT',\n",
       "       'GTATGG', 'AGGTTG', 'GGGTTT', 'GGGAGG', 'GGAGGT', 'ATTGGG',\n",
       "       'GTGTGG', 'GGGGTA'], dtype=object)"
      ]
     },
     "execution_count": 11,
     "metadata": {},
     "output_type": "execute_result"
    }
   ],
   "source": [
    "# Top ten most represented motifs in common SNPs\n",
    "motifsMostRepresented_SNPs = normalizedCounts_ISEs_destroyed_SNPs[0].values[0:20]\n",
    "#list(set(list(normalizedCounts_ISEs_destroyed_DAVs[0].values[0:10]) + list(normalizedCounts_ISEs_destroyed_SNPs[0].values[0:10])))\n",
    "motifsMostRepresented_SNPs"
   ]
  },
  {
   "cell_type": "code",
   "execution_count": 12,
   "metadata": {},
   "outputs": [
    {
     "data": {
      "text/html": [
       "<div>\n",
       "<table border=\"1\" class=\"dataframe\">\n",
       "  <thead>\n",
       "    <tr style=\"text-align: right;\">\n",
       "      <th></th>\n",
       "      <th>DAVs</th>\n",
       "      <th>commonSNPs</th>\n",
       "    </tr>\n",
       "  </thead>\n",
       "  <tbody>\n",
       "    <tr>\n",
       "      <th>0</th>\n",
       "      <td>49.227328</td>\n",
       "      <td>27.736242</td>\n",
       "    </tr>\n",
       "    <tr>\n",
       "      <th>1</th>\n",
       "      <td>29.643463</td>\n",
       "      <td>21.858657</td>\n",
       "    </tr>\n",
       "    <tr>\n",
       "      <th>2</th>\n",
       "      <td>16.106715</td>\n",
       "      <td>21.271420</td>\n",
       "    </tr>\n",
       "    <tr>\n",
       "      <th>3</th>\n",
       "      <td>15.786221</td>\n",
       "      <td>21.039432</td>\n",
       "    </tr>\n",
       "    <tr>\n",
       "      <th>4</th>\n",
       "      <td>14.737051</td>\n",
       "      <td>18.916677</td>\n",
       "    </tr>\n",
       "  </tbody>\n",
       "</table>\n",
       "</div>"
      ],
      "text/plain": [
       "        DAVs  commonSNPs\n",
       "0  49.227328   27.736242\n",
       "1  29.643463   21.858657\n",
       "2  16.106715   21.271420\n",
       "3  15.786221   21.039432\n",
       "4  14.737051   18.916677"
      ]
     },
     "execution_count": 12,
     "metadata": {},
     "output_type": "execute_result"
    }
   ],
   "source": [
    "# Make a new data frame which has both normalized counts with most represented motifs in both groups\n",
    "normalizedCounts_ISEs_destroyed = pd.DataFrame({\"DAVs\":normalizedCounts_ISEs_destroyed_DAVs[normalizedCounts_ISEs_destroyed_DAVs[0].isin(motifsMostRepresented_SNPs)][2].values,\n",
    "                                                \"commonSNPs\":normalizedCounts_ISEs_destroyed_SNPs[normalizedCounts_ISEs_destroyed_SNPs[0].isin(motifsMostRepresented_SNPs)][2].values})\n",
    "normalizedCounts_ISEs_destroyed.head()"
   ]
  },
  {
   "cell_type": "code",
   "execution_count": 13,
   "metadata": {},
   "outputs": [
    {
     "data": {
      "image/png": "[encoded data removed]",
      "text/plain": [
       "<matplotlib.figure.Figure at 0x7fc75c11e750>"
      ]
     },
     "metadata": {},
     "output_type": "display_data"
    }
   ],
   "source": [
    "# Create a box plot for normalized counts \n",
    "sns.boxplot(data=normalizedCounts_ISEs_destroyed)\n",
    "plt.ylabel(\"Normalized Counts\")\n",
    "plt.title(\"Frequency of ISE motifs destroyed: Top 20 Overrepresented Motifs in SNPs\")\n",
    "plt.show()"
   ]
  },
  {
   "cell_type": "code",
   "execution_count": 14,
   "metadata": {},
   "outputs": [
    {
     "data": {
      "text/plain": [
       "MannwhitneyuResult(statistic=199.0, pvalue=0.98920890479111956)"
      ]
     },
     "execution_count": 14,
     "metadata": {},
     "output_type": "execute_result"
    }
   ],
   "source": [
    "# Calculate p-value\n",
    "scipy.stats.mannwhitneyu(normalizedCounts_ISEs_destroyed[\"DAVs\"], normalizedCounts_ISEs_destroyed[\"commonSNPs\"], use_continuity=True, alternative=\"two-sided\")\n"
   ]
  },
  {
   "cell_type": "code",
   "execution_count": 15,
   "metadata": {},
   "outputs": [],
   "source": [
    "# Get normalized counts for DAvs and commonSNPs\n",
    "normalizedCounts_ISSs_destroyed_DAVs = pd.read_csv(\"../temp/ISSs_destroyed_DAVs_NormalizedCounts.txt\",sep=\"\\t\",header=None)\n",
    "normalizedCounts_ISSs_destroyed_SNPs = pd.read_csv(\"../temp/ISSs_destroyed_commonSNPs_NormalizedCounts.txt\",sep=\"\\t\",header=None)"
   ]
  },
  {
   "cell_type": "code",
   "execution_count": 16,
   "metadata": {},
   "outputs": [
    {
     "data": {
      "text/html": [
       "<div>\n",
       "<table border=\"1\" class=\"dataframe\">\n",
       "  <thead>\n",
       "    <tr style=\"text-align: right;\">\n",
       "      <th></th>\n",
       "      <th>DAVs</th>\n",
       "      <th>commonSNPs</th>\n",
       "    </tr>\n",
       "  </thead>\n",
       "  <tbody>\n",
       "    <tr>\n",
       "      <th>0</th>\n",
       "      <td>24.375428</td>\n",
       "      <td>20.083206</td>\n",
       "    </tr>\n",
       "    <tr>\n",
       "      <th>1</th>\n",
       "      <td>22.643536</td>\n",
       "      <td>18.875271</td>\n",
       "    </tr>\n",
       "    <tr>\n",
       "      <th>2</th>\n",
       "      <td>21.718621</td>\n",
       "      <td>16.705853</td>\n",
       "    </tr>\n",
       "    <tr>\n",
       "      <th>3</th>\n",
       "      <td>21.239168</td>\n",
       "      <td>16.395486</td>\n",
       "    </tr>\n",
       "    <tr>\n",
       "      <th>4</th>\n",
       "      <td>20.443536</td>\n",
       "      <td>16.153455</td>\n",
       "    </tr>\n",
       "  </tbody>\n",
       "</table>\n",
       "</div>"
      ],
      "text/plain": [
       "        DAVs  commonSNPs\n",
       "0  24.375428   20.083206\n",
       "1  22.643536   18.875271\n",
       "2  21.718621   16.705853\n",
       "3  21.239168   16.395486\n",
       "4  20.443536   16.153455"
      ]
     },
     "execution_count": 16,
     "metadata": {},
     "output_type": "execute_result"
    }
   ],
   "source": [
    "# Make a new data frame which has both normalized counts\n",
    "normalizedCounts_ISSs_destroyed = pd.DataFrame({\"DAVs\":normalizedCounts_ISSs_destroyed_DAVs[2],\"commonSNPs\":normalizedCounts_ISSs_destroyed_SNPs[2]})\n",
    "normalizedCounts_ISSs_destroyed.head()\n"
   ]
  },
  {
   "cell_type": "code",
   "execution_count": 17,
   "metadata": {},
   "outputs": [
    {
     "data": {
      "image/png": "[encoded data removed]",
      "text/plain": [
       "<matplotlib.figure.Figure at 0x7fc75c050050>"
      ]
     },
     "metadata": {},
     "output_type": "display_data"
    }
   ],
   "source": [
    "# Create a box plot for normalized counts \n",
    "sns.boxplot(data=normalizedCounts_ISSs_destroyed)\n",
    "plt.ylabel(\"Normalized Counts\")\n",
    "plt.title(\"Frequency of ISS motifs destroyed\")\n",
    "plt.show()"
   ]
  },
  {
   "cell_type": "code",
   "execution_count": 18,
   "metadata": {},
   "outputs": [
    {
     "data": {
      "text/plain": [
       "MannwhitneyuResult(statistic=1261.0, pvalue=0.94229543524786619)"
      ]
     },
     "execution_count": 18,
     "metadata": {},
     "output_type": "execute_result"
    }
   ],
   "source": [
    "# Calculate p-value\n",
    "scipy.stats.mannwhitneyu(normalizedCounts_ISSs_destroyed[\"DAVs\"], normalizedCounts_ISSs_destroyed[\"commonSNPs\"], use_continuity=True, alternative=\"two-sided\")"
   ]
  },
  {
   "cell_type": "code",
   "execution_count": 23,
   "metadata": {},
   "outputs": [
    {
     "data": {
      "text/plain": [
       "array(['AGTACA', 'GACATG', 'TACAGC', 'GTACAG', 'ACATGG', 'ACAGCT',\n",
       "       'ACATGA', 'GGAACC', 'CCTCCA', 'ACATGC', 'GAACCT', 'CAAAGG',\n",
       "       'GATAGG', 'TGCAAA', 'GCAAAG', 'GAACAG', 'TTCAGG', 'GGAACT',\n",
       "       'TATAGG', 'TCTTCA'], dtype=object)"
      ]
     },
     "execution_count": 23,
     "metadata": {},
     "output_type": "execute_result"
    }
   ],
   "source": [
    "# Top ten most represented motifs in both DAVs and SNPs\n",
    "motifsMostRepresented_DAVs = normalizedCounts_ISSs_destroyed_DAVs[0].values[0:20]\n",
    "#list(set(list(normalizedCounts_ISSs_destroyed_DAVs[0].values[0:10]) + list(normalizedCounts_ISSs_destroyed_SNPs[0].values[0:10])))\n",
    "motifsMostRepresented_DAVs"
   ]
  },
  {
   "cell_type": "code",
   "execution_count": 24,
   "metadata": {},
   "outputs": [
    {
     "data": {
      "text/html": [
       "<div>\n",
       "<table border=\"1\" class=\"dataframe\">\n",
       "  <thead>\n",
       "    <tr style=\"text-align: right;\">\n",
       "      <th></th>\n",
       "      <th>DAVs</th>\n",
       "      <th>commonSNPs</th>\n",
       "    </tr>\n",
       "  </thead>\n",
       "  <tbody>\n",
       "    <tr>\n",
       "      <th>0</th>\n",
       "      <td>24.375428</td>\n",
       "      <td>20.083206</td>\n",
       "    </tr>\n",
       "    <tr>\n",
       "      <th>1</th>\n",
       "      <td>22.643536</td>\n",
       "      <td>18.875271</td>\n",
       "    </tr>\n",
       "    <tr>\n",
       "      <th>2</th>\n",
       "      <td>21.718621</td>\n",
       "      <td>16.153455</td>\n",
       "    </tr>\n",
       "    <tr>\n",
       "      <th>3</th>\n",
       "      <td>21.239168</td>\n",
       "      <td>15.543127</td>\n",
       "    </tr>\n",
       "    <tr>\n",
       "      <th>4</th>\n",
       "      <td>20.443536</td>\n",
       "      <td>15.394126</td>\n",
       "    </tr>\n",
       "  </tbody>\n",
       "</table>\n",
       "</div>"
      ],
      "text/plain": [
       "        DAVs  commonSNPs\n",
       "0  24.375428   20.083206\n",
       "1  22.643536   18.875271\n",
       "2  21.718621   16.153455\n",
       "3  21.239168   15.543127\n",
       "4  20.443536   15.394126"
      ]
     },
     "execution_count": 24,
     "metadata": {},
     "output_type": "execute_result"
    }
   ],
   "source": [
    "# Make a new data frame which has both normalized counts with most represented motifs in both groups\n",
    "normalizedCounts_ISSs_destroyed = pd.DataFrame({\"DAVs\":normalizedCounts_ISSs_destroyed_DAVs[normalizedCounts_ISSs_destroyed_DAVs[0].isin(motifsMostRepresented_DAVs)][2].values,\n",
    "                                                \"commonSNPs\":normalizedCounts_ISSs_destroyed_SNPs[normalizedCounts_ISSs_destroyed_SNPs[0].isin(motifsMostRepresented_DAVs)][2].values})\n",
    "normalizedCounts_ISSs_destroyed.head()"
   ]
  },
  {
   "cell_type": "code",
   "execution_count": 25,
   "metadata": {},
   "outputs": [
    {
     "data": {
      "image/png": "[encoded data removed]",
      "text/plain": [
       "<matplotlib.figure.Figure at 0x7fc75bfc8e50>"
      ]
     },
     "metadata": {},
     "output_type": "display_data"
    }
   ],
   "source": [
    "# Create a box plot for normalized counts \n",
    "sns.boxplot(data=normalizedCounts_ISSs_destroyed)\n",
    "plt.ylabel(\"Normalized Counts\")\n",
    "plt.title(\"Frequency of ISS motifs destroyed: Top 20 Overrepresented Motifs in DAVs\")\n",
    "plt.show()"
   ]
  },
  {
   "cell_type": "code",
   "execution_count": 26,
   "metadata": {
    "scrolled": true
   },
   "outputs": [
    {
     "data": {
      "text/plain": [
       "MannwhitneyuResult(statistic=339.0, pvalue=0.00017936378528946248)"
      ]
     },
     "execution_count": 26,
     "metadata": {},
     "output_type": "execute_result"
    }
   ],
   "source": [
    "# Calculate p-value\n",
    "scipy.stats.mannwhitneyu(normalizedCounts_ISSs_destroyed[\"DAVs\"], normalizedCounts_ISSs_destroyed[\"commonSNPs\"], use_continuity=True, alternative=\"two-sided\")\n"
   ]
  },
  {
   "cell_type": "code",
   "execution_count": 27,
   "metadata": {},
   "outputs": [
    {
     "data": {
      "text/plain": [
       "array(['ACATGG', 'ACATGC', 'CATGAT', 'GAGTAG', 'GACATG', 'GTACAG',\n",
       "       'TATAGG', 'ACATGA', 'GTCAGG', 'AGATAG', 'AGTACA', 'GAACCT',\n",
       "       'TACAGC', 'AGATAT', 'GATAGG', 'AGACAT', 'GAACAT', 'GGAACC',\n",
       "       'CCTCCA', 'AACAGT'], dtype=object)"
      ]
     },
     "execution_count": 27,
     "metadata": {},
     "output_type": "execute_result"
    }
   ],
   "source": [
    "# Top ten most represented motifs in  SNPs\n",
    "motifsMostRepresented_SNPs = normalizedCounts_ISSs_destroyed_SNPs[0].values[0:20]\n",
    "#list(set(list(normalizedCounts_ISSs_destroyed_DAVs[0].values[0:10]) + list(normalizedCounts_ISSs_destroyed_SNPs[0].values[0:10])))\n",
    "motifsMostRepresented_SNPs"
   ]
  },
  {
   "cell_type": "code",
   "execution_count": 28,
   "metadata": {},
   "outputs": [
    {
     "data": {
      "text/html": [
       "<div>\n",
       "<table border=\"1\" class=\"dataframe\">\n",
       "  <thead>\n",
       "    <tr style=\"text-align: right;\">\n",
       "      <th></th>\n",
       "      <th>DAVs</th>\n",
       "      <th>commonSNPs</th>\n",
       "    </tr>\n",
       "  </thead>\n",
       "  <tbody>\n",
       "    <tr>\n",
       "      <th>0</th>\n",
       "      <td>24.375428</td>\n",
       "      <td>20.083206</td>\n",
       "    </tr>\n",
       "    <tr>\n",
       "      <th>1</th>\n",
       "      <td>22.643536</td>\n",
       "      <td>18.875271</td>\n",
       "    </tr>\n",
       "    <tr>\n",
       "      <th>2</th>\n",
       "      <td>21.718621</td>\n",
       "      <td>16.705853</td>\n",
       "    </tr>\n",
       "    <tr>\n",
       "      <th>3</th>\n",
       "      <td>21.239168</td>\n",
       "      <td>16.395486</td>\n",
       "    </tr>\n",
       "    <tr>\n",
       "      <th>4</th>\n",
       "      <td>20.443536</td>\n",
       "      <td>16.153455</td>\n",
       "    </tr>\n",
       "  </tbody>\n",
       "</table>\n",
       "</div>"
      ],
      "text/plain": [
       "        DAVs  commonSNPs\n",
       "0  24.375428   20.083206\n",
       "1  22.643536   18.875271\n",
       "2  21.718621   16.705853\n",
       "3  21.239168   16.395486\n",
       "4  20.443536   16.153455"
      ]
     },
     "execution_count": 28,
     "metadata": {},
     "output_type": "execute_result"
    }
   ],
   "source": [
    "# Make a new data frame which has both normalized counts with most represented motifs in both groups\n",
    "normalizedCounts_ISSs_destroyed = pd.DataFrame({\"DAVs\":normalizedCounts_ISSs_destroyed_DAVs[normalizedCounts_ISSs_destroyed_DAVs[0].isin(motifsMostRepresented_SNPs)][2].values,\n",
    "                                                \"commonSNPs\":normalizedCounts_ISSs_destroyed_SNPs[normalizedCounts_ISSs_destroyed_SNPs[0].isin(motifsMostRepresented_SNPs)][2].values})\n",
    "normalizedCounts_ISSs_destroyed.head()"
   ]
  },
  {
   "cell_type": "code",
   "execution_count": 29,
   "metadata": {},
   "outputs": [
    {
     "data": {
      "image/png": "[encoded data removed]",
      "text/plain": [
       "<matplotlib.figure.Figure at 0x7fc75bdfbb10>"
      ]
     },
     "metadata": {},
     "output_type": "display_data"
    }
   ],
   "source": [
    "# Create a box plot for normalized counts \n",
    "sns.boxplot(data=normalizedCounts_ISSs_destroyed)\n",
    "plt.ylabel(\"Normalized Counts\")\n",
    "plt.title(\"Frequency of ISS motifs destroyed: Top 20 Overrepresented Motifs in SNPs\")\n",
    "plt.show()"
   ]
  },
  {
   "cell_type": "code",
   "execution_count": 30,
   "metadata": {
    "scrolled": true
   },
   "outputs": [
    {
     "data": {
      "text/plain": [
       "MannwhitneyuResult(statistic=206.0, pvalue=0.88173079173912428)"
      ]
     },
     "execution_count": 30,
     "metadata": {},
     "output_type": "execute_result"
    }
   ],
   "source": [
    "# Calculate p-value\n",
    "scipy.stats.mannwhitneyu(normalizedCounts_ISSs_destroyed[\"DAVs\"], normalizedCounts_ISSs_destroyed[\"commonSNPs\"], use_continuity=True, alternative=\"two-sided\")\n"
   ]
  },
  {
   "cell_type": "markdown",
   "metadata": {},
   "source": [
    "###  Take a look at overrepresented ISREs in ISREs created by DAVs and SNPs"
   ]
  },
  {
   "cell_type": "code",
   "execution_count": 31,
   "metadata": {},
   "outputs": [],
   "source": [
    "# Get normalized counts for DAvs and commonSNPs\n",
    "normalizedCounts_ISEs_created_DAVs = pd.read_csv(\"../temp/ISEs_created_DAVs_NormalizedCounts.txt\",sep=\"\\t\",header=None)\n",
    "normalizedCounts_ISEs_created_SNPs = pd.read_csv(\"../temp/ISEs_created_CommonSNPs_NormalizedCounts.txt\",sep=\"\\t\",header=None)"
   ]
  },
  {
   "cell_type": "code",
   "execution_count": 32,
   "metadata": {},
   "outputs": [
    {
     "data": {
      "text/html": [
       "<div>\n",
       "<table border=\"1\" class=\"dataframe\">\n",
       "  <thead>\n",
       "    <tr style=\"text-align: right;\">\n",
       "      <th></th>\n",
       "      <th>DAVs</th>\n",
       "      <th>commonSNPs</th>\n",
       "    </tr>\n",
       "  </thead>\n",
       "  <tbody>\n",
       "    <tr>\n",
       "      <th>0</th>\n",
       "      <td>32.625916</td>\n",
       "      <td>30.394095</td>\n",
       "    </tr>\n",
       "    <tr>\n",
       "      <th>1</th>\n",
       "      <td>29.630194</td>\n",
       "      <td>22.933202</td>\n",
       "    </tr>\n",
       "    <tr>\n",
       "      <th>2</th>\n",
       "      <td>28.117310</td>\n",
       "      <td>22.202864</td>\n",
       "    </tr>\n",
       "    <tr>\n",
       "      <th>3</th>\n",
       "      <td>24.027475</td>\n",
       "      <td>21.837881</td>\n",
       "    </tr>\n",
       "    <tr>\n",
       "      <th>4</th>\n",
       "      <td>19.318273</td>\n",
       "      <td>17.187331</td>\n",
       "    </tr>\n",
       "  </tbody>\n",
       "</table>\n",
       "</div>"
      ],
      "text/plain": [
       "        DAVs  commonSNPs\n",
       "0  32.625916   30.394095\n",
       "1  29.630194   22.933202\n",
       "2  28.117310   22.202864\n",
       "3  24.027475   21.837881\n",
       "4  19.318273   17.187331"
      ]
     },
     "execution_count": 32,
     "metadata": {},
     "output_type": "execute_result"
    }
   ],
   "source": [
    "# Make a new data frame which has both normalized counts\n",
    "normalizedCounts_ISEs_created = pd.DataFrame({\"DAVs\":normalizedCounts_ISEs_created_DAVs[2],\"commonSNPs\":normalizedCounts_ISEs_created_SNPs[2]})\n",
    "normalizedCounts_ISEs_created.head()\n"
   ]
  },
  {
   "cell_type": "code",
   "execution_count": 33,
   "metadata": {},
   "outputs": [
    {
     "data": {
      "image/png": "[encoded data removed]",
      "text/plain": [
       "<matplotlib.figure.Figure at 0x7fc75bd17990>"
      ]
     },
     "metadata": {},
     "output_type": "display_data"
    }
   ],
   "source": [
    "# Create a box plot for normalized counts \n",
    "sns.boxplot(data=normalizedCounts_ISEs_created)\n",
    "plt.ylabel(\"Normalized Counts\")\n",
    "plt.title(\"Frequency of ISE motifs created\")\n",
    "plt.show()"
   ]
  },
  {
   "cell_type": "code",
   "execution_count": 34,
   "metadata": {},
   "outputs": [
    {
     "data": {
      "text/plain": [
       "MannwhitneyuResult(statistic=3539.0, pvalue=0.46086334491942693)"
      ]
     },
     "execution_count": 34,
     "metadata": {},
     "output_type": "execute_result"
    }
   ],
   "source": [
    "# Calculate p-value\n",
    "scipy.stats.mannwhitneyu(normalizedCounts_ISEs_created[\"DAVs\"], normalizedCounts_ISEs_created[\"commonSNPs\"], use_continuity=True, alternative=\"two-sided\")"
   ]
  },
  {
   "cell_type": "code",
   "execution_count": 36,
   "metadata": {},
   "outputs": [
    {
     "data": {
      "text/plain": [
       "array(['TTACGG', 'AACGGG', 'GGTCGG', 'GGGTAG', 'GGTAGG', 'TAACGG',\n",
       "       'TAAGGG', 'GTAGGG', 'GAGGTA', 'GGTTAG', 'GGGGTA', 'AGGTAT',\n",
       "       'GGGGGT', 'GTAAGG', 'AGGTAG', 'AGGTAA', 'GGTTGG', 'AGTGGG',\n",
       "       'AGAGGT', 'GGGGGG'], dtype=object)"
      ]
     },
     "execution_count": 36,
     "metadata": {},
     "output_type": "execute_result"
    }
   ],
   "source": [
    "# Top ten most represented motifs in both DAVs and SNPs\n",
    "motifsMostRepresented_DAVs = normalizedCounts_ISEs_created_DAVs[0].values[0:20]\n",
    "#list(set(list(normalizedCounts_ISEs_created_DAVs[0].values[0:10]) + list(normalizedCounts_ISEs_created_SNPs[0].values[0:10])))\n",
    "motifsMostRepresented_DAVs"
   ]
  },
  {
   "cell_type": "code",
   "execution_count": 37,
   "metadata": {},
   "outputs": [
    {
     "data": {
      "text/html": [
       "<div>\n",
       "<table border=\"1\" class=\"dataframe\">\n",
       "  <thead>\n",
       "    <tr style=\"text-align: right;\">\n",
       "      <th></th>\n",
       "      <th>DAVs</th>\n",
       "      <th>commonSNPs</th>\n",
       "    </tr>\n",
       "  </thead>\n",
       "  <tbody>\n",
       "    <tr>\n",
       "      <th>0</th>\n",
       "      <td>32.625916</td>\n",
       "      <td>30.394095</td>\n",
       "    </tr>\n",
       "    <tr>\n",
       "      <th>1</th>\n",
       "      <td>29.630194</td>\n",
       "      <td>22.202864</td>\n",
       "    </tr>\n",
       "    <tr>\n",
       "      <th>2</th>\n",
       "      <td>28.117310</td>\n",
       "      <td>21.837881</td>\n",
       "    </tr>\n",
       "    <tr>\n",
       "      <th>3</th>\n",
       "      <td>24.027475</td>\n",
       "      <td>17.187331</td>\n",
       "    </tr>\n",
       "    <tr>\n",
       "      <th>4</th>\n",
       "      <td>19.318273</td>\n",
       "      <td>12.449176</td>\n",
       "    </tr>\n",
       "  </tbody>\n",
       "</table>\n",
       "</div>"
      ],
      "text/plain": [
       "        DAVs  commonSNPs\n",
       "0  32.625916   30.394095\n",
       "1  29.630194   22.202864\n",
       "2  28.117310   21.837881\n",
       "3  24.027475   17.187331\n",
       "4  19.318273   12.449176"
      ]
     },
     "execution_count": 37,
     "metadata": {},
     "output_type": "execute_result"
    }
   ],
   "source": [
    "# Make a new data frame which has both normalized counts with most represented motifs in both groups\n",
    "normalizedCounts_ISEs_created = pd.DataFrame({\"DAVs\":normalizedCounts_ISEs_created_DAVs[normalizedCounts_ISEs_created_DAVs[0].isin(motifsMostRepresented_DAVs)][2].values,\n",
    "                                                \"commonSNPs\":normalizedCounts_ISEs_created_SNPs[normalizedCounts_ISEs_created_SNPs[0].isin(motifsMostRepresented_DAVs)][2].values})\n",
    "normalizedCounts_ISEs_created.head()"
   ]
  },
  {
   "cell_type": "code",
   "execution_count": 38,
   "metadata": {},
   "outputs": [
    {
     "data": {
      "image/png": "[encoded data removed]",
      "text/plain": [
       "<matplotlib.figure.Figure at 0x7fc75bdfb0d0>"
      ]
     },
     "metadata": {},
     "output_type": "display_data"
    }
   ],
   "source": [
    "# Create a box plot for normalized counts \n",
    "sns.boxplot(data=normalizedCounts_ISEs_created)\n",
    "plt.ylabel(\"Normalized Counts\")\n",
    "plt.title(\"Frequency of ISE motifs created: Top 20 Overrepresented Motifs in DAVs\")\n",
    "plt.show()"
   ]
  },
  {
   "cell_type": "code",
   "execution_count": 39,
   "metadata": {
    "scrolled": true
   },
   "outputs": [
    {
     "data": {
      "text/plain": [
       "MannwhitneyuResult(statistic=325.0, pvalue=0.00075788106991936572)"
      ]
     },
     "execution_count": 39,
     "metadata": {},
     "output_type": "execute_result"
    }
   ],
   "source": [
    "# Calculate p-value\n",
    "scipy.stats.mannwhitneyu(normalizedCounts_ISEs_created[\"DAVs\"], normalizedCounts_ISEs_created[\"commonSNPs\"], use_continuity=True, alternative=\"two-sided\")\n"
   ]
  },
  {
   "cell_type": "code",
   "execution_count": 40,
   "metadata": {},
   "outputs": [
    {
     "data": {
      "text/plain": [
       "array(['TTACGG', 'GTAACG', 'TAACGG', 'AACGGG', 'GGTCGG', 'GGGGGG',\n",
       "       'GTATGG', 'GGTGGT', 'TGGTGG', 'GTGTGG', 'GGGGGT', 'AGGTTG',\n",
       "       'AGGGTT', 'AGAGTG', 'AGTGTG', 'AGGGGG', 'GTTGGG', 'GGTAGT',\n",
       "       'TATGGG', 'ATTGGG'], dtype=object)"
      ]
     },
     "execution_count": 40,
     "metadata": {},
     "output_type": "execute_result"
    }
   ],
   "source": [
    "# Top ten most represented motifs in both DAVs and SNPs\n",
    "motifsMostRepresented_SNPs = normalizedCounts_ISEs_created_SNPs[0].values[0:20]\n",
    "#list(set(list(normalizedCounts_ISEs_created_DAVs[0].values[0:10]) + list(normalizedCounts_ISEs_created_SNPs[0].values[0:10])))\n",
    "motifsMostRepresented_SNPs"
   ]
  },
  {
   "cell_type": "code",
   "execution_count": 41,
   "metadata": {},
   "outputs": [
    {
     "data": {
      "text/html": [
       "<div>\n",
       "<table border=\"1\" class=\"dataframe\">\n",
       "  <thead>\n",
       "    <tr style=\"text-align: right;\">\n",
       "      <th></th>\n",
       "      <th>DAVs</th>\n",
       "      <th>commonSNPs</th>\n",
       "    </tr>\n",
       "  </thead>\n",
       "  <tbody>\n",
       "    <tr>\n",
       "      <th>0</th>\n",
       "      <td>32.625916</td>\n",
       "      <td>30.394095</td>\n",
       "    </tr>\n",
       "    <tr>\n",
       "      <th>1</th>\n",
       "      <td>29.630194</td>\n",
       "      <td>22.933202</td>\n",
       "    </tr>\n",
       "    <tr>\n",
       "      <th>2</th>\n",
       "      <td>28.117310</td>\n",
       "      <td>22.202864</td>\n",
       "    </tr>\n",
       "    <tr>\n",
       "      <th>3</th>\n",
       "      <td>18.093273</td>\n",
       "      <td>21.837881</td>\n",
       "    </tr>\n",
       "    <tr>\n",
       "      <th>4</th>\n",
       "      <td>11.287248</td>\n",
       "      <td>17.187331</td>\n",
       "    </tr>\n",
       "  </tbody>\n",
       "</table>\n",
       "</div>"
      ],
      "text/plain": [
       "        DAVs  commonSNPs\n",
       "0  32.625916   30.394095\n",
       "1  29.630194   22.933202\n",
       "2  28.117310   22.202864\n",
       "3  18.093273   21.837881\n",
       "4  11.287248   17.187331"
      ]
     },
     "execution_count": 41,
     "metadata": {},
     "output_type": "execute_result"
    }
   ],
   "source": [
    "# Make a new data frame which has both normalized counts with most represented motifs in both groups\n",
    "normalizedCounts_ISEs_created = pd.DataFrame({\"DAVs\":normalizedCounts_ISEs_created_DAVs[normalizedCounts_ISEs_created_DAVs[0].isin(motifsMostRepresented_SNPs)][2].values,\n",
    "                                                \"commonSNPs\":normalizedCounts_ISEs_created_SNPs[normalizedCounts_ISEs_created_SNPs[0].isin(motifsMostRepresented_SNPs)][2].values})\n",
    "normalizedCounts_ISEs_created.head()"
   ]
  },
  {
   "cell_type": "code",
   "execution_count": 42,
   "metadata": {},
   "outputs": [
    {
     "data": {
      "image/png": "[encoded data removed]",
      "text/plain": [
       "<matplotlib.figure.Figure at 0x7fc75bce99d0>"
      ]
     },
     "metadata": {},
     "output_type": "display_data"
    }
   ],
   "source": [
    "# Create a box plot for normalized counts \n",
    "sns.boxplot(data=normalizedCounts_ISEs_created)\n",
    "plt.ylabel(\"Normalized Counts\")\n",
    "plt.title(\"Frequency of ISE motifs created: Top 20 Overrepresented Motifs in SNPs\")\n",
    "plt.show()"
   ]
  },
  {
   "cell_type": "code",
   "execution_count": 43,
   "metadata": {
    "scrolled": true
   },
   "outputs": [
    {
     "data": {
      "text/plain": [
       "MannwhitneyuResult(statistic=120.0, pvalue=0.03151710207456157)"
      ]
     },
     "execution_count": 43,
     "metadata": {},
     "output_type": "execute_result"
    }
   ],
   "source": [
    "# Calculate p-value\n",
    "scipy.stats.mannwhitneyu(normalizedCounts_ISEs_created[\"DAVs\"], normalizedCounts_ISEs_created[\"commonSNPs\"], use_continuity=True, alternative=\"two-sided\")\n"
   ]
  },
  {
   "cell_type": "code",
   "execution_count": 44,
   "metadata": {},
   "outputs": [],
   "source": [
    "# Get normalized counts for DAvs and commonSNPs\n",
    "normalizedCounts_ISSs_created_DAVs = pd.read_csv(\"../temp/ISSs_created_DAVs_NormalizedCounts.txt\",sep=\"\\t\",header=None)\n",
    "normalizedCounts_ISSs_created_SNPs = pd.read_csv(\"../temp/ISSs_created_CommonSNPs_NormalizedCounts.txt\",sep=\"\\t\",header=None)"
   ]
  },
  {
   "cell_type": "code",
   "execution_count": 45,
   "metadata": {},
   "outputs": [
    {
     "data": {
      "text/html": [
       "<div>\n",
       "<table border=\"1\" class=\"dataframe\">\n",
       "  <thead>\n",
       "    <tr style=\"text-align: right;\">\n",
       "      <th></th>\n",
       "      <th>DAVs</th>\n",
       "      <th>commonSNPs</th>\n",
       "    </tr>\n",
       "  </thead>\n",
       "  <tbody>\n",
       "    <tr>\n",
       "      <th>0</th>\n",
       "      <td>50.303655</td>\n",
       "      <td>18.759550</td>\n",
       "    </tr>\n",
       "    <tr>\n",
       "      <th>1</th>\n",
       "      <td>47.349500</td>\n",
       "      <td>18.711009</td>\n",
       "    </tr>\n",
       "    <tr>\n",
       "      <th>2</th>\n",
       "      <td>25.397044</td>\n",
       "      <td>17.613168</td>\n",
       "    </tr>\n",
       "    <tr>\n",
       "      <th>3</th>\n",
       "      <td>23.612799</td>\n",
       "      <td>16.661835</td>\n",
       "    </tr>\n",
       "    <tr>\n",
       "      <th>4</th>\n",
       "      <td>20.953106</td>\n",
       "      <td>16.400977</td>\n",
       "    </tr>\n",
       "  </tbody>\n",
       "</table>\n",
       "</div>"
      ],
      "text/plain": [
       "        DAVs  commonSNPs\n",
       "0  50.303655   18.759550\n",
       "1  47.349500   18.711009\n",
       "2  25.397044   17.613168\n",
       "3  23.612799   16.661835\n",
       "4  20.953106   16.400977"
      ]
     },
     "execution_count": 45,
     "metadata": {},
     "output_type": "execute_result"
    }
   ],
   "source": [
    "# Make a new data frame which has both normalized counts\n",
    "normalizedCounts_ISSs_created = pd.DataFrame({\"DAVs\":normalizedCounts_ISSs_created_DAVs[2],\"commonSNPs\":normalizedCounts_ISSs_created_SNPs[2]})\n",
    "normalizedCounts_ISSs_created.head()\n"
   ]
  },
  {
   "cell_type": "code",
   "execution_count": 46,
   "metadata": {},
   "outputs": [
    {
     "data": {
      "image/png": "[encoded data removed]",
      "text/plain": [
       "<matplotlib.figure.Figure at 0x7fc75bcaf650>"
      ]
     },
     "metadata": {},
     "output_type": "display_data"
    }
   ],
   "source": [
    "# Create a box plot for normalized counts \n",
    "sns.boxplot(data=normalizedCounts_ISSs_created)\n",
    "plt.ylabel(\"Normalized Counts\")\n",
    "plt.title(\"Frequency of ISS motifs created\")\n",
    "plt.show()"
   ]
  },
  {
   "cell_type": "code",
   "execution_count": 47,
   "metadata": {},
   "outputs": [
    {
     "data": {
      "text/plain": [
       "MannwhitneyuResult(statistic=1107.0, pvalue=0.32591792913759898)"
      ]
     },
     "execution_count": 47,
     "metadata": {},
     "output_type": "execute_result"
    }
   ],
   "source": [
    "# Calculate p-value\n",
    "scipy.stats.mannwhitneyu(normalizedCounts_ISSs_created[\"DAVs\"], normalizedCounts_ISSs_created[\"commonSNPs\"], use_continuity=True, alternative=\"two-sided\")"
   ]
  },
  {
   "cell_type": "code",
   "execution_count": 48,
   "metadata": {},
   "outputs": [
    {
     "data": {
      "text/plain": [
       "array(['AGTAGG', 'GAGTAG', 'ACATGC', 'ACTAGG', 'GACATG', 'AATAGG',\n",
       "       'AGATAG', 'ACATGG', 'GATAGG', 'GGAACC', 'ACAGCT', 'AGAGTA',\n",
       "       'AGTACA', 'CCTCCA', 'GGAACA', 'GTACAG', 'GGAACT', 'TGAACT',\n",
       "       'TATAGG', 'AGGAAC'], dtype=object)"
      ]
     },
     "execution_count": 48,
     "metadata": {},
     "output_type": "execute_result"
    }
   ],
   "source": [
    "# Top ten most represented motifs in both DAVs and SNPs\n",
    "motifsMostRepresented_DAVs = normalizedCounts_ISSs_created_DAVs[0].values[0:20]\n",
    "#list(set(list(normalizedCounts_ISSs_destroyed_DAVs[0].values[0:10]) + list(normalizedCounts_ISSs_destroyed_SNPs[0].values[0:10])))\n",
    "motifsMostRepresented_DAVs"
   ]
  },
  {
   "cell_type": "code",
   "execution_count": 49,
   "metadata": {},
   "outputs": [
    {
     "data": {
      "text/html": [
       "<div>\n",
       "<table border=\"1\" class=\"dataframe\">\n",
       "  <thead>\n",
       "    <tr style=\"text-align: right;\">\n",
       "      <th></th>\n",
       "      <th>DAVs</th>\n",
       "      <th>commonSNPs</th>\n",
       "    </tr>\n",
       "  </thead>\n",
       "  <tbody>\n",
       "    <tr>\n",
       "      <th>0</th>\n",
       "      <td>50.303655</td>\n",
       "      <td>18.759550</td>\n",
       "    </tr>\n",
       "    <tr>\n",
       "      <th>1</th>\n",
       "      <td>47.349500</td>\n",
       "      <td>18.711009</td>\n",
       "    </tr>\n",
       "    <tr>\n",
       "      <th>2</th>\n",
       "      <td>25.397044</td>\n",
       "      <td>16.661835</td>\n",
       "    </tr>\n",
       "    <tr>\n",
       "      <th>3</th>\n",
       "      <td>23.612799</td>\n",
       "      <td>16.400977</td>\n",
       "    </tr>\n",
       "    <tr>\n",
       "      <th>4</th>\n",
       "      <td>20.953106</td>\n",
       "      <td>14.965602</td>\n",
       "    </tr>\n",
       "  </tbody>\n",
       "</table>\n",
       "</div>"
      ],
      "text/plain": [
       "        DAVs  commonSNPs\n",
       "0  50.303655   18.759550\n",
       "1  47.349500   18.711009\n",
       "2  25.397044   16.661835\n",
       "3  23.612799   16.400977\n",
       "4  20.953106   14.965602"
      ]
     },
     "execution_count": 49,
     "metadata": {},
     "output_type": "execute_result"
    }
   ],
   "source": [
    "# Make a new data frame which has both normalized counts with most represented motifs in both groups\n",
    "normalizedCounts_ISSs_created = pd.DataFrame({\"DAVs\":normalizedCounts_ISSs_created_DAVs[normalizedCounts_ISSs_created_DAVs[0].isin(motifsMostRepresented_DAVs)][2].values,\n",
    "                                                \"commonSNPs\":normalizedCounts_ISSs_created_SNPs[normalizedCounts_ISSs_created_SNPs[0].isin(motifsMostRepresented_DAVs)][2].values})\n",
    "normalizedCounts_ISSs_created.head()"
   ]
  },
  {
   "cell_type": "code",
   "execution_count": 50,
   "metadata": {},
   "outputs": [
    {
     "data": {
      "image/png": "[encoded data removed]",
      "text/plain": [
       "<matplotlib.figure.Figure at 0x7fc75bf8f110>"
      ]
     },
     "metadata": {},
     "output_type": "display_data"
    }
   ],
   "source": [
    "# Create a box plot for normalized counts \n",
    "sns.boxplot(data=normalizedCounts_ISSs_created)\n",
    "plt.ylabel(\"Normalized Counts\")\n",
    "plt.title(\"Frequency of ISS motifs created: Top 20 Overrepresented Motifs in DAVs\")\n",
    "plt.show()"
   ]
  },
  {
   "cell_type": "code",
   "execution_count": 51,
   "metadata": {
    "scrolled": true
   },
   "outputs": [
    {
     "data": {
      "text/plain": [
       "MannwhitneyuResult(statistic=293.0, pvalue=0.012344745758617116)"
      ]
     },
     "execution_count": 51,
     "metadata": {},
     "output_type": "execute_result"
    }
   ],
   "source": [
    "# Calculate p-value\n",
    "scipy.stats.mannwhitneyu(normalizedCounts_ISSs_created[\"DAVs\"], normalizedCounts_ISSs_created[\"commonSNPs\"], use_continuity=True, alternative=\"two-sided\")\n"
   ]
  },
  {
   "cell_type": "code",
   "execution_count": 52,
   "metadata": {},
   "outputs": [
    {
     "data": {
      "text/plain": [
       "array(['ACATGC', 'ACATGG', 'CATGAT', 'GTACAG', 'GACATG', 'AGATAG',\n",
       "       'ACATGA', 'TATAGG', 'AGTACA', 'GAACCT', 'TACAGC', 'GATAGG',\n",
       "       'GAGTAG', 'AGATAT', 'AGACAT', 'GTCAGG', 'AACAGT', 'AGTTCA',\n",
       "       'AGTAGG', 'GAACAT'], dtype=object)"
      ]
     },
     "execution_count": 52,
     "metadata": {},
     "output_type": "execute_result"
    }
   ],
   "source": [
    "# Top ten most represented motifs in both DAVs and SNPs\n",
    "motifsMostRepresented_SNPs = normalizedCounts_ISSs_created_SNPs[0].values[0:20]\n",
    "#list(set(list(normalizedCounts_ISSs_destroyed_DAVs[0].values[0:10]) + list(normalizedCounts_ISSs_destroyed_SNPs[0].values[0:10])))\n",
    "motifsMostRepresented_SNPs"
   ]
  },
  {
   "cell_type": "code",
   "execution_count": 53,
   "metadata": {},
   "outputs": [
    {
     "data": {
      "text/html": [
       "<div>\n",
       "<table border=\"1\" class=\"dataframe\">\n",
       "  <thead>\n",
       "    <tr style=\"text-align: right;\">\n",
       "      <th></th>\n",
       "      <th>DAVs</th>\n",
       "      <th>commonSNPs</th>\n",
       "    </tr>\n",
       "  </thead>\n",
       "  <tbody>\n",
       "    <tr>\n",
       "      <th>0</th>\n",
       "      <td>50.303655</td>\n",
       "      <td>18.759550</td>\n",
       "    </tr>\n",
       "    <tr>\n",
       "      <th>1</th>\n",
       "      <td>47.349500</td>\n",
       "      <td>18.711009</td>\n",
       "    </tr>\n",
       "    <tr>\n",
       "      <th>2</th>\n",
       "      <td>25.397044</td>\n",
       "      <td>17.613168</td>\n",
       "    </tr>\n",
       "    <tr>\n",
       "      <th>3</th>\n",
       "      <td>20.953106</td>\n",
       "      <td>16.661835</td>\n",
       "    </tr>\n",
       "    <tr>\n",
       "      <th>4</th>\n",
       "      <td>16.767495</td>\n",
       "      <td>16.400977</td>\n",
       "    </tr>\n",
       "  </tbody>\n",
       "</table>\n",
       "</div>"
      ],
      "text/plain": [
       "        DAVs  commonSNPs\n",
       "0  50.303655   18.759550\n",
       "1  47.349500   18.711009\n",
       "2  25.397044   17.613168\n",
       "3  20.953106   16.661835\n",
       "4  16.767495   16.400977"
      ]
     },
     "execution_count": 53,
     "metadata": {},
     "output_type": "execute_result"
    }
   ],
   "source": [
    "# Make a new data frame which has both normalized counts with most represented motifs in both groups\n",
    "normalizedCounts_ISSs_created = pd.DataFrame({\"DAVs\":normalizedCounts_ISSs_created_DAVs[normalizedCounts_ISSs_created_DAVs[0].isin(motifsMostRepresented_SNPs)][2].values,\n",
    "                                                \"commonSNPs\":normalizedCounts_ISSs_created_SNPs[normalizedCounts_ISSs_created_SNPs[0].isin(motifsMostRepresented_SNPs)][2].values})\n",
    "normalizedCounts_ISSs_created.head()"
   ]
  },
  {
   "cell_type": "code",
   "execution_count": 54,
   "metadata": {},
   "outputs": [
    {
     "data": {
      "image/png": "[encoded data removed]",
      "text/plain": [
       "<matplotlib.figure.Figure at 0x7fc75bf8fed0>"
      ]
     },
     "metadata": {},
     "output_type": "display_data"
    }
   ],
   "source": [
    "# Create a box plot for normalized counts \n",
    "sns.boxplot(data=normalizedCounts_ISSs_created)\n",
    "plt.ylabel(\"Normalized Counts\")\n",
    "plt.title(\"Frequency of ISS motifs created: Top 20 Overrepresented Motifs in SNPs\")\n",
    "plt.show()"
   ]
  },
  {
   "cell_type": "code",
   "execution_count": 55,
   "metadata": {
    "scrolled": true
   },
   "outputs": [
    {
     "data": {
      "text/plain": [
       "MannwhitneyuResult(statistic=138.0, pvalue=0.096196296249195651)"
      ]
     },
     "execution_count": 55,
     "metadata": {},
     "output_type": "execute_result"
    }
   ],
   "source": [
    "# Calculate p-value\n",
    "scipy.stats.mannwhitneyu(normalizedCounts_ISSs_created[\"DAVs\"], normalizedCounts_ISSs_created[\"commonSNPs\"], use_continuity=True, alternative=\"two-sided\")\n"
   ]
  },
  {
   "cell_type": "markdown",
   "metadata": {},
   "source": [
    "###  Take a look at overrepresented ISREs in ISREs flanked by DAVs and SNPs"
   ]
  },
  {
   "cell_type": "code",
   "execution_count": 56,
   "metadata": {},
   "outputs": [],
   "source": [
    "# Get normalized counts for DAvs and commonSNPs\n",
    "normalizedCounts_ISEs_flanked_DAVs = pd.read_csv(\"../temp/ISEs_flanked_DAVs_NormalizedCounts.txt\",sep=\"\\t\",header=None)\n",
    "normalizedCounts_ISEs_flanked_SNPs = pd.read_csv(\"../temp/ISEs_flanked_CommonSNPs_NormalizedCounts.txt\",sep=\"\\t\",header=None)"
   ]
  },
  {
   "cell_type": "code",
   "execution_count": 57,
   "metadata": {},
   "outputs": [
    {
     "data": {
      "text/html": [
       "<div>\n",
       "<table border=\"1\" class=\"dataframe\">\n",
       "  <thead>\n",
       "    <tr style=\"text-align: right;\">\n",
       "      <th></th>\n",
       "      <th>DAVs</th>\n",
       "      <th>commonSNPs</th>\n",
       "    </tr>\n",
       "  </thead>\n",
       "  <tbody>\n",
       "    <tr>\n",
       "      <th>0</th>\n",
       "      <td>35.940634</td>\n",
       "      <td>7.582538</td>\n",
       "    </tr>\n",
       "    <tr>\n",
       "      <th>1</th>\n",
       "      <td>16.467157</td>\n",
       "      <td>7.375596</td>\n",
       "    </tr>\n",
       "    <tr>\n",
       "      <th>2</th>\n",
       "      <td>15.845684</td>\n",
       "      <td>7.302700</td>\n",
       "    </tr>\n",
       "    <tr>\n",
       "      <th>3</th>\n",
       "      <td>13.536909</td>\n",
       "      <td>7.239934</td>\n",
       "    </tr>\n",
       "    <tr>\n",
       "      <th>4</th>\n",
       "      <td>13.291085</td>\n",
       "      <td>7.188877</td>\n",
       "    </tr>\n",
       "  </tbody>\n",
       "</table>\n",
       "</div>"
      ],
      "text/plain": [
       "        DAVs  commonSNPs\n",
       "0  35.940634    7.582538\n",
       "1  16.467157    7.375596\n",
       "2  15.845684    7.302700\n",
       "3  13.536909    7.239934\n",
       "4  13.291085    7.188877"
      ]
     },
     "execution_count": 57,
     "metadata": {},
     "output_type": "execute_result"
    }
   ],
   "source": [
    "# Make a new data frame which has both normalized counts\n",
    "normalizedCounts_ISEs_flanked = pd.DataFrame({\"DAVs\":normalizedCounts_ISEs_flanked_DAVs[2],\"commonSNPs\":normalizedCounts_ISEs_flanked_SNPs[2]})\n",
    "normalizedCounts_ISEs_flanked.head()\n"
   ]
  },
  {
   "cell_type": "code",
   "execution_count": 58,
   "metadata": {},
   "outputs": [
    {
     "data": {
      "image/png": "[encoded data removed]",
      "text/plain": [
       "<matplotlib.figure.Figure at 0x7fc75c004410>"
      ]
     },
     "metadata": {},
     "output_type": "display_data"
    }
   ],
   "source": [
    "# Create a box plot for normalized counts \n",
    "sns.boxplot(data=normalizedCounts_ISEs_flanked)\n",
    "plt.ylabel(\"Normalized Counts\")\n",
    "plt.title(\"Frequency of ISE motifs flanked\")\n",
    "plt.show()"
   ]
  },
  {
   "cell_type": "code",
   "execution_count": 59,
   "metadata": {},
   "outputs": [
    {
     "data": {
      "text/plain": [
       "MannwhitneyuResult(statistic=3613.0, pvalue=0.60676740445845234)"
      ]
     },
     "execution_count": 59,
     "metadata": {},
     "output_type": "execute_result"
    }
   ],
   "source": [
    "# Calculate p-value\n",
    "scipy.stats.mannwhitneyu(normalizedCounts_ISEs_flanked[\"DAVs\"], normalizedCounts_ISEs_flanked[\"commonSNPs\"], use_continuity=True, alternative=\"two-sided\")"
   ]
  },
  {
   "cell_type": "code",
   "execution_count": 60,
   "metadata": {},
   "outputs": [
    {
     "data": {
      "text/plain": [
       "array(['GGTCGG', 'AACGGG', 'TGGTGG', 'GGTAAG', 'GTATGG', 'GGAGGT',\n",
       "       'GGTGGG', 'AGTGTG', 'TATGGG', 'AGGTAA', 'GGTAAC', 'AGGGGT',\n",
       "       'TTACGG', 'GAGTGG', 'GTGTGG', 'ATGGGA', 'GGGAGG', 'GTTGGT',\n",
       "       'GAGGGG', 'GTGGAG'], dtype=object)"
      ]
     },
     "execution_count": 60,
     "metadata": {},
     "output_type": "execute_result"
    }
   ],
   "source": [
    "# Top ten most represented motifs in both DAVs and SNPs\n",
    "motifsMostRepresented_DAVs = normalizedCounts_ISEs_flanked_DAVs[0].values[0:20]\n",
    "#list(set(list(normalizedCounts_ISEs_created_DAVs[0].values[0:10]) + list(normalizedCounts_ISEs_created_SNPs[0].values[0:10])))\n",
    "motifsMostRepresented_DAVs"
   ]
  },
  {
   "cell_type": "code",
   "execution_count": 61,
   "metadata": {},
   "outputs": [
    {
     "data": {
      "text/html": [
       "<div>\n",
       "<table border=\"1\" class=\"dataframe\">\n",
       "  <thead>\n",
       "    <tr style=\"text-align: right;\">\n",
       "      <th></th>\n",
       "      <th>DAVs</th>\n",
       "      <th>commonSNPs</th>\n",
       "    </tr>\n",
       "  </thead>\n",
       "  <tbody>\n",
       "    <tr>\n",
       "      <th>0</th>\n",
       "      <td>35.940634</td>\n",
       "      <td>7.582538</td>\n",
       "    </tr>\n",
       "    <tr>\n",
       "      <th>1</th>\n",
       "      <td>16.467157</td>\n",
       "      <td>7.302700</td>\n",
       "    </tr>\n",
       "    <tr>\n",
       "      <th>2</th>\n",
       "      <td>15.845684</td>\n",
       "      <td>7.239934</td>\n",
       "    </tr>\n",
       "    <tr>\n",
       "      <th>3</th>\n",
       "      <td>13.536909</td>\n",
       "      <td>7.136121</td>\n",
       "    </tr>\n",
       "    <tr>\n",
       "      <th>4</th>\n",
       "      <td>13.291085</td>\n",
       "      <td>7.036809</td>\n",
       "    </tr>\n",
       "  </tbody>\n",
       "</table>\n",
       "</div>"
      ],
      "text/plain": [
       "        DAVs  commonSNPs\n",
       "0  35.940634    7.582538\n",
       "1  16.467157    7.302700\n",
       "2  15.845684    7.239934\n",
       "3  13.536909    7.136121\n",
       "4  13.291085    7.036809"
      ]
     },
     "execution_count": 61,
     "metadata": {},
     "output_type": "execute_result"
    }
   ],
   "source": [
    "# Make a new data frame which has both normalized counts with most represented motifs in both groups\n",
    "normalizedCounts_ISEs_flanked = pd.DataFrame({\"DAVs\":normalizedCounts_ISEs_flanked_DAVs[normalizedCounts_ISEs_flanked_DAVs[0].isin(motifsMostRepresented_DAVs)][2].values,\n",
    "                                                \"commonSNPs\":normalizedCounts_ISEs_flanked_SNPs[normalizedCounts_ISEs_flanked_SNPs[0].isin(motifsMostRepresented_DAVs)][2].values})\n",
    "normalizedCounts_ISEs_flanked.head()"
   ]
  },
  {
   "cell_type": "code",
   "execution_count": 62,
   "metadata": {},
   "outputs": [
    {
     "data": {
      "image/png": "[encoded data removed]",
      "text/plain": [
       "<matplotlib.figure.Figure at 0x7fc75c004c50>"
      ]
     },
     "metadata": {},
     "output_type": "display_data"
    }
   ],
   "source": [
    "# Create a box plot for normalized counts \n",
    "sns.boxplot(data=normalizedCounts_ISEs_flanked)\n",
    "plt.ylabel(\"Normalized Counts\")\n",
    "plt.title(\"Frequency of ISE motifs flanked: Top 20 Overrepresented Motifs in DAVs\")\n",
    "plt.show()"
   ]
  },
  {
   "cell_type": "code",
   "execution_count": 63,
   "metadata": {
    "scrolled": true
   },
   "outputs": [
    {
     "data": {
      "text/plain": [
       "MannwhitneyuResult(statistic=400.0, pvalue=6.7956151281733582e-08)"
      ]
     },
     "execution_count": 63,
     "metadata": {},
     "output_type": "execute_result"
    }
   ],
   "source": [
    "# Calculate p-value\n",
    "scipy.stats.mannwhitneyu(normalizedCounts_ISEs_flanked[\"DAVs\"], normalizedCounts_ISEs_flanked[\"commonSNPs\"], use_continuity=True, alternative=\"two-sided\")\n"
   ]
  },
  {
   "cell_type": "code",
   "execution_count": 64,
   "metadata": {},
   "outputs": [
    {
     "data": {
      "text/plain": [
       "array(['GGTCGG', 'TCTGGG', 'GTGTGG', 'AACGGG', 'TGTGGG', 'GTGGAG',\n",
       "       'AGTGTG', 'TAACGG', 'AGAGGG', 'AGGGTG', 'GAGGGG', 'GGAGGG',\n",
       "       'GTGGGG', 'GAGTGT', 'AGGGAG', 'GTAACG', 'GGGAGG', 'GGGGGG',\n",
       "       'TGGGAG', 'TGGTGG'], dtype=object)"
      ]
     },
     "execution_count": 64,
     "metadata": {},
     "output_type": "execute_result"
    }
   ],
   "source": [
    "# Top ten most represented motifs in both DAVs and SNPs\n",
    "motifsMostRepresented_SNPs = normalizedCounts_ISEs_flanked_SNPs[0].values[0:20]\n",
    "#list(set(list(normalizedCounts_ISEs_created_DAVs[0].values[0:10]) + list(normalizedCounts_ISEs_created_SNPs[0].values[0:10])))\n",
    "motifsMostRepresented_SNPs"
   ]
  },
  {
   "cell_type": "code",
   "execution_count": 65,
   "metadata": {},
   "outputs": [
    {
     "data": {
      "text/html": [
       "<div>\n",
       "<table border=\"1\" class=\"dataframe\">\n",
       "  <thead>\n",
       "    <tr style=\"text-align: right;\">\n",
       "      <th></th>\n",
       "      <th>DAVs</th>\n",
       "      <th>commonSNPs</th>\n",
       "    </tr>\n",
       "  </thead>\n",
       "  <tbody>\n",
       "    <tr>\n",
       "      <th>0</th>\n",
       "      <td>35.940634</td>\n",
       "      <td>7.582538</td>\n",
       "    </tr>\n",
       "    <tr>\n",
       "      <th>1</th>\n",
       "      <td>16.467157</td>\n",
       "      <td>7.375596</td>\n",
       "    </tr>\n",
       "    <tr>\n",
       "      <th>2</th>\n",
       "      <td>15.845684</td>\n",
       "      <td>7.302700</td>\n",
       "    </tr>\n",
       "    <tr>\n",
       "      <th>3</th>\n",
       "      <td>11.176122</td>\n",
       "      <td>7.239934</td>\n",
       "    </tr>\n",
       "    <tr>\n",
       "      <th>4</th>\n",
       "      <td>9.621240</td>\n",
       "      <td>7.188877</td>\n",
       "    </tr>\n",
       "  </tbody>\n",
       "</table>\n",
       "</div>"
      ],
      "text/plain": [
       "        DAVs  commonSNPs\n",
       "0  35.940634    7.582538\n",
       "1  16.467157    7.375596\n",
       "2  15.845684    7.302700\n",
       "3  11.176122    7.239934\n",
       "4   9.621240    7.188877"
      ]
     },
     "execution_count": 65,
     "metadata": {},
     "output_type": "execute_result"
    }
   ],
   "source": [
    "# Make a new data frame which has both normalized counts with most represented motifs in both groups\n",
    "normalizedCounts_ISEs_flanked = pd.DataFrame({\"DAVs\":normalizedCounts_ISEs_flanked_DAVs[normalizedCounts_ISEs_flanked_DAVs[0].isin(motifsMostRepresented_SNPs)][2].values,\n",
    "                                                \"commonSNPs\":normalizedCounts_ISEs_flanked_SNPs[normalizedCounts_ISEs_flanked_SNPs[0].isin(motifsMostRepresented_SNPs)][2].values})\n",
    "normalizedCounts_ISEs_flanked.head()"
   ]
  },
  {
   "cell_type": "code",
   "execution_count": 66,
   "metadata": {},
   "outputs": [
    {
     "data": {
      "image/png": "[encoded data removed]",
      "text/plain": [
       "<matplotlib.figure.Figure at 0x7fc75bc73950>"
      ]
     },
     "metadata": {},
     "output_type": "display_data"
    }
   ],
   "source": [
    "# Create a box plot for normalized counts \n",
    "sns.boxplot(data=normalizedCounts_ISEs_flanked)\n",
    "plt.ylabel(\"Normalized Counts\")\n",
    "plt.title(\"Frequency of ISE motifs flanked: Top 20 Overrepresented Motifs in SNPs\")\n",
    "plt.show()"
   ]
  },
  {
   "cell_type": "code",
   "execution_count": 67,
   "metadata": {
    "scrolled": true
   },
   "outputs": [
    {
     "data": {
      "text/plain": [
       "MannwhitneyuResult(statistic=276.0, pvalue=0.041123594060474861)"
      ]
     },
     "execution_count": 67,
     "metadata": {},
     "output_type": "execute_result"
    }
   ],
   "source": [
    "# Calculate p-value\n",
    "scipy.stats.mannwhitneyu(normalizedCounts_ISEs_flanked[\"DAVs\"], normalizedCounts_ISEs_flanked[\"commonSNPs\"], use_continuity=True, alternative=\"two-sided\")\n"
   ]
  },
  {
   "cell_type": "code",
   "execution_count": 68,
   "metadata": {},
   "outputs": [],
   "source": [
    "# Get normalized counts for DAvs and commonSNPs\n",
    "normalizedCounts_ISSs_flanked_DAVs = pd.read_csv(\"../temp/ISSs_flanked_DAVs_NormalizedCounts.txt\",sep=\"\\t\",header=None)\n",
    "normalizedCounts_ISSs_flanked_SNPs = pd.read_csv(\"../temp/ISSs_flanked_CommonSNPs_NormalizedCounts.txt\",sep=\"\\t\",header=None)"
   ]
  },
  {
   "cell_type": "code",
   "execution_count": 69,
   "metadata": {},
   "outputs": [
    {
     "data": {
      "text/html": [
       "<div>\n",
       "<table border=\"1\" class=\"dataframe\">\n",
       "  <thead>\n",
       "    <tr style=\"text-align: right;\">\n",
       "      <th></th>\n",
       "      <th>DAVs</th>\n",
       "      <th>commonSNPs</th>\n",
       "    </tr>\n",
       "  </thead>\n",
       "  <tbody>\n",
       "    <tr>\n",
       "      <th>0</th>\n",
       "      <td>19.935002</td>\n",
       "      <td>12.428934</td>\n",
       "    </tr>\n",
       "    <tr>\n",
       "      <th>1</th>\n",
       "      <td>19.409166</td>\n",
       "      <td>12.336459</td>\n",
       "    </tr>\n",
       "    <tr>\n",
       "      <th>2</th>\n",
       "      <td>18.888884</td>\n",
       "      <td>12.227429</td>\n",
       "    </tr>\n",
       "    <tr>\n",
       "      <th>3</th>\n",
       "      <td>17.996332</td>\n",
       "      <td>11.994673</td>\n",
       "    </tr>\n",
       "    <tr>\n",
       "      <th>4</th>\n",
       "      <td>17.489353</td>\n",
       "      <td>11.605441</td>\n",
       "    </tr>\n",
       "  </tbody>\n",
       "</table>\n",
       "</div>"
      ],
      "text/plain": [
       "        DAVs  commonSNPs\n",
       "0  19.935002   12.428934\n",
       "1  19.409166   12.336459\n",
       "2  18.888884   12.227429\n",
       "3  17.996332   11.994673\n",
       "4  17.489353   11.605441"
      ]
     },
     "execution_count": 69,
     "metadata": {},
     "output_type": "execute_result"
    }
   ],
   "source": [
    "# Make a new data frame which has both normalized counts\n",
    "normalizedCounts_ISSs_flanked = pd.DataFrame({\"DAVs\":normalizedCounts_ISSs_flanked_DAVs[2],\"commonSNPs\":normalizedCounts_ISSs_flanked_SNPs[2]})\n",
    "normalizedCounts_ISSs_flanked.head()\n"
   ]
  },
  {
   "cell_type": "code",
   "execution_count": 70,
   "metadata": {},
   "outputs": [
    {
     "data": {
      "image/png": "[encoded data removed]",
      "text/plain": [
       "<matplotlib.figure.Figure at 0x7fc75bf39a90>"
      ]
     },
     "metadata": {},
     "output_type": "display_data"
    }
   ],
   "source": [
    "# Create a box plot for normalized counts \n",
    "sns.boxplot(data=normalizedCounts_ISSs_flanked)\n",
    "plt.ylabel(\"Normalized Counts\")\n",
    "plt.title(\"Frequency of ISS motifs flanked\")\n",
    "plt.show()"
   ]
  },
  {
   "cell_type": "code",
   "execution_count": 71,
   "metadata": {},
   "outputs": [
    {
     "data": {
      "text/plain": [
       "MannwhitneyuResult(statistic=1400.0, pvalue=0.30271620519464093)"
      ]
     },
     "execution_count": 71,
     "metadata": {},
     "output_type": "execute_result"
    }
   ],
   "source": [
    "# Calculate p-value\n",
    "scipy.stats.mannwhitneyu(normalizedCounts_ISSs_flanked[\"DAVs\"], normalizedCounts_ISSs_flanked[\"commonSNPs\"], use_continuity=True, alternative=\"two-sided\")"
   ]
  },
  {
   "cell_type": "code",
   "execution_count": 72,
   "metadata": {},
   "outputs": [
    {
     "data": {
      "text/plain": [
       "array(['GGAACC', 'GTACAG', 'ACAGCT', 'CCTCCA', 'GACATG', 'GGAACA',\n",
       "       'CAAAGG', 'CAGCTT', 'AGCTTC', 'TGAACT', 'GAACCT', 'CTTCAG',\n",
       "       'AGTACA', 'TCCTCC', 'TCTTCA', 'CTCCTC', 'GAACAG', 'AGGAAC',\n",
       "       'ACATGA', 'GCAAAG'], dtype=object)"
      ]
     },
     "execution_count": 72,
     "metadata": {},
     "output_type": "execute_result"
    }
   ],
   "source": [
    "# Top ten most represented motifs in both DAVs and SNPs\n",
    "motifsMostRepresented_DAVs = normalizedCounts_ISSs_flanked_DAVs[0].values[0:20]\n",
    "#list(set(list(normalizedCounts_ISEs_created_DAVs[0].values[0:10]) + list(normalizedCounts_ISEs_created_SNPs[0].values[0:10])))\n",
    "motifsMostRepresented_DAVs"
   ]
  },
  {
   "cell_type": "code",
   "execution_count": 73,
   "metadata": {},
   "outputs": [
    {
     "data": {
      "text/html": [
       "<div>\n",
       "<table border=\"1\" class=\"dataframe\">\n",
       "  <thead>\n",
       "    <tr style=\"text-align: right;\">\n",
       "      <th></th>\n",
       "      <th>DAVs</th>\n",
       "      <th>commonSNPs</th>\n",
       "    </tr>\n",
       "  </thead>\n",
       "  <tbody>\n",
       "    <tr>\n",
       "      <th>0</th>\n",
       "      <td>19.935002</td>\n",
       "      <td>12.428934</td>\n",
       "    </tr>\n",
       "    <tr>\n",
       "      <th>1</th>\n",
       "      <td>19.409166</td>\n",
       "      <td>12.336459</td>\n",
       "    </tr>\n",
       "    <tr>\n",
       "      <th>2</th>\n",
       "      <td>18.888884</td>\n",
       "      <td>12.227429</td>\n",
       "    </tr>\n",
       "    <tr>\n",
       "      <th>3</th>\n",
       "      <td>17.996332</td>\n",
       "      <td>11.520888</td>\n",
       "    </tr>\n",
       "    <tr>\n",
       "      <th>4</th>\n",
       "      <td>17.489353</td>\n",
       "      <td>11.396161</td>\n",
       "    </tr>\n",
       "  </tbody>\n",
       "</table>\n",
       "</div>"
      ],
      "text/plain": [
       "        DAVs  commonSNPs\n",
       "0  19.935002   12.428934\n",
       "1  19.409166   12.336459\n",
       "2  18.888884   12.227429\n",
       "3  17.996332   11.520888\n",
       "4  17.489353   11.396161"
      ]
     },
     "execution_count": 73,
     "metadata": {},
     "output_type": "execute_result"
    }
   ],
   "source": [
    "# Make a new data frame which has both normalized counts with most represented motifs in both groups\n",
    "normalizedCounts_ISSs_flanked = pd.DataFrame({\"DAVs\":normalizedCounts_ISSs_flanked_DAVs[normalizedCounts_ISSs_flanked_DAVs[0].isin(motifsMostRepresented_DAVs)][2].values,\n",
    "                                                \"commonSNPs\":normalizedCounts_ISSs_flanked_SNPs[normalizedCounts_ISSs_flanked_SNPs[0].isin(motifsMostRepresented_DAVs)][2].values})\n",
    "normalizedCounts_ISSs_flanked.head()"
   ]
  },
  {
   "cell_type": "code",
   "execution_count": 74,
   "metadata": {},
   "outputs": [
    {
     "data": {
      "image/png": "[encoded data removed]",
      "text/plain": [
       "<matplotlib.figure.Figure at 0x7fc75bf279d0>"
      ]
     },
     "metadata": {},
     "output_type": "display_data"
    }
   ],
   "source": [
    "# Create a box plot for normalized counts \n",
    "sns.boxplot(data=normalizedCounts_ISSs_flanked)\n",
    "plt.ylabel(\"Normalized Counts\")\n",
    "plt.title(\"Frequency of ISS motifs flanked: Top 20 Overrepresented Motifs in DAVs\")\n",
    "plt.show()"
   ]
  },
  {
   "cell_type": "code",
   "execution_count": 75,
   "metadata": {
    "scrolled": true
   },
   "outputs": [
    {
     "data": {
      "text/plain": [
       "MannwhitneyuResult(statistic=400.0, pvalue=6.7956151281733582e-08)"
      ]
     },
     "execution_count": 75,
     "metadata": {},
     "output_type": "execute_result"
    }
   ],
   "source": [
    "# Calculate p-value\n",
    "scipy.stats.mannwhitneyu(normalizedCounts_ISSs_flanked[\"DAVs\"], normalizedCounts_ISSs_flanked[\"commonSNPs\"], use_continuity=True, alternative=\"two-sided\")\n"
   ]
  },
  {
   "cell_type": "code",
   "execution_count": 76,
   "metadata": {},
   "outputs": [
    {
     "data": {
      "text/plain": [
       "array(['CCTCCA', 'CTCCTC', 'TCCTCC', 'ACATGC', 'GTCAGG', 'GGAACC',\n",
       "       'AGCTTC', 'GCTTCA', 'ACATGG', 'TGCAAA', 'ACAGCT', 'GAACCT',\n",
       "       'TCTTCA', 'CAGCTT', 'GGAACA', 'AGCAAA', 'CATGAT', 'GACATG',\n",
       "       'CAAAGG', 'GCAAAG'], dtype=object)"
      ]
     },
     "execution_count": 76,
     "metadata": {},
     "output_type": "execute_result"
    }
   ],
   "source": [
    "# Top ten most represented motifs in both DAVs and SNPs\n",
    "motifsMostRepresented_SNPs = normalizedCounts_ISSs_flanked_SNPs[0].values[0:20]\n",
    "#list(set(list(normalizedCounts_ISEs_created_DAVs[0].values[0:10]) + list(normalizedCounts_ISEs_created_SNPs[0].values[0:10])))\n",
    "motifsMostRepresented_SNPs"
   ]
  },
  {
   "cell_type": "code",
   "execution_count": 77,
   "metadata": {},
   "outputs": [
    {
     "data": {
      "text/html": [
       "<div>\n",
       "<table border=\"1\" class=\"dataframe\">\n",
       "  <thead>\n",
       "    <tr style=\"text-align: right;\">\n",
       "      <th></th>\n",
       "      <th>DAVs</th>\n",
       "      <th>commonSNPs</th>\n",
       "    </tr>\n",
       "  </thead>\n",
       "  <tbody>\n",
       "    <tr>\n",
       "      <th>0</th>\n",
       "      <td>19.935002</td>\n",
       "      <td>12.428934</td>\n",
       "    </tr>\n",
       "    <tr>\n",
       "      <th>1</th>\n",
       "      <td>18.888884</td>\n",
       "      <td>12.336459</td>\n",
       "    </tr>\n",
       "    <tr>\n",
       "      <th>2</th>\n",
       "      <td>17.996332</td>\n",
       "      <td>12.227429</td>\n",
       "    </tr>\n",
       "    <tr>\n",
       "      <th>3</th>\n",
       "      <td>17.489353</td>\n",
       "      <td>11.994673</td>\n",
       "    </tr>\n",
       "    <tr>\n",
       "      <th>4</th>\n",
       "      <td>16.657324</td>\n",
       "      <td>11.605441</td>\n",
       "    </tr>\n",
       "  </tbody>\n",
       "</table>\n",
       "</div>"
      ],
      "text/plain": [
       "        DAVs  commonSNPs\n",
       "0  19.935002   12.428934\n",
       "1  18.888884   12.336459\n",
       "2  17.996332   12.227429\n",
       "3  17.489353   11.994673\n",
       "4  16.657324   11.605441"
      ]
     },
     "execution_count": 77,
     "metadata": {},
     "output_type": "execute_result"
    }
   ],
   "source": [
    "# Make a new data frame which has both normalized counts with most represented motifs in both groups\n",
    "normalizedCounts_ISSs_flanked = pd.DataFrame({\"DAVs\":normalizedCounts_ISSs_flanked_DAVs[normalizedCounts_ISSs_flanked_DAVs[0].isin(motifsMostRepresented_SNPs)][2].values,\n",
    "                                                \"commonSNPs\":normalizedCounts_ISSs_flanked_SNPs[normalizedCounts_ISSs_flanked_SNPs[0].isin(motifsMostRepresented_SNPs)][2].values})\n",
    "normalizedCounts_ISSs_flanked.head()"
   ]
  },
  {
   "cell_type": "code",
   "execution_count": 78,
   "metadata": {},
   "outputs": [
    {
     "data": {
      "image/png": "[encoded data removed]",
      "text/plain": [
       "<matplotlib.figure.Figure at 0x7fc75bde02d0>"
      ]
     },
     "metadata": {},
     "output_type": "display_data"
    }
   ],
   "source": [
    "# Create a box plot for normalized counts \n",
    "sns.boxplot(data=normalizedCounts_ISSs_flanked)\n",
    "plt.ylabel(\"Normalized Counts\")\n",
    "plt.title(\"Frequency of ISS motifs flanked: Top 20 Overrepresented Motifs in SNPs\")\n",
    "plt.show()"
   ]
  },
  {
   "cell_type": "code",
   "execution_count": 79,
   "metadata": {
    "scrolled": true
   },
   "outputs": [
    {
     "data": {
      "text/plain": [
       "MannwhitneyuResult(statistic=322.0, pvalue=0.0010140986852160438)"
      ]
     },
     "execution_count": 79,
     "metadata": {},
     "output_type": "execute_result"
    }
   ],
   "source": [
    "# Calculate p-value\n",
    "scipy.stats.mannwhitneyu(normalizedCounts_ISSs_flanked[\"DAVs\"], normalizedCounts_ISSs_flanked[\"commonSNPs\"], use_continuity=True, alternative=\"two-sided\")\n"
   ]
  },
  {
   "cell_type": "code",
   "execution_count": null,
   "metadata": {},
   "outputs": [],
   "source": []
  }
 ],
 "metadata": {
  "kernelspec": {
   "display_name": "Python 2",
   "language": "python",
   "name": "python2"
  },
  "language_info": {
   "codemirror_mode": {
    "name": "ipython",
    "version": 2
   },
   "file_extension": ".py",
   "mimetype": "text/x-python",
   "name": "python",
   "nbconvert_exporter": "python",
   "pygments_lexer": "ipython2",
   "version": "2.7.12"
  }
 },
 "nbformat": 4,
 "nbformat_minor": 2
}
