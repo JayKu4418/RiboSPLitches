{
 "cells": [
  {
   "cell_type": "markdown",
   "metadata": {},
   "source": [
    "The aim of this script is to breakdown the Clinical Significance categories for each category of DAVs\n",
    "\n",
    " 1. DAVs found in splice sites\n",
    " 2. DAVs creating new splice sites\n",
    " 3. DAVs found in ISRE motifs\n",
    " 4. DAVs creating new ISRE motifs\n",
    " 5. DAVs flanking a certain distance from ISRE motifs\n",
    " 6. DAVs that don't meet any of the above criteria\n",
    " \n",
    "We will have a variable whichDataSet that will indicate which DataSet this analysis is being done for"
   ]
  },
  {
   "cell_type": "code",
   "execution_count": 20,
   "metadata": {},
   "outputs": [],
   "source": [
    "whichDataSet = \"HGMD\""
   ]
  },
  {
   "cell_type": "code",
   "execution_count": 21,
   "metadata": {},
   "outputs": [],
   "source": [
    "# Import relevant packages\n",
    "import pandas as pd\n",
    "import matplotlib.pyplot as plt\n",
    "import seaborn as sns"
   ]
  },
  {
   "cell_type": "code",
   "execution_count": 22,
   "metadata": {},
   "outputs": [],
   "source": [
    "# This function is going to take in a mutation file assuming that the last column is the Clinical Significance\n",
    "# It plots the bar graphs for number of muts in each Clinical Significance category\n",
    "def plotNumberMutsForClinSig(mutdata):\n",
    "    # Number of columns \n",
    "    cols_muts = mutdata.shape[1]\n",
    "    # Frequency count for clinical significance\n",
    "    mut_counts = mutdata.iloc[:,cols_muts-1].value_counts()\n",
    "    # Create data frame of frequency count\n",
    "    mut_counts_df = pd.DataFrame({\"Numbers\":mut_counts.values,\"ClinSig\":mut_counts.index.values},columns=[\"ClinSig\",\"Numbers\"])\n",
    "    # Plot a bar graph which shows the break down of mutations \n",
    "    sns.set_style(\"whitegrid\")\n",
    "    ax = sns.barplot(x=\"ClinSig\",y=\"Numbers\",data=mut_counts_df)\n",
    "    return ax\n",
    "    "
   ]
  },
  {
   "cell_type": "markdown",
   "metadata": {},
   "source": [
    "### This is the breakdown of clinical significances for all DAVs found in introns"
   ]
  },
  {
   "cell_type": "code",
   "execution_count": 23,
   "metadata": {},
   "outputs": [
    {
     "name": "stdout",
     "output_type": "stream",
     "text": [
      "(23400, 8)\n"
     ]
    },
    {
     "data": {
      "text/html": [
       "<div>\n",
       "<table border=\"1\" class=\"dataframe\">\n",
       "  <thead>\n",
       "    <tr style=\"text-align: right;\">\n",
       "      <th></th>\n",
       "      <th>6</th>\n",
       "      <th>7</th>\n",
       "      <th>8</th>\n",
       "      <th>9</th>\n",
       "      <th>10</th>\n",
       "      <th>11</th>\n",
       "      <th>12</th>\n",
       "      <th>13</th>\n",
       "    </tr>\n",
       "  </thead>\n",
       "  <tbody>\n",
       "    <tr>\n",
       "      <th>0</th>\n",
       "      <td>chr1</td>\n",
       "      <td>201293940</td>\n",
       "      <td>201293941</td>\n",
       "      <td>CS993722</td>\n",
       "      <td>+</td>\n",
       "      <td>G</td>\n",
       "      <td>A</td>\n",
       "      <td>DM</td>\n",
       "    </tr>\n",
       "    <tr>\n",
       "      <th>1</th>\n",
       "      <td>chr1</td>\n",
       "      <td>201293940</td>\n",
       "      <td>201293941</td>\n",
       "      <td>CS1413263</td>\n",
       "      <td>+</td>\n",
       "      <td>G</td>\n",
       "      <td>T</td>\n",
       "      <td>DM</td>\n",
       "    </tr>\n",
       "    <tr>\n",
       "      <th>2</th>\n",
       "      <td>chr1</td>\n",
       "      <td>201317569</td>\n",
       "      <td>201317570</td>\n",
       "      <td>CS041129</td>\n",
       "      <td>+</td>\n",
       "      <td>A</td>\n",
       "      <td>G</td>\n",
       "      <td>DM</td>\n",
       "    </tr>\n",
       "    <tr>\n",
       "      <th>3</th>\n",
       "      <td>chr1</td>\n",
       "      <td>201320264</td>\n",
       "      <td>201320265</td>\n",
       "      <td>CS139579</td>\n",
       "      <td>+</td>\n",
       "      <td>A</td>\n",
       "      <td>G</td>\n",
       "      <td>DM</td>\n",
       "    </tr>\n",
       "    <tr>\n",
       "      <th>4</th>\n",
       "      <td>chr1</td>\n",
       "      <td>201320264</td>\n",
       "      <td>201320265</td>\n",
       "      <td>CS002462</td>\n",
       "      <td>+</td>\n",
       "      <td>A</td>\n",
       "      <td>T</td>\n",
       "      <td>DM</td>\n",
       "    </tr>\n",
       "  </tbody>\n",
       "</table>\n",
       "</div>"
      ],
      "text/plain": [
       "     6          7          8          9  10 11 12  13\n",
       "0  chr1  201293940  201293941   CS993722  +  G  A  DM\n",
       "1  chr1  201293940  201293941  CS1413263  +  G  T  DM\n",
       "2  chr1  201317569  201317570   CS041129  +  A  G  DM\n",
       "3  chr1  201320264  201320265   CS139579  +  A  G  DM\n",
       "4  chr1  201320264  201320265   CS002462  +  A  T  DM"
      ]
     },
     "execution_count": 23,
     "metadata": {},
     "output_type": "execute_result"
    }
   ],
   "source": [
    "# Read the DAV file for all \n",
    "intron_Intersect_muts = pd.read_table(\"../temp/\"+whichDataSet+\"/Introns_Intersect_\"+whichDataSet+\"Muts.txt\",sep=\"\\t\",header=None)\n",
    "if whichDataSet==\"ClinVar\":\n",
    "    muts = intron_Intersect_muts.iloc[:,range(6,13)].drop_duplicates()\n",
    "else:\n",
    "    muts = intron_Intersect_muts.iloc[:,range(6,14)].drop_duplicates()\n",
    "print muts.shape\n",
    "muts.head()"
   ]
  },
  {
   "cell_type": "code",
   "execution_count": 24,
   "metadata": {},
   "outputs": [
    {
     "data": {
      "image/png": "[encoded data removed]",
      "text/plain": [
       "<matplotlib.figure.Figure at 0x7f51509afdd0>"
      ]
     },
     "metadata": {},
     "output_type": "display_data"
    }
   ],
   "source": [
    "plotForCat = plotNumberMutsForClinSig(muts)\n",
    "plt.xlabel(\"Clinical Significance\")\n",
    "plt.ylabel(\"Frequency of DAVs\")\n",
    "locs, labels = plt.xticks()\n",
    "plt.setp(labels, rotation=90)\n",
    "plt.title(\"Breakdown of Clinical Significance for All \"+whichDataSet+\" DAVs found in Introns\")\n",
    "plt.show()"
   ]
  },
  {
   "cell_type": "markdown",
   "metadata": {},
   "source": [
    "### Category 1: DAVs found in splice sites"
   ]
  },
  {
   "cell_type": "code",
   "execution_count": 25,
   "metadata": {},
   "outputs": [
    {
     "name": "stdout",
     "output_type": "stream",
     "text": [
      "(14071, 7)\n"
     ]
    },
    {
     "data": {
      "text/html": [
       "<div>\n",
       "<table border=\"1\" class=\"dataframe\">\n",
       "  <thead>\n",
       "    <tr style=\"text-align: right;\">\n",
       "      <th></th>\n",
       "      <th>6</th>\n",
       "      <th>7</th>\n",
       "      <th>8</th>\n",
       "      <th>9</th>\n",
       "      <th>10</th>\n",
       "      <th>11</th>\n",
       "      <th>12</th>\n",
       "    </tr>\n",
       "  </thead>\n",
       "  <tbody>\n",
       "    <tr>\n",
       "      <th>0</th>\n",
       "      <td>chr1</td>\n",
       "      <td>6441065</td>\n",
       "      <td>6441066</td>\n",
       "      <td>CS165098</td>\n",
       "      <td>G</td>\n",
       "      <td>A</td>\n",
       "      <td>DM</td>\n",
       "    </tr>\n",
       "    <tr>\n",
       "      <th>1</th>\n",
       "      <td>chr1</td>\n",
       "      <td>9972190</td>\n",
       "      <td>9972191</td>\n",
       "      <td>CS145935</td>\n",
       "      <td>A</td>\n",
       "      <td>G</td>\n",
       "      <td>DM?</td>\n",
       "    </tr>\n",
       "    <tr>\n",
       "      <th>2</th>\n",
       "      <td>chr1</td>\n",
       "      <td>9981170</td>\n",
       "      <td>9981171</td>\n",
       "      <td>CS127791</td>\n",
       "      <td>G</td>\n",
       "      <td>C</td>\n",
       "      <td>DM</td>\n",
       "    </tr>\n",
       "    <tr>\n",
       "      <th>3</th>\n",
       "      <td>chr1</td>\n",
       "      <td>10624437</td>\n",
       "      <td>10624438</td>\n",
       "      <td>CS111161</td>\n",
       "      <td>G</td>\n",
       "      <td>T</td>\n",
       "      <td>DM</td>\n",
       "    </tr>\n",
       "    <tr>\n",
       "      <th>4</th>\n",
       "      <td>chr1</td>\n",
       "      <td>11950520</td>\n",
       "      <td>11950521</td>\n",
       "      <td>CS115019</td>\n",
       "      <td>G</td>\n",
       "      <td>A</td>\n",
       "      <td>DM?</td>\n",
       "    </tr>\n",
       "  </tbody>\n",
       "</table>\n",
       "</div>"
      ],
      "text/plain": [
       "     6         7         8         9  10 11   12\n",
       "0  chr1   6441065   6441066  CS165098  G  A   DM\n",
       "1  chr1   9972190   9972191  CS145935  A  G  DM?\n",
       "2  chr1   9981170   9981171  CS127791  G  C   DM\n",
       "3  chr1  10624437  10624438  CS111161  G  T   DM\n",
       "4  chr1  11950520  11950521  CS115019  G  A  DM?"
      ]
     },
     "execution_count": 25,
     "metadata": {},
     "output_type": "execute_result"
    }
   ],
   "source": [
    "# Read the DAV file for ones found in splice sites\n",
    "introns_Intersect_muts_in5SS = pd.read_table(\"../temp/\"+whichDataSet+\"/Introns_Intersect_\"+whichDataSet+\"Muts_Within5SS.txt\",sep=\"\\t\",header=None)\n",
    "introns_Intersect_muts_in3SS = pd.read_table(\"../temp/\"+whichDataSet+\"/Introns_Intersect_\"+whichDataSet+\"Muts_Within3SS.txt\",sep=\"\\t\",header=None)\n",
    "introns_Intersect_muts_inAllSS = introns_Intersect_muts_in5SS.append(introns_Intersect_muts_in3SS)\n",
    "muts_inAllSS = introns_Intersect_muts_inAllSS.iloc[:,range(6,13)].drop_duplicates()\n",
    "print muts_inAllSS.shape\n",
    "muts_inAllSS.head()"
   ]
  },
  {
   "cell_type": "code",
   "execution_count": 26,
   "metadata": {},
   "outputs": [
    {
     "data": {
      "image/png": "[encoded data removed]",
      "text/plain": [
       "<matplotlib.figure.Figure at 0x7f5150d19a10>"
      ]
     },
     "metadata": {},
     "output_type": "display_data"
    }
   ],
   "source": [
    "plotForCat = plotNumberMutsForClinSig(muts_inAllSS)\n",
    "plt.xlabel(\"Clinical Significance\")\n",
    "plt.ylabel(\"Frequency of DAVs\")\n",
    "locs, labels = plt.xticks()\n",
    "plt.setp(labels, rotation=90)\n",
    "plt.title(\"Breakdown of Clinical Significance for \"+whichDataSet+\" DAVs found in Splice Sites \")\n",
    "plt.show()"
   ]
  },
  {
   "cell_type": "markdown",
   "metadata": {},
   "source": [
    "### Category 2: DAVs creating new splice sites"
   ]
  },
  {
   "cell_type": "code",
   "execution_count": 27,
   "metadata": {},
   "outputs": [
    {
     "name": "stdout",
     "output_type": "stream",
     "text": [
      "(618, 7)\n"
     ]
    },
    {
     "data": {
      "text/html": [
       "<div>\n",
       "<table border=\"1\" class=\"dataframe\">\n",
       "  <thead>\n",
       "    <tr style=\"text-align: right;\">\n",
       "      <th></th>\n",
       "      <th>6</th>\n",
       "      <th>7</th>\n",
       "      <th>8</th>\n",
       "      <th>9</th>\n",
       "      <th>10</th>\n",
       "      <th>11</th>\n",
       "      <th>12</th>\n",
       "    </tr>\n",
       "  </thead>\n",
       "  <tbody>\n",
       "    <tr>\n",
       "      <th>0</th>\n",
       "      <td>chr1</td>\n",
       "      <td>25306720</td>\n",
       "      <td>25306721</td>\n",
       "      <td>CM151432</td>\n",
       "      <td>C</td>\n",
       "      <td>T</td>\n",
       "      <td>FP</td>\n",
       "    </tr>\n",
       "    <tr>\n",
       "      <th>1</th>\n",
       "      <td>chr1</td>\n",
       "      <td>25321960</td>\n",
       "      <td>25321961</td>\n",
       "      <td>CM056685</td>\n",
       "      <td>A</td>\n",
       "      <td>T</td>\n",
       "      <td>FP</td>\n",
       "    </tr>\n",
       "    <tr>\n",
       "      <th>2</th>\n",
       "      <td>chr1</td>\n",
       "      <td>25317079</td>\n",
       "      <td>25317080</td>\n",
       "      <td>CS015893</td>\n",
       "      <td>G</td>\n",
       "      <td>A</td>\n",
       "      <td>FP</td>\n",
       "    </tr>\n",
       "    <tr>\n",
       "      <th>3</th>\n",
       "      <td>chr1</td>\n",
       "      <td>25317061</td>\n",
       "      <td>25317062</td>\n",
       "      <td>CM024420</td>\n",
       "      <td>T</td>\n",
       "      <td>C</td>\n",
       "      <td>FP</td>\n",
       "    </tr>\n",
       "    <tr>\n",
       "      <th>4</th>\n",
       "      <td>chr1</td>\n",
       "      <td>25316998</td>\n",
       "      <td>25316999</td>\n",
       "      <td>CS165427</td>\n",
       "      <td>G</td>\n",
       "      <td>A</td>\n",
       "      <td>DM</td>\n",
       "    </tr>\n",
       "  </tbody>\n",
       "</table>\n",
       "</div>"
      ],
      "text/plain": [
       "     6         7         8         9  10 11  12\n",
       "0  chr1  25306720  25306721  CM151432  C  T  FP\n",
       "1  chr1  25321960  25321961  CM056685  A  T  FP\n",
       "2  chr1  25317079  25317080  CS015893  G  A  FP\n",
       "3  chr1  25317061  25317062  CM024420  T  C  FP\n",
       "4  chr1  25316998  25316999  CS165427  G  A  DM"
      ]
     },
     "execution_count": 27,
     "metadata": {},
     "output_type": "execute_result"
    }
   ],
   "source": [
    "# Read the DAV file for ones found in splice sites\n",
    "introns_Intersect_Muts_createSS = pd.read_table(\"../temp/\"+whichDataSet+\"/Introns_Intersect_\"+whichDataSet+\"Muts_CreateSS.txt\",sep=\"\\t\",header=None)\n",
    "muts_createSS = introns_Intersect_Muts_createSS.iloc[:,range(6,13)].drop_duplicates()\n",
    "print muts_createSS.shape\n",
    "muts_createSS.head()"
   ]
  },
  {
   "cell_type": "code",
   "execution_count": 28,
   "metadata": {},
   "outputs": [
    {
     "data": {
      "image/png": "[encoded data removed]",
      "text/plain": [
       "<matplotlib.figure.Figure at 0x7f51512c3e50>"
      ]
     },
     "metadata": {},
     "output_type": "display_data"
    }
   ],
   "source": [
    "plotForCat = plotNumberMutsForClinSig(muts_createSS)\n",
    "plt.xlabel(\"Clinical Significance\")\n",
    "plt.ylabel(\"Frequency of DAVs\")\n",
    "locs, labels = plt.xticks()\n",
    "plt.setp(labels, rotation=90)\n",
    "plt.title(\"Breakdown of Clinical Significance for \"+whichDataSet+\" DAVs creating Splice Sites \")\n",
    "plt.show()"
   ]
  },
  {
   "cell_type": "markdown",
   "metadata": {},
   "source": [
    "### Category 3: DAVs found in ISREs"
   ]
  },
  {
   "cell_type": "code",
   "execution_count": 29,
   "metadata": {},
   "outputs": [
    {
     "name": "stdout",
     "output_type": "stream",
     "text": [
      "(867, 7)\n"
     ]
    },
    {
     "data": {
      "text/html": [
       "<div>\n",
       "<table border=\"1\" class=\"dataframe\">\n",
       "  <thead>\n",
       "    <tr style=\"text-align: right;\">\n",
       "      <th></th>\n",
       "      <th>6</th>\n",
       "      <th>7</th>\n",
       "      <th>8</th>\n",
       "      <th>9</th>\n",
       "      <th>10</th>\n",
       "      <th>11</th>\n",
       "      <th>12</th>\n",
       "    </tr>\n",
       "  </thead>\n",
       "  <tbody>\n",
       "    <tr>\n",
       "      <th>0</th>\n",
       "      <td>chr1</td>\n",
       "      <td>16024779</td>\n",
       "      <td>16024780</td>\n",
       "      <td>CM110909</td>\n",
       "      <td>A</td>\n",
       "      <td>G</td>\n",
       "      <td>DFP</td>\n",
       "    </tr>\n",
       "    <tr>\n",
       "      <th>1</th>\n",
       "      <td>chr1</td>\n",
       "      <td>21554083</td>\n",
       "      <td>21554084</td>\n",
       "      <td>CM113240</td>\n",
       "      <td>G</td>\n",
       "      <td>A</td>\n",
       "      <td>DM?</td>\n",
       "    </tr>\n",
       "    <tr>\n",
       "      <th>2</th>\n",
       "      <td>chr1</td>\n",
       "      <td>25306653</td>\n",
       "      <td>25306654</td>\n",
       "      <td>CM024419</td>\n",
       "      <td>G</td>\n",
       "      <td>A</td>\n",
       "      <td>FP</td>\n",
       "    </tr>\n",
       "    <tr>\n",
       "      <th>3</th>\n",
       "      <td>chr1</td>\n",
       "      <td>25306728</td>\n",
       "      <td>25306729</td>\n",
       "      <td>CM045805</td>\n",
       "      <td>T</td>\n",
       "      <td>C</td>\n",
       "      <td>FP</td>\n",
       "    </tr>\n",
       "    <tr>\n",
       "      <th>4</th>\n",
       "      <td>chr1</td>\n",
       "      <td>25306596</td>\n",
       "      <td>25306597</td>\n",
       "      <td>CM973731</td>\n",
       "      <td>G</td>\n",
       "      <td>T</td>\n",
       "      <td>FP</td>\n",
       "    </tr>\n",
       "  </tbody>\n",
       "</table>\n",
       "</div>"
      ],
      "text/plain": [
       "     6         7         8         9  10 11   12\n",
       "0  chr1  16024779  16024780  CM110909  A  G  DFP\n",
       "1  chr1  21554083  21554084  CM113240  G  A  DM?\n",
       "2  chr1  25306653  25306654  CM024419  G  A   FP\n",
       "3  chr1  25306728  25306729  CM045805  T  C   FP\n",
       "4  chr1  25306596  25306597  CM973731  G  T   FP"
      ]
     },
     "execution_count": 29,
     "metadata": {},
     "output_type": "execute_result"
    }
   ],
   "source": [
    "introns_Intersect_Muts_inISREs = pd.read_table(\"../temp/\"+whichDataSet+\"/Introns_Intersect_\"+whichDataSet+\"Muts_JustDestroyISRE.txt\",sep=\"\\t\",header=None)\n",
    "muts_inISREs = introns_Intersect_Muts_inISREs.iloc[:,range(6,13)].drop_duplicates()\n",
    "print muts_inISREs.shape\n",
    "muts_inISREs.head()"
   ]
  },
  {
   "cell_type": "code",
   "execution_count": 30,
   "metadata": {},
   "outputs": [
    {
     "data": {
      "image/png": "[encoded data removed]",
      "text/plain": [
       "<matplotlib.figure.Figure at 0x7f5150d0d150>"
      ]
     },
     "metadata": {},
     "output_type": "display_data"
    }
   ],
   "source": [
    "plotForCat = plotNumberMutsForClinSig(muts_inISREs)\n",
    "plt.xlabel(\"Clinical Significance\")\n",
    "plt.ylabel(\"Frequency of DAVs\")\n",
    "locs, labels = plt.xticks()\n",
    "plt.setp(labels, rotation=90)\n",
    "plt.title(\"Breakdown of Clinical Significance for \"+whichDataSet+\" DAVs in ISREs \")\n",
    "plt.show()"
   ]
  },
  {
   "cell_type": "markdown",
   "metadata": {},
   "source": [
    "### Category 4: DAVs creating new ISREs"
   ]
  },
  {
   "cell_type": "code",
   "execution_count": 31,
   "metadata": {},
   "outputs": [
    {
     "name": "stdout",
     "output_type": "stream",
     "text": [
      "(911, 7)\n"
     ]
    },
    {
     "data": {
      "text/html": [
       "<div>\n",
       "<table border=\"1\" class=\"dataframe\">\n",
       "  <thead>\n",
       "    <tr style=\"text-align: right;\">\n",
       "      <th></th>\n",
       "      <th>6</th>\n",
       "      <th>7</th>\n",
       "      <th>8</th>\n",
       "      <th>9</th>\n",
       "      <th>10</th>\n",
       "      <th>11</th>\n",
       "      <th>12</th>\n",
       "    </tr>\n",
       "  </thead>\n",
       "  <tbody>\n",
       "    <tr>\n",
       "      <th>0</th>\n",
       "      <td>chr1</td>\n",
       "      <td>7961858</td>\n",
       "      <td>7961859</td>\n",
       "      <td>CR095375</td>\n",
       "      <td>C</td>\n",
       "      <td>G</td>\n",
       "      <td>DM</td>\n",
       "    </tr>\n",
       "    <tr>\n",
       "      <th>1</th>\n",
       "      <td>chr1</td>\n",
       "      <td>10304506</td>\n",
       "      <td>10304507</td>\n",
       "      <td>CM1312596</td>\n",
       "      <td>C</td>\n",
       "      <td>T</td>\n",
       "      <td>DM?</td>\n",
       "    </tr>\n",
       "    <tr>\n",
       "      <th>2</th>\n",
       "      <td>chr1</td>\n",
       "      <td>21561102</td>\n",
       "      <td>21561103</td>\n",
       "      <td>CM012045</td>\n",
       "      <td>G</td>\n",
       "      <td>T</td>\n",
       "      <td>DM</td>\n",
       "    </tr>\n",
       "    <tr>\n",
       "      <th>3</th>\n",
       "      <td>chr1</td>\n",
       "      <td>21561141</td>\n",
       "      <td>21561142</td>\n",
       "      <td>CM012048</td>\n",
       "      <td>A</td>\n",
       "      <td>G</td>\n",
       "      <td>DM</td>\n",
       "    </tr>\n",
       "    <tr>\n",
       "      <th>4</th>\n",
       "      <td>chr1</td>\n",
       "      <td>21561098</td>\n",
       "      <td>21561099</td>\n",
       "      <td>CM031609</td>\n",
       "      <td>A</td>\n",
       "      <td>G</td>\n",
       "      <td>DM</td>\n",
       "    </tr>\n",
       "  </tbody>\n",
       "</table>\n",
       "</div>"
      ],
      "text/plain": [
       "     6         7         8          9  10 11   12\n",
       "0  chr1   7961858   7961859   CR095375  C  G   DM\n",
       "1  chr1  10304506  10304507  CM1312596  C  T  DM?\n",
       "2  chr1  21561102  21561103   CM012045  G  T   DM\n",
       "3  chr1  21561141  21561142   CM012048  A  G   DM\n",
       "4  chr1  21561098  21561099   CM031609  A  G   DM"
      ]
     },
     "execution_count": 31,
     "metadata": {},
     "output_type": "execute_result"
    }
   ],
   "source": [
    "introns_Intersect_Muts_createISREs = pd.read_table(\"../temp/\"+whichDataSet+\"/Introns_Intersect_\"+whichDataSet+\"Muts_JustCreateISRE.txt\",sep=\"\\t\",header=None)\n",
    "muts_createISREs = introns_Intersect_Muts_createISREs.iloc[:,range(6,13)].drop_duplicates()\n",
    "print muts_createISREs.shape\n",
    "muts_createISREs.head()"
   ]
  },
  {
   "cell_type": "code",
   "execution_count": 32,
   "metadata": {},
   "outputs": [
    {
     "data": {
      "image/png": "[encoded data removed]",
      "text/plain": [
       "<matplotlib.figure.Figure at 0x7f514c14ea90>"
      ]
     },
     "metadata": {},
     "output_type": "display_data"
    }
   ],
   "source": [
    "plotForCat = plotNumberMutsForClinSig(muts_createISREs)\n",
    "plt.xlabel(\"Clinical Significance\")\n",
    "plt.ylabel(\"Frequency of DAVs\")\n",
    "locs, labels = plt.xticks()\n",
    "plt.setp(labels, rotation=90)\n",
    "plt.title(\"Breakdown of Clinical Significance for \"+whichDataSet+\" DAVs creating ISREs \")\n",
    "plt.show()"
   ]
  },
  {
   "cell_type": "markdown",
   "metadata": {},
   "source": [
    "### Not a real category but these are DAVs both destroying and creating ISREs"
   ]
  },
  {
   "cell_type": "code",
   "execution_count": 33,
   "metadata": {},
   "outputs": [
    {
     "name": "stdout",
     "output_type": "stream",
     "text": [
      "(388, 7)\n"
     ]
    },
    {
     "data": {
      "text/html": [
       "<div>\n",
       "<table border=\"1\" class=\"dataframe\">\n",
       "  <thead>\n",
       "    <tr style=\"text-align: right;\">\n",
       "      <th></th>\n",
       "      <th>6</th>\n",
       "      <th>7</th>\n",
       "      <th>8</th>\n",
       "      <th>9</th>\n",
       "      <th>10</th>\n",
       "      <th>11</th>\n",
       "      <th>12</th>\n",
       "    </tr>\n",
       "  </thead>\n",
       "  <tbody>\n",
       "    <tr>\n",
       "      <th>0</th>\n",
       "      <td>chr1</td>\n",
       "      <td>3774963</td>\n",
       "      <td>3774964</td>\n",
       "      <td>CR133723</td>\n",
       "      <td>A</td>\n",
       "      <td>G</td>\n",
       "      <td>FP</td>\n",
       "    </tr>\n",
       "    <tr>\n",
       "      <th>1</th>\n",
       "      <td>chr1</td>\n",
       "      <td>25306648</td>\n",
       "      <td>25306649</td>\n",
       "      <td>CM151429</td>\n",
       "      <td>C</td>\n",
       "      <td>G</td>\n",
       "      <td>FP</td>\n",
       "    </tr>\n",
       "    <tr>\n",
       "      <th>2</th>\n",
       "      <td>chr1</td>\n",
       "      <td>25306729</td>\n",
       "      <td>25306730</td>\n",
       "      <td>CS165426</td>\n",
       "      <td>G</td>\n",
       "      <td>T</td>\n",
       "      <td>DM</td>\n",
       "    </tr>\n",
       "    <tr>\n",
       "      <th>3</th>\n",
       "      <td>chr1</td>\n",
       "      <td>25321891</td>\n",
       "      <td>25321892</td>\n",
       "      <td>CM151434</td>\n",
       "      <td>T</td>\n",
       "      <td>A</td>\n",
       "      <td>FP</td>\n",
       "    </tr>\n",
       "    <tr>\n",
       "      <th>4</th>\n",
       "      <td>chr1</td>\n",
       "      <td>25321888</td>\n",
       "      <td>25321889</td>\n",
       "      <td>CM994726</td>\n",
       "      <td>G</td>\n",
       "      <td>C</td>\n",
       "      <td>FP</td>\n",
       "    </tr>\n",
       "  </tbody>\n",
       "</table>\n",
       "</div>"
      ],
      "text/plain": [
       "     6         7         8         9  10 11  12\n",
       "0  chr1   3774963   3774964  CR133723  A  G  FP\n",
       "1  chr1  25306648  25306649  CM151429  C  G  FP\n",
       "2  chr1  25306729  25306730  CS165426  G  T  DM\n",
       "3  chr1  25321891  25321892  CM151434  T  A  FP\n",
       "4  chr1  25321888  25321889  CM994726  G  C  FP"
      ]
     },
     "execution_count": 33,
     "metadata": {},
     "output_type": "execute_result"
    }
   ],
   "source": [
    "introns_Intersect_Muts_createdestroyISREs = pd.read_table(\"../temp/\"+whichDataSet+\"/Introns_Intersect_\"+whichDataSet+\"Muts_BothCreateDestroyISRE.txt\",sep=\"\\t\",header=None)\n",
    "muts_createdestroyISREs = introns_Intersect_Muts_createdestroyISREs.iloc[:,range(6,13)].drop_duplicates()\n",
    "print muts_createdestroyISREs.shape\n",
    "muts_createdestroyISREs.head()"
   ]
  },
  {
   "cell_type": "code",
   "execution_count": 34,
   "metadata": {},
   "outputs": [
    {
     "data": {
      "image/png": "[encoded data removed]",
      "text/plain": [
       "<matplotlib.figure.Figure at 0x7f514c0e5610>"
      ]
     },
     "metadata": {},
     "output_type": "display_data"
    }
   ],
   "source": [
    "plotForCat = plotNumberMutsForClinSig(muts_createdestroyISREs)\n",
    "plt.xlabel(\"Clinical Significance\")\n",
    "plt.ylabel(\"Frequency of DAVs\")\n",
    "locs, labels = plt.xticks()\n",
    "plt.setp(labels, rotation=90)\n",
    "plt.title(\"Breakdown of Clinical Significance for \"+whichDataSet+\" DAVs both creating and destroying ISREs \")\n",
    "plt.show()"
   ]
  },
  {
   "cell_type": "markdown",
   "metadata": {},
   "source": [
    "### Category 5: DAVs flanking 50bp of ISREs"
   ]
  },
  {
   "cell_type": "code",
   "execution_count": 35,
   "metadata": {},
   "outputs": [
    {
     "name": "stdout",
     "output_type": "stream",
     "text": [
      "(4482, 8)\n"
     ]
    },
    {
     "data": {
      "text/html": [
       "<div>\n",
       "<table border=\"1\" class=\"dataframe\">\n",
       "  <thead>\n",
       "    <tr style=\"text-align: right;\">\n",
       "      <th></th>\n",
       "      <th>5</th>\n",
       "      <th>6</th>\n",
       "      <th>7</th>\n",
       "      <th>8</th>\n",
       "      <th>9</th>\n",
       "      <th>10</th>\n",
       "      <th>11</th>\n",
       "      <th>12</th>\n",
       "    </tr>\n",
       "  </thead>\n",
       "  <tbody>\n",
       "    <tr>\n",
       "      <th>0</th>\n",
       "      <td>chr1</td>\n",
       "      <td>5907193</td>\n",
       "      <td>5907194</td>\n",
       "      <td>CM077307</td>\n",
       "      <td>-</td>\n",
       "      <td>G</td>\n",
       "      <td>A</td>\n",
       "      <td>DM</td>\n",
       "    </tr>\n",
       "    <tr>\n",
       "      <th>1</th>\n",
       "      <td>chr1</td>\n",
       "      <td>5909192</td>\n",
       "      <td>5909193</td>\n",
       "      <td>CM051572</td>\n",
       "      <td>-</td>\n",
       "      <td>G</td>\n",
       "      <td>A</td>\n",
       "      <td>DM</td>\n",
       "    </tr>\n",
       "    <tr>\n",
       "      <th>6</th>\n",
       "      <td>chr1</td>\n",
       "      <td>5952824</td>\n",
       "      <td>5952825</td>\n",
       "      <td>CM139055</td>\n",
       "      <td>-</td>\n",
       "      <td>G</td>\n",
       "      <td>A</td>\n",
       "      <td>DM</td>\n",
       "    </tr>\n",
       "    <tr>\n",
       "      <th>9</th>\n",
       "      <td>chr1</td>\n",
       "      <td>5978277</td>\n",
       "      <td>5978278</td>\n",
       "      <td>CM051569</td>\n",
       "      <td>-</td>\n",
       "      <td>A</td>\n",
       "      <td>G</td>\n",
       "      <td>DM</td>\n",
       "    </tr>\n",
       "    <tr>\n",
       "      <th>12</th>\n",
       "      <td>chr1</td>\n",
       "      <td>5978373</td>\n",
       "      <td>5978374</td>\n",
       "      <td>CM080458</td>\n",
       "      <td>-</td>\n",
       "      <td>G</td>\n",
       "      <td>A</td>\n",
       "      <td>DM</td>\n",
       "    </tr>\n",
       "  </tbody>\n",
       "</table>\n",
       "</div>"
      ],
      "text/plain": [
       "      5        6        7         8  9  10 11  12\n",
       "0   chr1  5907193  5907194  CM077307  -  G  A  DM\n",
       "1   chr1  5909192  5909193  CM051572  -  G  A  DM\n",
       "6   chr1  5952824  5952825  CM139055  -  G  A  DM\n",
       "9   chr1  5978277  5978278  CM051569  -  A  G  DM\n",
       "12  chr1  5978373  5978374  CM080458  -  G  A  DM"
      ]
     },
     "execution_count": 35,
     "metadata": {},
     "output_type": "execute_result"
    }
   ],
   "source": [
    "ISREs_intersect_Muts_flanking50bp_ISREs = pd.read_table(\"../temp/\"+whichDataSet+\"/\"+whichDataSet+\"Muts_Flanking_100bpISREs.txt\",sep=\"\\t\",header=None)\n",
    "Muts_flanking50bp_ISREs = ISREs_intersect_Muts_flanking50bp_ISREs.iloc[:,range(5,13)].drop_duplicates()\n",
    "print Muts_flanking50bp_ISREs.shape\n",
    "Muts_flanking50bp_ISREs.head()"
   ]
  },
  {
   "cell_type": "code",
   "execution_count": 36,
   "metadata": {},
   "outputs": [
    {
     "data": {
      "image/png": "[encoded data removed]",
      "text/plain": [
       "<matplotlib.figure.Figure at 0x7f5147fc9490>"
      ]
     },
     "metadata": {},
     "output_type": "display_data"
    }
   ],
   "source": [
    "plotForCat = plotNumberMutsForClinSig(Muts_flanking50bp_ISREs)\n",
    "plt.xlabel(\"Clinical Significance\")\n",
    "plt.ylabel(\"Frequency of DAVs\")\n",
    "locs, labels = plt.xticks()\n",
    "plt.setp(labels, rotation=90)\n",
    "plt.title(\"Breakdown of Clinical Significance for \"+whichDataSet+\" DAVs in 100bp window around ISREs \")\n",
    "plt.show()"
   ]
  },
  {
   "cell_type": "markdown",
   "metadata": {},
   "source": [
    "### Category 6: DAVs don't meet any category"
   ]
  },
  {
   "cell_type": "code",
   "execution_count": 37,
   "metadata": {},
   "outputs": [
    {
     "name": "stdout",
     "output_type": "stream",
     "text": [
      "(476, 7)\n"
     ]
    },
    {
     "data": {
      "text/html": [
       "<div>\n",
       "<table border=\"1\" class=\"dataframe\">\n",
       "  <thead>\n",
       "    <tr style=\"text-align: right;\">\n",
       "      <th></th>\n",
       "      <th>6</th>\n",
       "      <th>7</th>\n",
       "      <th>8</th>\n",
       "      <th>9</th>\n",
       "      <th>10</th>\n",
       "      <th>11</th>\n",
       "      <th>12</th>\n",
       "    </tr>\n",
       "  </thead>\n",
       "  <tbody>\n",
       "    <tr>\n",
       "      <th>0</th>\n",
       "      <td>chr1</td>\n",
       "      <td>6575245</td>\n",
       "      <td>6575246</td>\n",
       "      <td>CM096405</td>\n",
       "      <td>G</td>\n",
       "      <td>A</td>\n",
       "      <td>DFP</td>\n",
       "    </tr>\n",
       "    <tr>\n",
       "      <th>1</th>\n",
       "      <td>chr1</td>\n",
       "      <td>21561101</td>\n",
       "      <td>21561102</td>\n",
       "      <td>CM031610</td>\n",
       "      <td>G</td>\n",
       "      <td>C</td>\n",
       "      <td>DM</td>\n",
       "    </tr>\n",
       "    <tr>\n",
       "      <th>2</th>\n",
       "      <td>chr1</td>\n",
       "      <td>21561100</td>\n",
       "      <td>21561101</td>\n",
       "      <td>CM051003</td>\n",
       "      <td>G</td>\n",
       "      <td>C</td>\n",
       "      <td>DM</td>\n",
       "    </tr>\n",
       "    <tr>\n",
       "      <th>3</th>\n",
       "      <td>chr1</td>\n",
       "      <td>77044236</td>\n",
       "      <td>77044237</td>\n",
       "      <td>CM141123</td>\n",
       "      <td>G</td>\n",
       "      <td>A</td>\n",
       "      <td>DM</td>\n",
       "    </tr>\n",
       "    <tr>\n",
       "      <th>4</th>\n",
       "      <td>chr1</td>\n",
       "      <td>147579257</td>\n",
       "      <td>147579258</td>\n",
       "      <td>CR115837</td>\n",
       "      <td>G</td>\n",
       "      <td>A</td>\n",
       "      <td>DP</td>\n",
       "    </tr>\n",
       "  </tbody>\n",
       "</table>\n",
       "</div>"
      ],
      "text/plain": [
       "     6          7          8         9  10 11   12\n",
       "0  chr1    6575245    6575246  CM096405  G  A  DFP\n",
       "1  chr1   21561101   21561102  CM031610  G  C   DM\n",
       "2  chr1   21561100   21561101  CM051003  G  C   DM\n",
       "3  chr1   77044236   77044237  CM141123  G  A   DM\n",
       "4  chr1  147579257  147579258  CR115837  G  A   DP"
      ]
     },
     "execution_count": 37,
     "metadata": {},
     "output_type": "execute_result"
    }
   ],
   "source": [
    "introns_Intersect_Muts_NoCategory = pd.read_table(\"../temp/\"+whichDataSet+\"/Introns_Intersect_\"+whichDataSet+\"Muts_DoNotMeetAnyCriteria.txt\",sep=\"\\t\",header=None)\n",
    "Muts_NoCategory = introns_Intersect_Muts_NoCategory.iloc[:,range(6,13)].drop_duplicates()\n",
    "print Muts_NoCategory.shape\n",
    "Muts_NoCategory.head()"
   ]
  },
  {
   "cell_type": "code",
   "execution_count": 38,
   "metadata": {},
   "outputs": [
    {
     "data": {
      "image/png": "[encoded data removed]",
      "text/plain": [
       "<matplotlib.figure.Figure at 0x7f5147fa90d0>"
      ]
     },
     "metadata": {},
     "output_type": "display_data"
    }
   ],
   "source": [
    "plotForCat = plotNumberMutsForClinSig(Muts_NoCategory)\n",
    "plt.xlabel(\"Clinical Significance\")\n",
    "plt.ylabel(\"Frequency of DAVs\")\n",
    "locs, labels = plt.xticks()\n",
    "plt.setp(labels, rotation=90)\n",
    "plt.title(\"Breakdown of Clinical Significance for \"+whichDataSet+\" DAVs no category \")\n",
    "plt.show()"
   ]
  },
  {
   "cell_type": "code",
   "execution_count": null,
   "metadata": {},
   "outputs": [],
   "source": []
  }
 ],
 "metadata": {
  "kernelspec": {
   "display_name": "Python 2",
   "language": "python",
   "name": "python2"
  },
  "language_info": {
   "codemirror_mode": {
    "name": "ipython",
    "version": 2
   },
   "file_extension": ".py",
   "mimetype": "text/x-python",
   "name": "python",
   "nbconvert_exporter": "python",
   "pygments_lexer": "ipython2",
   "version": "2.7.12"
  }
 },
 "nbformat": 4,
 "nbformat_minor": 2
}
