{
 "cells": [
  {
   "cell_type": "markdown",
   "metadata": {},
   "source": [
    "The main purpose of this script is to format the introns properly so that they can be overlapped with the mutation data. \n",
    "\n",
    "The secondary purpose is to categorize the introns into constitutive introns and alternative introns. "
   ]
  },
  {
   "cell_type": "code",
   "execution_count": 1,
   "metadata": {},
   "outputs": [],
   "source": [
    "# Import relevant packages\n",
    "import pandas as pd"
   ]
  },
  {
   "cell_type": "code",
   "execution_count": 5,
   "metadata": {},
   "outputs": [],
   "source": [
    "# These are the relevant chromosomes we are interested in\n",
    "chrom = range(1,23)\n",
    "chrom.extend(['X','Y'])\n",
    "chrom_act = ['chr'+str(i) for i in chrom]"
   ]
  },
  {
   "cell_type": "code",
   "execution_count": 6,
   "metadata": {},
   "outputs": [
    {
     "name": "stdout",
     "output_type": "stream",
     "text": [
      "(517099, 6)\n"
     ]
    },
    {
     "data": {
      "text/html": [
       "<div>\n",
       "<table border=\"1\" class=\"dataframe\">\n",
       "  <thead>\n",
       "    <tr style=\"text-align: right;\">\n",
       "      <th></th>\n",
       "      <th>0</th>\n",
       "      <th>1</th>\n",
       "      <th>2</th>\n",
       "      <th>3</th>\n",
       "      <th>4</th>\n",
       "      <th>5</th>\n",
       "    </tr>\n",
       "  </thead>\n",
       "  <tbody>\n",
       "    <tr>\n",
       "      <th>0</th>\n",
       "      <td>chr1</td>\n",
       "      <td>67093604</td>\n",
       "      <td>67096251</td>\n",
       "      <td>NR_075077.1_intron_0_0_chr1_67093605_r</td>\n",
       "      <td>0</td>\n",
       "      <td>-</td>\n",
       "    </tr>\n",
       "    <tr>\n",
       "      <th>1</th>\n",
       "      <td>chr1</td>\n",
       "      <td>67096321</td>\n",
       "      <td>67103237</td>\n",
       "      <td>NR_075077.1_intron_1_0_chr1_67096322_r</td>\n",
       "      <td>0</td>\n",
       "      <td>-</td>\n",
       "    </tr>\n",
       "    <tr>\n",
       "      <th>2</th>\n",
       "      <td>chr1</td>\n",
       "      <td>67103382</td>\n",
       "      <td>67111576</td>\n",
       "      <td>NR_075077.1_intron_2_0_chr1_67103383_r</td>\n",
       "      <td>0</td>\n",
       "      <td>-</td>\n",
       "    </tr>\n",
       "    <tr>\n",
       "      <th>3</th>\n",
       "      <td>chr1</td>\n",
       "      <td>67111644</td>\n",
       "      <td>67113613</td>\n",
       "      <td>NR_075077.1_intron_3_0_chr1_67111645_r</td>\n",
       "      <td>0</td>\n",
       "      <td>-</td>\n",
       "    </tr>\n",
       "    <tr>\n",
       "      <th>4</th>\n",
       "      <td>chr1</td>\n",
       "      <td>67113756</td>\n",
       "      <td>67115351</td>\n",
       "      <td>NR_075077.1_intron_4_0_chr1_67113757_r</td>\n",
       "      <td>0</td>\n",
       "      <td>-</td>\n",
       "    </tr>\n",
       "  </tbody>\n",
       "</table>\n",
       "</div>"
      ],
      "text/plain": [
       "      0         1         2                                       3  4  5\n",
       "0  chr1  67093604  67096251  NR_075077.1_intron_0_0_chr1_67093605_r  0  -\n",
       "1  chr1  67096321  67103237  NR_075077.1_intron_1_0_chr1_67096322_r  0  -\n",
       "2  chr1  67103382  67111576  NR_075077.1_intron_2_0_chr1_67103383_r  0  -\n",
       "3  chr1  67111644  67113613  NR_075077.1_intron_3_0_chr1_67111645_r  0  -\n",
       "4  chr1  67113756  67115351  NR_075077.1_intron_4_0_chr1_67113757_r  0  -"
      ]
     },
     "execution_count": 6,
     "metadata": {},
     "output_type": "execute_result"
    }
   ],
   "source": [
    "# Read in intron file\n",
    "introns = pd.read_csv(\"../data/NCBI_RefSeq_Curated_Introns.bed\",sep=\"\\t\",header=None)\n",
    "print introns.shape\n",
    "introns.head()"
   ]
  },
  {
   "cell_type": "code",
   "execution_count": 7,
   "metadata": {},
   "outputs": [
    {
     "name": "stdout",
     "output_type": "stream",
     "text": [
      "(476743, 5)\n",
      "(424240, 5)\n"
     ]
    },
    {
     "data": {
      "text/html": [
       "<div>\n",
       "<table border=\"1\" class=\"dataframe\">\n",
       "  <thead>\n",
       "    <tr style=\"text-align: right;\">\n",
       "      <th></th>\n",
       "      <th>chrom</th>\n",
       "      <th>start</th>\n",
       "      <th>end</th>\n",
       "      <th>refseq_id</th>\n",
       "      <th>strand</th>\n",
       "    </tr>\n",
       "  </thead>\n",
       "  <tbody>\n",
       "    <tr>\n",
       "      <th>9</th>\n",
       "      <td>chr1</td>\n",
       "      <td>67093604</td>\n",
       "      <td>67096251</td>\n",
       "      <td>NM_001276352</td>\n",
       "      <td>-</td>\n",
       "    </tr>\n",
       "    <tr>\n",
       "      <th>10</th>\n",
       "      <td>chr1</td>\n",
       "      <td>67096321</td>\n",
       "      <td>67103237</td>\n",
       "      <td>NM_001276352</td>\n",
       "      <td>-</td>\n",
       "    </tr>\n",
       "    <tr>\n",
       "      <th>11</th>\n",
       "      <td>chr1</td>\n",
       "      <td>67103382</td>\n",
       "      <td>67111576</td>\n",
       "      <td>NM_001276352</td>\n",
       "      <td>-</td>\n",
       "    </tr>\n",
       "    <tr>\n",
       "      <th>12</th>\n",
       "      <td>chr1</td>\n",
       "      <td>67111644</td>\n",
       "      <td>67115351</td>\n",
       "      <td>NM_001276352</td>\n",
       "      <td>-</td>\n",
       "    </tr>\n",
       "    <tr>\n",
       "      <th>13</th>\n",
       "      <td>chr1</td>\n",
       "      <td>67115464</td>\n",
       "      <td>67125751</td>\n",
       "      <td>NM_001276352</td>\n",
       "      <td>-</td>\n",
       "    </tr>\n",
       "  </tbody>\n",
       "</table>\n",
       "</div>"
      ],
      "text/plain": [
       "   chrom     start       end     refseq_id strand\n",
       "9   chr1  67093604  67096251  NM_001276352      -\n",
       "10  chr1  67096321  67103237  NM_001276352      -\n",
       "11  chr1  67103382  67111576  NM_001276352      -\n",
       "12  chr1  67111644  67115351  NM_001276352      -\n",
       "13  chr1  67115464  67125751  NM_001276352      -"
      ]
     },
     "execution_count": 7,
     "metadata": {},
     "output_type": "execute_result"
    }
   ],
   "source": [
    "# We only want the refseq ID and none of the other data in column 3\n",
    "# We also only want introns that are in relevant chromosomes\n",
    "# We also only want introns that are in mRNAs and not non-coding RNAs\n",
    "introndata = {\"chrom\":introns[0],'start':introns[1],'end':introns[2],'refseq_id':introns[3].str.split(pat='.',expand=True)[0],\"strand\":introns[5]}\n",
    "introndata_df = pd.DataFrame(introndata,columns=['chrom','start','end','refseq_id','strand'])\n",
    "introndata_df_validchrm = introndata_df[introndata_df[\"chrom\"].isin(chrom_act)]\n",
    "print introndata_df_validchrm.shape\n",
    "introndata_df_validchrm_NM = introndata_df_validchrm[introndata_df_validchrm['refseq_id'].str.contains('NM')]\n",
    "print introndata_df_validchrm_NM.shape\n",
    "introndata_df_validchrm_NM.head()"
   ]
  },
  {
   "cell_type": "code",
   "execution_count": 14,
   "metadata": {},
   "outputs": [
    {
     "name": "stdout",
     "output_type": "stream",
     "text": [
      "(41707,)\n"
     ]
    },
    {
     "data": {
      "text/plain": [
       "9     NM_001276352\n",
       "17    NM_001276351\n",
       "24    NM_001005337\n",
       "37       NM_000299\n",
       "51    NM_001042682\n",
       "Name: refseq_id, dtype: object"
      ]
     },
     "execution_count": 14,
     "metadata": {},
     "output_type": "execute_result"
    }
   ],
   "source": [
    "# We want to get the RefSeq ids found in the NCBI curated intron data \n",
    "refseqids_introndata = introndata_df_validchrm_NM[\"refseq_id\"].drop_duplicates()\n",
    "print refseqids_introndata.shape\n",
    "refseqids_introndata.head()"
   ]
  },
  {
   "cell_type": "code",
   "execution_count": 10,
   "metadata": {},
   "outputs": [
    {
     "name": "stdout",
     "output_type": "stream",
     "text": [
      "(50105, 2)\n"
     ]
    },
    {
     "data": {
      "text/html": [
       "<div>\n",
       "<table border=\"1\" class=\"dataframe\">\n",
       "  <thead>\n",
       "    <tr style=\"text-align: right;\">\n",
       "      <th></th>\n",
       "      <th>refseq_id_with_gene</th>\n",
       "      <th>gene_name</th>\n",
       "    </tr>\n",
       "  </thead>\n",
       "  <tbody>\n",
       "    <tr>\n",
       "      <th>1</th>\n",
       "      <td>NM_015537</td>\n",
       "      <td>NSMF</td>\n",
       "    </tr>\n",
       "    <tr>\n",
       "      <th>27</th>\n",
       "      <td>NM_033013</td>\n",
       "      <td>NR1I2</td>\n",
       "    </tr>\n",
       "    <tr>\n",
       "      <th>28</th>\n",
       "      <td>NM_033012</td>\n",
       "      <td>TNFSF11</td>\n",
       "    </tr>\n",
       "    <tr>\n",
       "      <th>29</th>\n",
       "      <td>NM_032898</td>\n",
       "      <td>CEP19</td>\n",
       "    </tr>\n",
       "    <tr>\n",
       "      <th>30</th>\n",
       "      <td>NM_033007</td>\n",
       "      <td>NLRP1</td>\n",
       "    </tr>\n",
       "  </tbody>\n",
       "</table>\n",
       "</div>"
      ],
      "text/plain": [
       "   refseq_id_with_gene gene_name\n",
       "1            NM_015537      NSMF\n",
       "27           NM_033013     NR1I2\n",
       "28           NM_033012   TNFSF11\n",
       "29           NM_032898     CEP19\n",
       "30           NM_033007     NLRP1"
      ]
     },
     "execution_count": 10,
     "metadata": {},
     "output_type": "execute_result"
    }
   ],
   "source": [
    "# Grab the mapping file that maps refseq IDs to gene names\n",
    "# Only grab the IDs that are for mRNAs\n",
    "refseqid_gene = pd.read_csv('../data/Refseq2Gene.txt',sep='\\t',header=None)\n",
    "refseqid_gene_nodups = refseqid_gene.drop_duplicates()\n",
    "refseqid_gene_nodups.columns = ['refseq_id_with_gene','gene_name']\n",
    "refseqid_gene_nodups_NM = refseqid_gene_nodups[refseqid_gene_nodups['refseq_id_with_gene'].str.contains('NM')]\n",
    "print refseqid_gene_nodups_NM.shape\n",
    "refseqid_gene_nodups_NM.head()"
   ]
  },
  {
   "cell_type": "code",
   "execution_count": 15,
   "metadata": {},
   "outputs": [
    {
     "data": {
      "text/plain": [
       "84"
      ]
     },
     "execution_count": 15,
     "metadata": {},
     "output_type": "execute_result"
    }
   ],
   "source": [
    "refseq_IDs_not_available_for_introns = [i for i in list(refseqids_introndata) if i not in list(refseqid_gene_nodups_NM[\"refseq_id_with_gene\"].values)] \n",
    "len(refseq_IDs_not_available_for_introns)\n",
    "# I checked these refseqIDs that were missing in the mapping of refseqID to gene \n",
    "# but were present in the intron list on NCBI. Those refseq IDs record has been removed or replaced. \n",
    "# So we should get rid of them"
   ]
  },
  {
   "cell_type": "code",
   "execution_count": 18,
   "metadata": {},
   "outputs": [],
   "source": [
    "# Refseq IDs present in both intron data and mapping data\n",
    "refseq_IDs_available_for_introns = [i for i in list(refseqids_introndata) if i in list(refseqid_gene_nodups_NM[\"refseq_id_with_gene\"].values)] "
   ]
  },
  {
   "cell_type": "code",
   "execution_count": 21,
   "metadata": {},
   "outputs": [
    {
     "name": "stdout",
     "output_type": "stream",
     "text": [
      "(41623, 2)\n"
     ]
    }
   ],
   "source": [
    "# Only get gene names for which there are valid refseq ids in the intron data\n",
    "refseqid_gene_nodups_NM_ValidRefSeqIDs = refseqid_gene_nodups_NM[refseqid_gene_nodups_NM[\"refseq_id_with_gene\"].isin(refseq_IDs_available_for_introns)]\n",
    "print refseqid_gene_nodups_NM_ValidRefSeqIDs.shape"
   ]
  },
  {
   "cell_type": "code",
   "execution_count": 22,
   "metadata": {},
   "outputs": [
    {
     "name": "stdout",
     "output_type": "stream",
     "text": [
      "(423486, 5)\n"
     ]
    }
   ],
   "source": [
    "# Only get introns that have valid gene names in mapping data\n",
    "introndata_df_validchrm_NM_ValidRefSeqIDs = introndata_df_validchrm_NM[introndata_df_validchrm_NM['refseq_id'].isin(refseq_IDs_available_for_introns)]\n",
    "print introndata_df_validchrm_NM_ValidRefSeqIDs.shape"
   ]
  },
  {
   "cell_type": "markdown",
   "metadata": {},
   "source": [
    "Merge the intron data which is referenced by NCBI RefSeqID to genename-RefSeqID data so that we can associate introns to a gene name"
   ]
  },
  {
   "cell_type": "code",
   "execution_count": 24,
   "metadata": {},
   "outputs": [
    {
     "name": "stdout",
     "output_type": "stream",
     "text": [
      "(423486, 6)\n"
     ]
    },
    {
     "data": {
      "text/html": [
       "<div>\n",
       "<table border=\"1\" class=\"dataframe\">\n",
       "  <thead>\n",
       "    <tr style=\"text-align: right;\">\n",
       "      <th></th>\n",
       "      <th>chrom</th>\n",
       "      <th>start</th>\n",
       "      <th>end</th>\n",
       "      <th>refseq_id</th>\n",
       "      <th>strand</th>\n",
       "      <th>gene_name</th>\n",
       "    </tr>\n",
       "  </thead>\n",
       "  <tbody>\n",
       "    <tr>\n",
       "      <th>0</th>\n",
       "      <td>chr1</td>\n",
       "      <td>67093604</td>\n",
       "      <td>67096251</td>\n",
       "      <td>NM_001276352</td>\n",
       "      <td>-</td>\n",
       "      <td>C1orf141</td>\n",
       "    </tr>\n",
       "    <tr>\n",
       "      <th>1</th>\n",
       "      <td>chr1</td>\n",
       "      <td>67096321</td>\n",
       "      <td>67103237</td>\n",
       "      <td>NM_001276352</td>\n",
       "      <td>-</td>\n",
       "      <td>C1orf141</td>\n",
       "    </tr>\n",
       "    <tr>\n",
       "      <th>2</th>\n",
       "      <td>chr1</td>\n",
       "      <td>67103382</td>\n",
       "      <td>67111576</td>\n",
       "      <td>NM_001276352</td>\n",
       "      <td>-</td>\n",
       "      <td>C1orf141</td>\n",
       "    </tr>\n",
       "    <tr>\n",
       "      <th>3</th>\n",
       "      <td>chr1</td>\n",
       "      <td>67111644</td>\n",
       "      <td>67115351</td>\n",
       "      <td>NM_001276352</td>\n",
       "      <td>-</td>\n",
       "      <td>C1orf141</td>\n",
       "    </tr>\n",
       "    <tr>\n",
       "      <th>4</th>\n",
       "      <td>chr1</td>\n",
       "      <td>67115464</td>\n",
       "      <td>67125751</td>\n",
       "      <td>NM_001276352</td>\n",
       "      <td>-</td>\n",
       "      <td>C1orf141</td>\n",
       "    </tr>\n",
       "  </tbody>\n",
       "</table>\n",
       "</div>"
      ],
      "text/plain": [
       "  chrom     start       end     refseq_id strand gene_name\n",
       "0  chr1  67093604  67096251  NM_001276352      -  C1orf141\n",
       "1  chr1  67096321  67103237  NM_001276352      -  C1orf141\n",
       "2  chr1  67103382  67111576  NM_001276352      -  C1orf141\n",
       "3  chr1  67111644  67115351  NM_001276352      -  C1orf141\n",
       "4  chr1  67115464  67125751  NM_001276352      -  C1orf141"
      ]
     },
     "execution_count": 24,
     "metadata": {},
     "output_type": "execute_result"
    }
   ],
   "source": [
    "introndata_withgenename = introndata_df_validchrm_NM_ValidRefSeqIDs.merge(refseqid_gene_nodups_NM_ValidRefSeqIDs,left_on=\"refseq_id\",right_on=\"refseq_id_with_gene\")\n",
    "introndata_withgenename = introndata_withgenename[['chrom','start','end','refseq_id','strand','gene_name']]\n",
    "print introndata_withgenename.shape\n",
    "introndata_withgenename.head()"
   ]
  },
  {
   "cell_type": "code",
   "execution_count": 25,
   "metadata": {},
   "outputs": [],
   "source": [
    "# Write this dataset into a file which will be used to intersect with mutation data\n",
    "introndata_withgenename.to_csv(\"../processed_data/Introns_JustmRNAs.bed\",sep=\"\\t\",header=False,index=False)"
   ]
  },
  {
   "cell_type": "markdown",
   "metadata": {},
   "source": [
    "We are now going to categorize the introns based on if there are alterative or constitutive introns. \n",
    "\n",
    "Alternative introns are sometimes spliced in or not depending on isoform for a given gene, \n",
    "\n",
    "while constitutive introns are always spliced out in all known isoforms of a gene. "
   ]
  },
  {
   "cell_type": "code",
   "execution_count": 26,
   "metadata": {},
   "outputs": [
    {
     "name": "stdout",
     "output_type": "stream",
     "text": [
      "(423486, 7)\n"
     ]
    },
    {
     "data": {
      "text/html": [
       "<div>\n",
       "<table border=\"1\" class=\"dataframe\">\n",
       "  <thead>\n",
       "    <tr style=\"text-align: right;\">\n",
       "      <th></th>\n",
       "      <th>chrom</th>\n",
       "      <th>start</th>\n",
       "      <th>end</th>\n",
       "      <th>refseq_id</th>\n",
       "      <th>strand</th>\n",
       "      <th>gene_name</th>\n",
       "      <th>count</th>\n",
       "    </tr>\n",
       "  </thead>\n",
       "  <tbody>\n",
       "    <tr>\n",
       "      <th>0</th>\n",
       "      <td>chr1</td>\n",
       "      <td>67093604</td>\n",
       "      <td>67096251</td>\n",
       "      <td>NM_001276352</td>\n",
       "      <td>-</td>\n",
       "      <td>C1orf141</td>\n",
       "      <td>2</td>\n",
       "    </tr>\n",
       "    <tr>\n",
       "      <th>1</th>\n",
       "      <td>chr1</td>\n",
       "      <td>67096321</td>\n",
       "      <td>67103237</td>\n",
       "      <td>NM_001276352</td>\n",
       "      <td>-</td>\n",
       "      <td>C1orf141</td>\n",
       "      <td>2</td>\n",
       "    </tr>\n",
       "    <tr>\n",
       "      <th>2</th>\n",
       "      <td>chr1</td>\n",
       "      <td>67103382</td>\n",
       "      <td>67111576</td>\n",
       "      <td>NM_001276352</td>\n",
       "      <td>-</td>\n",
       "      <td>C1orf141</td>\n",
       "      <td>2</td>\n",
       "    </tr>\n",
       "    <tr>\n",
       "      <th>3</th>\n",
       "      <td>chr1</td>\n",
       "      <td>67111644</td>\n",
       "      <td>67115351</td>\n",
       "      <td>NM_001276352</td>\n",
       "      <td>-</td>\n",
       "      <td>C1orf141</td>\n",
       "      <td>2</td>\n",
       "    </tr>\n",
       "    <tr>\n",
       "      <th>4</th>\n",
       "      <td>chr1</td>\n",
       "      <td>67115464</td>\n",
       "      <td>67125751</td>\n",
       "      <td>NM_001276352</td>\n",
       "      <td>-</td>\n",
       "      <td>C1orf141</td>\n",
       "      <td>2</td>\n",
       "    </tr>\n",
       "  </tbody>\n",
       "</table>\n",
       "</div>"
      ],
      "text/plain": [
       "  chrom     start       end     refseq_id strand gene_name  count\n",
       "0  chr1  67093604  67096251  NM_001276352      -  C1orf141      2\n",
       "1  chr1  67096321  67103237  NM_001276352      -  C1orf141      2\n",
       "2  chr1  67103382  67111576  NM_001276352      -  C1orf141      2\n",
       "3  chr1  67111644  67115351  NM_001276352      -  C1orf141      2\n",
       "4  chr1  67115464  67125751  NM_001276352      -  C1orf141      2"
      ]
     },
     "execution_count": 26,
     "metadata": {},
     "output_type": "execute_result"
    }
   ],
   "source": [
    "# Each RefSeq ID represents an isoform. Count the number of isoforms (number of RefSeq IDs) attached to a gene \n",
    "# and merge that count with previous dataset  \n",
    "num_refseqids_per_gene = pd.DataFrame({'count' : refseqid_gene_nodups_NM_ValidRefSeqIDs.groupby( [ \"gene_name\"] ).size()}).reset_index()\n",
    "introndata_withgenename_countdata = introndata_withgenename.merge(num_refseqids_per_gene,left_on=\"gene_name\",right_on=\"gene_name\")\n",
    "print introndata_withgenename_countdata.shape\n",
    "introndata_withgenename_countdata.head()"
   ]
  },
  {
   "cell_type": "code",
   "execution_count": 31,
   "metadata": {},
   "outputs": [
    {
     "name": "stdout",
     "output_type": "stream",
     "text": [
      "(209014, 7)\n"
     ]
    },
    {
     "data": {
      "text/html": [
       "<div>\n",
       "<table border=\"1\" class=\"dataframe\">\n",
       "  <thead>\n",
       "    <tr style=\"text-align: right;\">\n",
       "      <th></th>\n",
       "      <th>gene_name</th>\n",
       "      <th>count</th>\n",
       "      <th>chrom</th>\n",
       "      <th>start</th>\n",
       "      <th>end</th>\n",
       "      <th>strand</th>\n",
       "      <th>refseq_id</th>\n",
       "    </tr>\n",
       "  </thead>\n",
       "  <tbody>\n",
       "    <tr>\n",
       "      <th>0</th>\n",
       "      <td>A1BG</td>\n",
       "      <td>1</td>\n",
       "      <td>chr19</td>\n",
       "      <td>58347029</td>\n",
       "      <td>58347352</td>\n",
       "      <td>-</td>\n",
       "      <td>1</td>\n",
       "    </tr>\n",
       "    <tr>\n",
       "      <th>1</th>\n",
       "      <td>A1BG</td>\n",
       "      <td>1</td>\n",
       "      <td>chr19</td>\n",
       "      <td>58347640</td>\n",
       "      <td>58350369</td>\n",
       "      <td>-</td>\n",
       "      <td>1</td>\n",
       "    </tr>\n",
       "    <tr>\n",
       "      <th>2</th>\n",
       "      <td>A1BG</td>\n",
       "      <td>1</td>\n",
       "      <td>chr19</td>\n",
       "      <td>58350651</td>\n",
       "      <td>58351390</td>\n",
       "      <td>-</td>\n",
       "      <td>1</td>\n",
       "    </tr>\n",
       "    <tr>\n",
       "      <th>3</th>\n",
       "      <td>A1BG</td>\n",
       "      <td>1</td>\n",
       "      <td>chr19</td>\n",
       "      <td>58351687</td>\n",
       "      <td>58352282</td>\n",
       "      <td>-</td>\n",
       "      <td>1</td>\n",
       "    </tr>\n",
       "    <tr>\n",
       "      <th>4</th>\n",
       "      <td>A1BG</td>\n",
       "      <td>1</td>\n",
       "      <td>chr19</td>\n",
       "      <td>58352555</td>\n",
       "      <td>58352927</td>\n",
       "      <td>-</td>\n",
       "      <td>1</td>\n",
       "    </tr>\n",
       "  </tbody>\n",
       "</table>\n",
       "</div>"
      ],
      "text/plain": [
       "  gene_name  count  chrom     start       end strand  refseq_id\n",
       "0      A1BG      1  chr19  58347029  58347352      -          1\n",
       "1      A1BG      1  chr19  58347640  58350369      -          1\n",
       "2      A1BG      1  chr19  58350651  58351390      -          1\n",
       "3      A1BG      1  chr19  58351687  58352282      -          1\n",
       "4      A1BG      1  chr19  58352555  58352927      -          1"
      ]
     },
     "execution_count": 31,
     "metadata": {},
     "output_type": "execute_result"
    }
   ],
   "source": [
    "# Group all the data by gene_name, chrom, start and end coordinates, and strand and then expand all the grouped data. \n",
    "# The purpose of doing this is so that we can get unique coordinates for the introns of each gene. \n",
    "introns_groupedByGenes_IntronPosition = introndata_withgenename_countdata.groupby(['gene_name','count','chrom','start','end','strand']).count()\n",
    "introns_groupedByGenes_IntronPosition.reset_index(inplace=True)\n",
    "print introns_groupedByGenes_IntronPosition.shape\n",
    "introns_groupedByGenes_IntronPosition.head()"
   ]
  },
  {
   "cell_type": "code",
   "execution_count": 28,
   "metadata": {},
   "outputs": [
    {
     "name": "stdout",
     "output_type": "stream",
     "text": [
      "(149474, 7)\n"
     ]
    },
    {
     "data": {
      "text/html": [
       "<div>\n",
       "<table border=\"1\" class=\"dataframe\">\n",
       "  <thead>\n",
       "    <tr style=\"text-align: right;\">\n",
       "      <th></th>\n",
       "      <th>chrom</th>\n",
       "      <th>start</th>\n",
       "      <th>end</th>\n",
       "      <th>gene_name</th>\n",
       "      <th>strand</th>\n",
       "    </tr>\n",
       "  </thead>\n",
       "  <tbody>\n",
       "    <tr>\n",
       "      <th>156785</th>\n",
       "      <td>chr1</td>\n",
       "      <td>925800</td>\n",
       "      <td>925921</td>\n",
       "      <td>SAMD11</td>\n",
       "      <td>+</td>\n",
       "    </tr>\n",
       "    <tr>\n",
       "      <th>156786</th>\n",
       "      <td>chr1</td>\n",
       "      <td>926013</td>\n",
       "      <td>930154</td>\n",
       "      <td>SAMD11</td>\n",
       "      <td>+</td>\n",
       "    </tr>\n",
       "    <tr>\n",
       "      <th>156787</th>\n",
       "      <td>chr1</td>\n",
       "      <td>930336</td>\n",
       "      <td>931038</td>\n",
       "      <td>SAMD11</td>\n",
       "      <td>+</td>\n",
       "    </tr>\n",
       "    <tr>\n",
       "      <th>156788</th>\n",
       "      <td>chr1</td>\n",
       "      <td>931089</td>\n",
       "      <td>935771</td>\n",
       "      <td>SAMD11</td>\n",
       "      <td>+</td>\n",
       "    </tr>\n",
       "    <tr>\n",
       "      <th>156789</th>\n",
       "      <td>chr1</td>\n",
       "      <td>935896</td>\n",
       "      <td>939039</td>\n",
       "      <td>SAMD11</td>\n",
       "      <td>+</td>\n",
       "    </tr>\n",
       "  </tbody>\n",
       "</table>\n",
       "</div>"
      ],
      "text/plain": [
       "       chrom   start     end gene_name strand\n",
       "156785  chr1  925800  925921    SAMD11      +\n",
       "156786  chr1  926013  930154    SAMD11      +\n",
       "156787  chr1  930336  931038    SAMD11      +\n",
       "156788  chr1  931089  935771    SAMD11      +\n",
       "156789  chr1  935896  939039    SAMD11      +"
      ]
     },
     "execution_count": 28,
     "metadata": {},
     "output_type": "execute_result"
    }
   ],
   "source": [
    "# We can now separate between constitutive introns and alternative introns \n",
    "# since constitutive introns will have the same count as the number of refseqids \n",
    "constitutive_introns = introns_groupedByGenes_IntronPosition[introns_groupedByGenes_IntronPosition['count']==introns_groupedByGenes_IntronPosition['refseq_id']]\n",
    "constitutive_introns_sorted = constitutive_introns[[\"chrom\",\"start\",\"end\",\"gene_name\",\"strand\"]].sort_values([\"chrom\",\"start\"])\n",
    "constitutive_introns_sorted.to_csv(\"../processed_data/constitutive_introns.bed\",sep=\"\\t\",header=False,index=False)\n",
    "print constitutive_introns.shape\n",
    "constitutive_introns_sorted.head()"
   ]
  },
  {
   "cell_type": "code",
   "execution_count": 29,
   "metadata": {},
   "outputs": [
    {
     "name": "stdout",
     "output_type": "stream",
     "text": [
      "(59540, 7)\n"
     ]
    },
    {
     "data": {
      "text/html": [
       "<div>\n",
       "<table border=\"1\" class=\"dataframe\">\n",
       "  <thead>\n",
       "    <tr style=\"text-align: right;\">\n",
       "      <th></th>\n",
       "      <th>chrom</th>\n",
       "      <th>start</th>\n",
       "      <th>end</th>\n",
       "      <th>gene_name</th>\n",
       "      <th>strand</th>\n",
       "    </tr>\n",
       "  </thead>\n",
       "  <tbody>\n",
       "    <tr>\n",
       "      <th>136626</th>\n",
       "      <td>chr1</td>\n",
       "      <td>971006</td>\n",
       "      <td>971076</td>\n",
       "      <td>PLEKHN1</td>\n",
       "      <td>+</td>\n",
       "    </tr>\n",
       "    <tr>\n",
       "      <th>136627</th>\n",
       "      <td>chr1</td>\n",
       "      <td>971006</td>\n",
       "      <td>971112</td>\n",
       "      <td>PLEKHN1</td>\n",
       "      <td>+</td>\n",
       "    </tr>\n",
       "    <tr>\n",
       "      <th>136632</th>\n",
       "      <td>chr1</td>\n",
       "      <td>973010</td>\n",
       "      <td>973185</td>\n",
       "      <td>PLEKHN1</td>\n",
       "      <td>+</td>\n",
       "    </tr>\n",
       "    <tr>\n",
       "      <th>136633</th>\n",
       "      <td>chr1</td>\n",
       "      <td>973010</td>\n",
       "      <td>973499</td>\n",
       "      <td>PLEKHN1</td>\n",
       "      <td>+</td>\n",
       "    </tr>\n",
       "    <tr>\n",
       "      <th>136634</th>\n",
       "      <td>chr1</td>\n",
       "      <td>973326</td>\n",
       "      <td>973499</td>\n",
       "      <td>PLEKHN1</td>\n",
       "      <td>+</td>\n",
       "    </tr>\n",
       "  </tbody>\n",
       "</table>\n",
       "</div>"
      ],
      "text/plain": [
       "       chrom   start     end gene_name strand\n",
       "136626  chr1  971006  971076   PLEKHN1      +\n",
       "136627  chr1  971006  971112   PLEKHN1      +\n",
       "136632  chr1  973010  973185   PLEKHN1      +\n",
       "136633  chr1  973010  973499   PLEKHN1      +\n",
       "136634  chr1  973326  973499   PLEKHN1      +"
      ]
     },
     "execution_count": 29,
     "metadata": {},
     "output_type": "execute_result"
    }
   ],
   "source": [
    "# alternative introns will not have the same count sa number of refseqids\n",
    "alternative_introns = introns_groupedByGenes_IntronPosition[introns_groupedByGenes_IntronPosition['count']!=introns_groupedByGenes_IntronPosition['refseq_id']]\n",
    "alternative_introns_sorted = alternative_introns[[\"chrom\",\"start\",\"end\",\"gene_name\",\"strand\"]].sort_values([\"chrom\",\"start\"])\n",
    "alternative_introns_sorted.to_csv(\"../processed_data/alternative_introns.bed\",sep=\"\\t\",header=False,index=False)\n",
    "print alternative_introns.shape\n",
    "alternative_introns_sorted.head()"
   ]
  },
  {
   "cell_type": "code",
   "execution_count": 2,
   "metadata": {},
   "outputs": [],
   "source": [
    "%%script bash\n",
    "# We want introns that are not intersecting with any exons: They are pure introns -> \n",
    "# this way any mutations found in those introns are not affecting coding parts\n",
    "bedtools intersect -a ../data/NCBI_RefSeq_Curated_Introns.bed -b ../data/NCBI_RefSeq_Curated_Exons.bed -wa -v > ../processed_data/Introns_DoNotIntersect_Exons.bed"
   ]
  },
  {
   "cell_type": "code",
   "execution_count": null,
   "metadata": {},
   "outputs": [],
   "source": []
  }
 ],
 "metadata": {
  "kernelspec": {
   "display_name": "Python 2",
   "language": "python",
   "name": "python2"
  },
  "language_info": {
   "codemirror_mode": {
    "name": "ipython",
    "version": 2
   },
   "file_extension": ".py",
   "mimetype": "text/x-python",
   "name": "python",
   "nbconvert_exporter": "python",
   "pygments_lexer": "ipython2",
   "version": "2.7.12"
  }
 },
 "nbformat": 4,
 "nbformat_minor": 2
}
