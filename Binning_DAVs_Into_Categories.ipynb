{
 "cells": [
  {
   "cell_type": "markdown",
   "metadata": {},
   "source": [
    "All analysis is being done in hg38\n",
    "\n",
    "# The goal of this script is categorize Disease Associated Variants (DAVs) into 6 different categories:\n",
    "\n",
    " 1. DAVs found in splice sites\n",
    " 2. DAVs creating new splice sites\n",
    " 3. DAVs found in ISRE motifs\n",
    " 4. DAVs creating new ISRE motifs\n",
    " 5. DAVs flanking a certain distance from ISRE motifs\n",
    " 6. DAVs that don't meet any of the above criteria"
   ]
  },
  {
   "cell_type": "code",
   "execution_count": 1,
   "metadata": {},
   "outputs": [],
   "source": [
    "whichDataSet = \"HGMD\""
   ]
  },
  {
   "cell_type": "code",
   "execution_count": 6,
   "metadata": {},
   "outputs": [],
   "source": [
    "# Import relevant packages\n",
    "import pandas as pd\n",
    "import matplotlib.pyplot as plt\n",
    "import seaborn as sns\n",
    "import numpy as np\n",
    "import regex as re2\n",
    "import seaborn as sns"
   ]
  },
  {
   "cell_type": "code",
   "execution_count": 3,
   "metadata": {},
   "outputs": [],
   "source": [
    "chrom = range(1,23)\n",
    "chrom.extend(['X','Y'])\n",
    "chrom_act = ['chr'+str(i) for i in chrom]"
   ]
  },
  {
   "cell_type": "markdown",
   "metadata": {},
   "source": [
    "We want to look at the distribution of DAVs along the introns. We  intersect DAVs with the introns"
   ]
  },
  {
   "cell_type": "code",
   "execution_count": 4,
   "metadata": {},
   "outputs": [
    {
     "name": "stdout",
     "output_type": "stream",
     "text": [
      "ClinVar\n",
      "Mutations_ClinVar.bed\n"
     ]
    }
   ],
   "source": [
    "%%script bash\n",
    "DataSet=\"HGMD\"\n",
    "echo $DataSet\n",
    "if [ $DataSet == \"All\" ]\n",
    "then\n",
    " filetoIntersect=\"CombinedMutations_HGMDandClinVar.bed\" \n",
    "elif [ $DataSet == \"HGMD\" ]\n",
    "then \n",
    " filetoIntersect=\"Mutations_HGMD.bed\"\n",
    "else \n",
    " filetoIntersect=\"Mutations_ClinVar.bed\"\n",
    "fi\n",
    "echo $filetoIntersect\n",
    "bedtools intersect -a ../processed_data/Introns_JustmRNAs.bed -b ../processed_data/${filetoIntersect} -wa -wb > ../temp/${DataSet}/Introns_Intersect_${DataSet}Muts.txt"
   ]
  },
  {
   "cell_type": "code",
   "execution_count": 5,
   "metadata": {},
   "outputs": [
    {
     "name": "stdout",
     "output_type": "stream",
     "text": [
      "(132025, 13)\n"
     ]
    },
    {
     "data": {
      "text/html": [
       "<div>\n",
       "<table border=\"1\" class=\"dataframe\">\n",
       "  <thead>\n",
       "    <tr style=\"text-align: right;\">\n",
       "      <th></th>\n",
       "      <th>0</th>\n",
       "      <th>1</th>\n",
       "      <th>2</th>\n",
       "      <th>3</th>\n",
       "      <th>4</th>\n",
       "      <th>5</th>\n",
       "      <th>6</th>\n",
       "      <th>7</th>\n",
       "      <th>8</th>\n",
       "      <th>9</th>\n",
       "      <th>10</th>\n",
       "      <th>11</th>\n",
       "      <th>12</th>\n",
       "    </tr>\n",
       "  </thead>\n",
       "  <tbody>\n",
       "    <tr>\n",
       "      <th>0</th>\n",
       "      <td>chr1</td>\n",
       "      <td>201322133</td>\n",
       "      <td>201323012</td>\n",
       "      <td>NM_001005337</td>\n",
       "      <td>+</td>\n",
       "      <td>PKP1</td>\n",
       "      <td>chr1</td>\n",
       "      <td>201322997</td>\n",
       "      <td>201322998</td>\n",
       "      <td>294823</td>\n",
       "      <td>G</td>\n",
       "      <td>T</td>\n",
       "      <td>Likely_benign</td>\n",
       "    </tr>\n",
       "    <tr>\n",
       "      <th>1</th>\n",
       "      <td>chr1</td>\n",
       "      <td>201325127</td>\n",
       "      <td>201325753</td>\n",
       "      <td>NM_001005337</td>\n",
       "      <td>+</td>\n",
       "      <td>PKP1</td>\n",
       "      <td>chr1</td>\n",
       "      <td>201325742</td>\n",
       "      <td>201325743</td>\n",
       "      <td>390680</td>\n",
       "      <td>C</td>\n",
       "      <td>T</td>\n",
       "      <td>Likely_benign</td>\n",
       "    </tr>\n",
       "    <tr>\n",
       "      <th>2</th>\n",
       "      <td>chr1</td>\n",
       "      <td>201322133</td>\n",
       "      <td>201323012</td>\n",
       "      <td>NM_000299</td>\n",
       "      <td>+</td>\n",
       "      <td>PKP1</td>\n",
       "      <td>chr1</td>\n",
       "      <td>201322997</td>\n",
       "      <td>201322998</td>\n",
       "      <td>294823</td>\n",
       "      <td>G</td>\n",
       "      <td>T</td>\n",
       "      <td>Likely_benign</td>\n",
       "    </tr>\n",
       "    <tr>\n",
       "      <th>3</th>\n",
       "      <td>chr1</td>\n",
       "      <td>201325127</td>\n",
       "      <td>201325753</td>\n",
       "      <td>NM_000299</td>\n",
       "      <td>+</td>\n",
       "      <td>PKP1</td>\n",
       "      <td>chr1</td>\n",
       "      <td>201325742</td>\n",
       "      <td>201325743</td>\n",
       "      <td>390680</td>\n",
       "      <td>C</td>\n",
       "      <td>T</td>\n",
       "      <td>Likely_benign</td>\n",
       "    </tr>\n",
       "    <tr>\n",
       "      <th>4</th>\n",
       "      <td>chr1</td>\n",
       "      <td>8359986</td>\n",
       "      <td>8360111</td>\n",
       "      <td>NM_001042682</td>\n",
       "      <td>-</td>\n",
       "      <td>RERE</td>\n",
       "      <td>chr1</td>\n",
       "      <td>8360004</td>\n",
       "      <td>8360005</td>\n",
       "      <td>445470</td>\n",
       "      <td>C</td>\n",
       "      <td>A</td>\n",
       "      <td>Likely_benign</td>\n",
       "    </tr>\n",
       "  </tbody>\n",
       "</table>\n",
       "</div>"
      ],
      "text/plain": [
       "     0          1          2             3  4     5     6          7   \\\n",
       "0  chr1  201322133  201323012  NM_001005337  +  PKP1  chr1  201322997   \n",
       "1  chr1  201325127  201325753  NM_001005337  +  PKP1  chr1  201325742   \n",
       "2  chr1  201322133  201323012     NM_000299  +  PKP1  chr1  201322997   \n",
       "3  chr1  201325127  201325753     NM_000299  +  PKP1  chr1  201325742   \n",
       "4  chr1    8359986    8360111  NM_001042682  -  RERE  chr1    8360004   \n",
       "\n",
       "          8       9  10 11             12  \n",
       "0  201322998  294823  G  T  Likely_benign  \n",
       "1  201325743  390680  C  T  Likely_benign  \n",
       "2  201322998  294823  G  T  Likely_benign  \n",
       "3  201325743  390680  C  T  Likely_benign  \n",
       "4    8360005  445470  C  A  Likely_benign  "
      ]
     },
     "execution_count": 5,
     "metadata": {},
     "output_type": "execute_result"
    }
   ],
   "source": [
    "# Read in the mutations that intersect\n",
    "introns_Intersect_Muts = pd.read_csv(\"../temp/\"+whichDataSet+\"/Introns_Intersect_\"+whichDataSet+\"Muts.txt\",sep=\"\\t\",header=None)\n",
    "print introns_Intersect_Muts.shape\n",
    "introns_Intersect_Muts.head()"
   ]
  },
  {
   "cell_type": "code",
   "execution_count": 6,
   "metadata": {},
   "outputs": [],
   "source": [
    "# Only do this is dataset is HGMD\n",
    "if whichDataSet==\"HGMD\":\n",
    "    introns_Intersect_Muts_SameStrand = introns_Intersect_Muts[introns_Intersect_Muts[4]==introns_Intersect_Muts[10]]\n",
    "    print introns_Intersect_Muts_SameStrand.shape\n",
    "    introns_Intersect_Muts = introns_Intersect_Muts_SameStrand.iloc[:,[0,1,2,3,4,5,6,7,8,9,11,12,13]]\n",
    "    print introns_Intersect_Muts.head()"
   ]
  },
  {
   "cell_type": "code",
   "execution_count": 7,
   "metadata": {},
   "outputs": [
    {
     "name": "stdout",
     "output_type": "stream",
     "text": [
      "(50129, 13)\n"
     ]
    },
    {
     "data": {
      "text/html": [
       "<div>\n",
       "<table border=\"1\" class=\"dataframe\">\n",
       "  <thead>\n",
       "    <tr style=\"text-align: right;\">\n",
       "      <th></th>\n",
       "      <th>0</th>\n",
       "      <th>1</th>\n",
       "      <th>2</th>\n",
       "      <th>3</th>\n",
       "      <th>4</th>\n",
       "      <th>5</th>\n",
       "      <th>6</th>\n",
       "      <th>7</th>\n",
       "      <th>8</th>\n",
       "      <th>9</th>\n",
       "      <th>10</th>\n",
       "      <th>11</th>\n",
       "      <th>12</th>\n",
       "    </tr>\n",
       "    <tr>\n",
       "      <th>9</th>\n",
       "      <th></th>\n",
       "      <th></th>\n",
       "      <th></th>\n",
       "      <th></th>\n",
       "      <th></th>\n",
       "      <th></th>\n",
       "      <th></th>\n",
       "      <th></th>\n",
       "      <th></th>\n",
       "      <th></th>\n",
       "      <th></th>\n",
       "      <th></th>\n",
       "      <th></th>\n",
       "    </tr>\n",
       "  </thead>\n",
       "  <tbody>\n",
       "    <tr>\n",
       "      <th>14</th>\n",
       "      <td>chr6</td>\n",
       "      <td>26092960</td>\n",
       "      <td>26093118</td>\n",
       "      <td>NM_139010</td>\n",
       "      <td>+</td>\n",
       "      <td>HFE</td>\n",
       "      <td>chr6</td>\n",
       "      <td>26093007</td>\n",
       "      <td>26093008</td>\n",
       "      <td>14</td>\n",
       "      <td>G</td>\n",
       "      <td>A</td>\n",
       "      <td>Benign</td>\n",
       "    </tr>\n",
       "    <tr>\n",
       "      <th>735</th>\n",
       "      <td>chr4</td>\n",
       "      <td>1096839</td>\n",
       "      <td>1108342</td>\n",
       "      <td>NM_001193318</td>\n",
       "      <td>-</td>\n",
       "      <td>RNF212</td>\n",
       "      <td>chr4</td>\n",
       "      <td>1101492</td>\n",
       "      <td>1101493</td>\n",
       "      <td>735</td>\n",
       "      <td>A</td>\n",
       "      <td>G</td>\n",
       "      <td>association</td>\n",
       "    </tr>\n",
       "    <tr>\n",
       "      <th>736</th>\n",
       "      <td>chr4</td>\n",
       "      <td>1081619</td>\n",
       "      <td>1085895</td>\n",
       "      <td>NM_194439</td>\n",
       "      <td>-</td>\n",
       "      <td>RNF212</td>\n",
       "      <td>chr4</td>\n",
       "      <td>1084398</td>\n",
       "      <td>1084399</td>\n",
       "      <td>736</td>\n",
       "      <td>G</td>\n",
       "      <td>A</td>\n",
       "      <td>association</td>\n",
       "    </tr>\n",
       "    <tr>\n",
       "      <th>986</th>\n",
       "      <td>chr6</td>\n",
       "      <td>20649377</td>\n",
       "      <td>20739518</td>\n",
       "      <td>NM_017774</td>\n",
       "      <td>+</td>\n",
       "      <td>CDKAL1</td>\n",
       "      <td>chr6</td>\n",
       "      <td>20660802</td>\n",
       "      <td>20660803</td>\n",
       "      <td>986</td>\n",
       "      <td>A</td>\n",
       "      <td>C</td>\n",
       "      <td>Uncertain_significance</td>\n",
       "    </tr>\n",
       "    <tr>\n",
       "      <th>987</th>\n",
       "      <td>chr6</td>\n",
       "      <td>20649377</td>\n",
       "      <td>20739518</td>\n",
       "      <td>NM_017774</td>\n",
       "      <td>+</td>\n",
       "      <td>CDKAL1</td>\n",
       "      <td>chr6</td>\n",
       "      <td>20679477</td>\n",
       "      <td>20679478</td>\n",
       "      <td>987</td>\n",
       "      <td>A</td>\n",
       "      <td>G</td>\n",
       "      <td>Uncertain_significance</td>\n",
       "    </tr>\n",
       "  </tbody>\n",
       "</table>\n",
       "</div>"
      ],
      "text/plain": [
       "       0         1         2             3  4       5     6         7   \\\n",
       "9                                                                        \n",
       "14   chr6  26092960  26093118     NM_139010  +     HFE  chr6  26093007   \n",
       "735  chr4   1096839   1108342  NM_001193318  -  RNF212  chr4   1101492   \n",
       "736  chr4   1081619   1085895     NM_194439  -  RNF212  chr4   1084398   \n",
       "986  chr6  20649377  20739518     NM_017774  +  CDKAL1  chr6  20660802   \n",
       "987  chr6  20649377  20739518     NM_017774  +  CDKAL1  chr6  20679477   \n",
       "\n",
       "           8    9  10 11                      12  \n",
       "9                                                 \n",
       "14   26093008   14  G  A                  Benign  \n",
       "735   1101493  735  A  G             association  \n",
       "736   1084399  736  G  A             association  \n",
       "986  20660803  986  A  C  Uncertain_significance  \n",
       "987  20679478  987  A  G  Uncertain_significance  "
      ]
     },
     "execution_count": 7,
     "metadata": {},
     "output_type": "execute_result"
    }
   ],
   "source": [
    "# Now mutations can overlap a few introns, especially if these introns are alternatively spliced\n",
    "# Our approach is to just randomly select one intron the mutation overlaps with\n",
    "# First we group by the mutation ID\n",
    "introns_Intersect_Muts_SingleLocation = introns_Intersect_Muts.groupby([9]).apply(lambda x :x.iloc[np.random.randint(0, len(x))])\n",
    "print introns_Intersect_Muts_SingleLocation.shape\n",
    "introns_Intersect_Muts_SingleLocation.head()"
   ]
  },
  {
   "cell_type": "code",
   "execution_count": 8,
   "metadata": {},
   "outputs": [
    {
     "data": {
      "text/html": [
       "<div>\n",
       "<table border=\"1\" class=\"dataframe\">\n",
       "  <thead>\n",
       "    <tr style=\"text-align: right;\">\n",
       "      <th></th>\n",
       "      <th>0</th>\n",
       "      <th>1</th>\n",
       "      <th>2</th>\n",
       "      <th>3</th>\n",
       "      <th>4</th>\n",
       "      <th>5</th>\n",
       "      <th>6</th>\n",
       "      <th>7</th>\n",
       "      <th>8</th>\n",
       "      <th>9</th>\n",
       "      <th>10</th>\n",
       "      <th>11</th>\n",
       "      <th>12</th>\n",
       "    </tr>\n",
       "    <tr>\n",
       "      <th>9</th>\n",
       "      <th></th>\n",
       "      <th></th>\n",
       "      <th></th>\n",
       "      <th></th>\n",
       "      <th></th>\n",
       "      <th></th>\n",
       "      <th></th>\n",
       "      <th></th>\n",
       "      <th></th>\n",
       "      <th></th>\n",
       "      <th></th>\n",
       "      <th></th>\n",
       "      <th></th>\n",
       "    </tr>\n",
       "  </thead>\n",
       "  <tbody>\n",
       "    <tr>\n",
       "      <th>263166</th>\n",
       "      <td>chr1</td>\n",
       "      <td>1020373</td>\n",
       "      <td>1022200</td>\n",
       "      <td>NM_198576</td>\n",
       "      <td>+</td>\n",
       "      <td>AGRN</td>\n",
       "      <td>chr1</td>\n",
       "      <td>1022187</td>\n",
       "      <td>1022188</td>\n",
       "      <td>263166</td>\n",
       "      <td>A</td>\n",
       "      <td>G</td>\n",
       "      <td>Benign</td>\n",
       "    </tr>\n",
       "    <tr>\n",
       "      <th>128292</th>\n",
       "      <td>chr1</td>\n",
       "      <td>1041702</td>\n",
       "      <td>1041955</td>\n",
       "      <td>NM_001305275</td>\n",
       "      <td>+</td>\n",
       "      <td>AGRN</td>\n",
       "      <td>chr1</td>\n",
       "      <td>1041949</td>\n",
       "      <td>1041950</td>\n",
       "      <td>128292</td>\n",
       "      <td>T</td>\n",
       "      <td>C</td>\n",
       "      <td>Benign</td>\n",
       "    </tr>\n",
       "    <tr>\n",
       "      <th>263159</th>\n",
       "      <td>chr1</td>\n",
       "      <td>1042162</td>\n",
       "      <td>1043238</td>\n",
       "      <td>NM_001305275</td>\n",
       "      <td>+</td>\n",
       "      <td>AGRN</td>\n",
       "      <td>chr1</td>\n",
       "      <td>1042189</td>\n",
       "      <td>1042190</td>\n",
       "      <td>263159</td>\n",
       "      <td>G</td>\n",
       "      <td>A</td>\n",
       "      <td>Benign</td>\n",
       "    </tr>\n",
       "    <tr>\n",
       "      <th>263164</th>\n",
       "      <td>chr1</td>\n",
       "      <td>1043457</td>\n",
       "      <td>1043537</td>\n",
       "      <td>NM_198576</td>\n",
       "      <td>+</td>\n",
       "      <td>AGRN</td>\n",
       "      <td>chr1</td>\n",
       "      <td>1043475</td>\n",
       "      <td>1043476</td>\n",
       "      <td>263164</td>\n",
       "      <td>G</td>\n",
       "      <td>A</td>\n",
       "      <td>Benign</td>\n",
       "    </tr>\n",
       "    <tr>\n",
       "      <th>263168</th>\n",
       "      <td>chr1</td>\n",
       "      <td>1044439</td>\n",
       "      <td>1045160</td>\n",
       "      <td>NM_001305275</td>\n",
       "      <td>+</td>\n",
       "      <td>AGRN</td>\n",
       "      <td>chr1</td>\n",
       "      <td>1044454</td>\n",
       "      <td>1044455</td>\n",
       "      <td>263168</td>\n",
       "      <td>G</td>\n",
       "      <td>A</td>\n",
       "      <td>Benign</td>\n",
       "    </tr>\n",
       "  </tbody>\n",
       "</table>\n",
       "</div>"
      ],
      "text/plain": [
       "          0        1        2             3  4     5     6        7        8   \\\n",
       "9                                                                               \n",
       "263166  chr1  1020373  1022200     NM_198576  +  AGRN  chr1  1022187  1022188   \n",
       "128292  chr1  1041702  1041955  NM_001305275  +  AGRN  chr1  1041949  1041950   \n",
       "263159  chr1  1042162  1043238  NM_001305275  +  AGRN  chr1  1042189  1042190   \n",
       "263164  chr1  1043457  1043537     NM_198576  +  AGRN  chr1  1043475  1043476   \n",
       "263168  chr1  1044439  1045160  NM_001305275  +  AGRN  chr1  1044454  1044455   \n",
       "\n",
       "            9  10 11      12  \n",
       "9                             \n",
       "263166  263166  A  G  Benign  \n",
       "128292  128292  T  C  Benign  \n",
       "263159  263159  G  A  Benign  \n",
       "263164  263164  G  A  Benign  \n",
       "263168  263168  G  A  Benign  "
      ]
     },
     "execution_count": 8,
     "metadata": {},
     "output_type": "execute_result"
    }
   ],
   "source": [
    "introns_Intersect_Muts_SingleLocation_sorted = introns_Intersect_Muts_SingleLocation.sort_values(by=[0,1,2])\n",
    "introns_Intersect_Muts_SingleLocation_sorted.head()"
   ]
  },
  {
   "cell_type": "code",
   "execution_count": 9,
   "metadata": {},
   "outputs": [],
   "source": [
    "introns_Intersect_Muts_SingleLocation_sorted.to_csv(\"../temp/\"+whichDataSet+\"/introns_unique_Intersect_\"+whichDataSet+\"Muts.txt\",sep=\"\\t\",header=False,index=False)"
   ]
  },
  {
   "cell_type": "code",
   "execution_count": 10,
   "metadata": {},
   "outputs": [],
   "source": [
    "# This function will get the difference between start site of feature of interest and see how far it is from the start\n",
    "# of the intron\n",
    "def getDataForAnydistribution(data,window_5,window_3):\n",
    "    data_plus = data[data[4]=='+']\n",
    "    data_minus = data[data[4]=='-']\n",
    "    valid_data_plus = data_plus[(data_plus[7] >= data_plus[1]+window_5) & (data_plus[7] <= data_plus[2]-1-window_3)]\n",
    "    valid_data_minus = data_minus[(data_minus[7] >= data_minus[1]+window_3) & (data_minus[7] <= data_minus[2]-1-window_5)]\n",
    "    data_dist_plus = (valid_data_plus[7]-valid_data_plus[1])/(valid_data_plus[2]-valid_data_plus[1])\n",
    "    data_dist_minus = (valid_data_minus[7] - valid_data_minus[1]) / (valid_data_minus[2] - valid_data_minus[1])\n",
    "    return pd.concat([data_dist_plus,1-data_dist_minus])"
   ]
  },
  {
   "cell_type": "code",
   "execution_count": 11,
   "metadata": {},
   "outputs": [
    {
     "data": {
      "text/plain": [
       "0    0.992885\n",
       "1    0.976285\n",
       "2    0.025093\n",
       "3    0.225000\n",
       "4    0.020804\n",
       "dtype: float64"
      ]
     },
     "execution_count": 11,
     "metadata": {},
     "output_type": "execute_result"
    }
   ],
   "source": [
    "introns_Intersect_Muts_SingleLocation = pd.read_csv(\"../temp/\"+whichDataSet+\"/introns_unique_Intersect_\"+whichDataSet+\"Muts.txt\",header=None,sep=\"\\t\")\n",
    "introns_Muts_dist = getDataForAnydistribution(introns_Intersect_Muts_SingleLocation,0,0)\n",
    "introns_Muts_dist.head()"
   ]
  },
  {
   "cell_type": "code",
   "execution_count": 12,
   "metadata": {},
   "outputs": [
    {
     "data": {
      "image/png": "[encoded data removed]",
      "text/plain": [
       "<matplotlib.figure.Figure at 0x7f9e57d9fa10>"
      ]
     },
     "metadata": {},
     "output_type": "display_data"
    }
   ],
   "source": [
    "# Plot the distribution of mutations across introns\n",
    "# Number of bins are the equal to the median length of an intron 1582\n",
    "sns.set_style(\"dark\")\n",
    "a4_dims = (11.7, 8.27)\n",
    "fig, ax = plt.subplots(figsize=a4_dims)\n",
    "sns.distplot(introns_Muts_dist, bins=1582, kde=False, rug=False, color=\"green\");\n",
    "plt.ylim([0,2000])\n",
    "plt.ylabel('Density')\n",
    "plt.xlabel('Normalized intron length')\n",
    "plt.title(\"Distribution of \"+whichDataSet+\" DAVs across introns\")\n",
    "plt.show()"
   ]
  },
  {
   "cell_type": "code",
   "execution_count": 13,
   "metadata": {},
   "outputs": [
    {
     "data": {
      "text/plain": [
       "2    0.025093\n",
       "3    0.225000\n",
       "4    0.020804\n",
       "5    0.135802\n",
       "6    0.210526\n",
       "dtype: float64"
      ]
     },
     "execution_count": 13,
     "metadata": {},
     "output_type": "execute_result"
    }
   ],
   "source": [
    "# We want to take a look at the distribution of mutations across introns but remove those that are within splice sites\n",
    "# 5' splice site is 6 bases into intron, while 3' splice site is 34 bases into intron\n",
    "introns_Muts_dist_outsideSS = getDataForAnydistribution(introns_Intersect_Muts_SingleLocation,6,34)\n",
    "introns_Muts_dist_outsideSS.head()"
   ]
  },
  {
   "cell_type": "code",
   "execution_count": 14,
   "metadata": {},
   "outputs": [
    {
     "data": {
      "image/png": "[encoded data removed]",
      "text/plain": [
       "<matplotlib.figure.Figure at 0x7f9e94aa0e50>"
      ]
     },
     "metadata": {},
     "output_type": "display_data"
    }
   ],
   "source": [
    "# Plot the distribution of mutations across introns after removing those that are \n",
    "# Number of bins are the equal to the median length of an intron 1582\n",
    "sns.set_style(\"dark\")\n",
    "a4_dims = (11.7, 8.27)\n",
    "fig, ax = plt.subplots(figsize=a4_dims)\n",
    "sns.distplot(introns_Muts_dist_outsideSS, bins=1582, kde=False, rug=False, color=\"green\");\n",
    "plt.ylim([0,500])\n",
    "plt.ylabel('Density')\n",
    "plt.xlabel('Normalized intron length')\n",
    "plt.title(\"Distribution of \"+whichDataSet+\" DAVs across introns outside splice sites\")\n",
    "plt.show()"
   ]
  },
  {
   "cell_type": "markdown",
   "metadata": {},
   "source": [
    "### This will help us with the first category: DAVs found within splice sites.\n",
    "\n",
    "We want to separate out DAVs that are within the 5' splice site and 3' splice site, polypyramidine sites, branch point. "
   ]
  },
  {
   "cell_type": "code",
   "execution_count": 15,
   "metadata": {},
   "outputs": [],
   "source": [
    "# This function will return a list that contains three elements. One with DAVs within  5' splice sites\n",
    "# One with DAVs within 3' splice sites, and One with DAVs not within splice sites\n",
    "def separateMutations(data):\n",
    "    data_plus = data[data[4]=='+']\n",
    "    data_plus_within5p = data_plus[data_plus[7] <= data_plus[1] + 6]\n",
    "    data_plus_within3p = data_plus[data_plus[7] >= data_plus[2] - 33]\n",
    "    data_plus_notwithinSS = data_plus[(data_plus[7] > data_plus[1] + 6)&(data_plus[7] < data_plus[2] - 33)]\n",
    "    data_minus = data[data[4]=='-']\n",
    "    data_minus_within3p = data_minus[data_minus[7] <= data_minus[1] + 34]\n",
    "    data_minus_within5p = data_minus[data_minus[7] >= data_minus[2] - 5]\n",
    "    data_minus_notwithinSS = data_minus[(data_minus[7] > data_minus[1] + 34)&(data_minus[7] < data_minus[2] - 5)]\n",
    "    return([pd.concat([data_plus_within5p,data_minus_within5p]),pd.concat([data_plus_within3p,data_minus_within3p]),pd.concat([data_plus_notwithinSS,data_minus_notwithinSS])])"
   ]
  },
  {
   "cell_type": "code",
   "execution_count": 16,
   "metadata": {},
   "outputs": [],
   "source": [
    "muts_Intersect_Introns_WithinORnotSSs = separateMutations(introns_Intersect_Muts_SingleLocation)"
   ]
  },
  {
   "cell_type": "code",
   "execution_count": 58,
   "metadata": {},
   "outputs": [
    {
     "data": {
      "text/html": [
       "<div>\n",
       "<table border=\"1\" class=\"dataframe\">\n",
       "  <thead>\n",
       "    <tr style=\"text-align: right;\">\n",
       "      <th></th>\n",
       "      <th>0</th>\n",
       "      <th>1</th>\n",
       "      <th>2</th>\n",
       "      <th>3</th>\n",
       "      <th>4</th>\n",
       "      <th>5</th>\n",
       "      <th>6</th>\n",
       "      <th>7</th>\n",
       "      <th>8</th>\n",
       "      <th>9</th>\n",
       "      <th>10</th>\n",
       "      <th>11</th>\n",
       "      <th>12</th>\n",
       "    </tr>\n",
       "  </thead>\n",
       "  <tbody>\n",
       "    <tr>\n",
       "      <th>9</th>\n",
       "      <td>chr1</td>\n",
       "      <td>1046088</td>\n",
       "      <td>1046159</td>\n",
       "      <td>NM_001305275</td>\n",
       "      <td>+</td>\n",
       "      <td>AGRN</td>\n",
       "      <td>chr1</td>\n",
       "      <td>1046094</td>\n",
       "      <td>1046095</td>\n",
       "      <td>434107</td>\n",
       "      <td>G</td>\n",
       "      <td>A</td>\n",
       "      <td>Benign/Likely_benign</td>\n",
       "    </tr>\n",
       "    <tr>\n",
       "      <th>17</th>\n",
       "      <td>chr1</td>\n",
       "      <td>1049059</td>\n",
       "      <td>1049235</td>\n",
       "      <td>NM_001305275</td>\n",
       "      <td>+</td>\n",
       "      <td>AGRN</td>\n",
       "      <td>chr1</td>\n",
       "      <td>1049064</td>\n",
       "      <td>1049065</td>\n",
       "      <td>474131</td>\n",
       "      <td>C</td>\n",
       "      <td>T</td>\n",
       "      <td>Benign</td>\n",
       "    </tr>\n",
       "    <tr>\n",
       "      <th>26</th>\n",
       "      <td>chr1</td>\n",
       "      <td>1051815</td>\n",
       "      <td>1051992</td>\n",
       "      <td>NM_001305275</td>\n",
       "      <td>+</td>\n",
       "      <td>AGRN</td>\n",
       "      <td>chr1</td>\n",
       "      <td>1051819</td>\n",
       "      <td>1051820</td>\n",
       "      <td>128317</td>\n",
       "      <td>C</td>\n",
       "      <td>T</td>\n",
       "      <td>Benign</td>\n",
       "    </tr>\n",
       "    <tr>\n",
       "      <th>30</th>\n",
       "      <td>chr1</td>\n",
       "      <td>2025738</td>\n",
       "      <td>2027576</td>\n",
       "      <td>NM_000815</td>\n",
       "      <td>+</td>\n",
       "      <td>GABRD</td>\n",
       "      <td>chr1</td>\n",
       "      <td>2025743</td>\n",
       "      <td>2025744</td>\n",
       "      <td>447367</td>\n",
       "      <td>C</td>\n",
       "      <td>T</td>\n",
       "      <td>Conflicting_interpretations_of_pathogenicity</td>\n",
       "    </tr>\n",
       "    <tr>\n",
       "      <th>41</th>\n",
       "      <td>chr1</td>\n",
       "      <td>2304585</td>\n",
       "      <td>2306019</td>\n",
       "      <td>NM_003036</td>\n",
       "      <td>+</td>\n",
       "      <td>SKI</td>\n",
       "      <td>chr1</td>\n",
       "      <td>2304590</td>\n",
       "      <td>2304591</td>\n",
       "      <td>239476</td>\n",
       "      <td>C</td>\n",
       "      <td>T</td>\n",
       "      <td>Uncertain_significance</td>\n",
       "    </tr>\n",
       "  </tbody>\n",
       "</table>\n",
       "</div>"
      ],
      "text/plain": [
       "      0        1        2             3  4      5     6        7        8   \\\n",
       "9   chr1  1046088  1046159  NM_001305275  +   AGRN  chr1  1046094  1046095   \n",
       "17  chr1  1049059  1049235  NM_001305275  +   AGRN  chr1  1049064  1049065   \n",
       "26  chr1  1051815  1051992  NM_001305275  +   AGRN  chr1  1051819  1051820   \n",
       "30  chr1  2025738  2027576     NM_000815  +  GABRD  chr1  2025743  2025744   \n",
       "41  chr1  2304585  2306019     NM_003036  +    SKI  chr1  2304590  2304591   \n",
       "\n",
       "        9  10 11                                            12  \n",
       "9   434107  G  A                          Benign/Likely_benign  \n",
       "17  474131  C  T                                        Benign  \n",
       "26  128317  C  T                                        Benign  \n",
       "30  447367  C  T  Conflicting_interpretations_of_pathogenicity  \n",
       "41  239476  C  T                        Uncertain_significance  "
      ]
     },
     "execution_count": 58,
     "metadata": {},
     "output_type": "execute_result"
    }
   ],
   "source": [
    "muts_Intersect_Introns_WithinORnotSSs[0].head()"
   ]
  },
  {
   "cell_type": "code",
   "execution_count": 17,
   "metadata": {},
   "outputs": [
    {
     "data": {
      "image/png": "[encoded data removed]",
      "text/plain": [
       "<matplotlib.figure.Figure at 0x7f9e94e60e10>"
      ]
     },
     "metadata": {},
     "output_type": "display_data"
    }
   ],
   "source": [
    "numMuts_5SS_introns = muts_Intersect_Introns_WithinORnotSSs[0].shape[0]\n",
    "numMuts_3SS_introns = muts_Intersect_Introns_WithinORnotSSs[1].shape[0]\n",
    "numMuts_nonSS_introns = muts_Intersect_Introns_WithinORnotSSs[2].shape[0]\n",
    "\n",
    "labels = 'Within 5\\' SS (' + str(numMuts_5SS_introns) + ')','Within 3\\' SS/BP/PyTract (' \\\n",
    "    + str(numMuts_3SS_introns) + ')','Outside SS/BP/PyTract (' \\\n",
    "                + str(numMuts_nonSS_introns) + ')'\n",
    "sizes = [numMuts_5SS_introns,numMuts_3SS_introns,numMuts_nonSS_introns]\n",
    "colors = ['lightskyblue','lightcoral','yellowgreen']\n",
    "explode = (0, 0,0.1)  # explode 1st slice\n",
    " \n",
    "# Plot\n",
    "plt.pie(sizes, explode=explode, labels=labels, colors=colors,\n",
    "        autopct='%1.2f%%', shadow=True, startangle=140)\n",
    "plt.title('Are DAVs found in splice sites or Not?')\n",
    "plt.axis('equal')\n",
    "plt.show()"
   ]
  },
  {
   "cell_type": "code",
   "execution_count": 18,
   "metadata": {},
   "outputs": [],
   "source": [
    "# We want to write the mutations found in introns that are within splice sites into two files, including the\n",
    "# introns in which they intersect\n",
    "# We also want to write the mutations found in introns that are NOT within splice sites, including introns\n",
    "muts_Intersect_Introns_WithinORnotSSs[0].to_csv(\"../temp/\"+whichDataSet+\"/Introns_Intersect_\"+whichDataSet+\"Muts_Within5SS.txt\",sep=\"\\t\",header=False,index=False)\n",
    "muts_Intersect_Introns_WithinORnotSSs[1].to_csv(\"../temp/\"+whichDataSet+\"/Introns_Intersect_\"+whichDataSet+\"Muts_Within3SS.txt\",sep=\"\\t\",header=False,index=False)\n",
    "muts_Intersect_Introns_WithinORnotSSs[2].to_csv(\"../temp/\"+whichDataSet+\"/Introns_Intersect_\"+whichDataSet+\"Muts_NotWithinSS.txt\",sep=\"\\t\",header=False,index=False)\n"
   ]
  },
  {
   "cell_type": "markdown",
   "metadata": {},
   "source": [
    "### Next we will try to categorize DAVs into the second category: DAVs creating new splice sites.\n",
    "\n",
    "We want to find DAVs that result in a splice site motif that has a stronger strength score than the true splice site"
   ]
  },
  {
   "cell_type": "code",
   "execution_count": 19,
   "metadata": {},
   "outputs": [],
   "source": [
    "# This function's purpose is to add the WT sequence and corresponding sequence including the mutation\n",
    "def createDataFrameWithWTAndMUTseqs(datafile_with_seq,datafile):\n",
    "    base_dict = {'A': 'T', 'T': 'A', 'G': 'C', 'C': 'G'}\n",
    "    # Read in the file which contains that the mut id and corresponding sequence around it\n",
    "    data_with_seq = pd.read_csv(datafile_with_seq,header=None,sep=\"\\t\")\n",
    "    # Capitalize the sequences \n",
    "    seqs_to_add = data_with_seq[1].str.upper()\n",
    "    # Read data with muts intersecting introns, contains info on the WT base and MUT base for that mutation\n",
    "    # Add sequence around mutation to that data frame\n",
    "    data = pd.read_csv(datafile,header=None,sep=\"\\t\")\n",
    "    data_withseqs = data.assign(seq=seqs_to_add)\n",
    "    # Deal with plus strand\n",
    "    # We are taking the mutant base and adding it to the WT sequence around the mutation\n",
    "    data_withseqs_plus = data_withseqs[data_withseqs[4]=='+']\n",
    "    mutbases_plus = data_withseqs_plus[11].values\n",
    "    wt_seqs_plus = data_withseqs_plus['seq'].values\n",
    "    mutated_seqs_plus = [wt_seqs_plus[i][0:25]+mutbases_plus[i]+wt_seqs_plus[i][26:] for i in range(len(wt_seqs_plus))]\n",
    "    data_withseqs_plus_mutseq = data_withseqs_plus.assign(mutseq=mutated_seqs_plus )\n",
    "    # Deal with minus strand\n",
    "    # Same thing as above, except we have to reverse complement WT and MUT bases for the mutations\n",
    "    # Sequence around the mutation was already reverse complemented when we used bedtools getfasta\n",
    "    data_withseqs_minus = data_withseqs[data_withseqs[4]=='-']\n",
    "    minus_WTbase_complement = data_withseqs_minus[10].map(base_dict)\n",
    "    minus_MUTbase_complement = data_withseqs_minus[11].map(base_dict)\n",
    "    data_withseqs_minus.loc[:,10] = minus_WTbase_complement.values\n",
    "    data_withseqs_minus.loc[:,11] = minus_MUTbase_complement.values\n",
    "    wt_seqs_minus = data_withseqs_minus['seq'].values\n",
    "    mutated_seqs_minus = [wt_seqs_minus[i][0:25]+minus_MUTbase_complement.values[i]+wt_seqs_minus[i][26:] for i in range(len(wt_seqs_minus))]\n",
    "    data_withseqs_minus_mutseq = data_withseqs_minus.assign(mutseq=mutated_seqs_minus)\n",
    "    # Combine the plus and minus data, and sort that and return it\n",
    "    combine_data = data_withseqs_plus_mutseq.append(data_withseqs_minus_mutseq)\n",
    "    combine_data_sorted = combine_data.sort_values(by=[0,1,2])\n",
    "    return combine_data_sorted"
   ]
  },
  {
   "cell_type": "code",
   "execution_count": 30,
   "metadata": {},
   "outputs": [
    {
     "name": "stdout",
     "output_type": "stream",
     "text": [
      "     0        1        2             3  4     5     6        7        8   \\\n",
      "0  chr1  1042162  1043238  NM_001305275  +  AGRN  chr1  1042189  1042190   \n",
      "1  chr1  1043457  1043537     NM_198576  +  AGRN  chr1  1043475  1043476   \n",
      "2  chr1  1044439  1045160  NM_001305275  +  AGRN  chr1  1044454  1044455   \n",
      "3  chr1  1045277  1045358     NM_198576  +  AGRN  chr1  1045288  1045289   \n",
      "4  chr1  1045523  1045732  NM_001305275  +  AGRN  chr1  1045567  1045568   \n",
      "\n",
      "       9  10 11             12  \n",
      "0  263159  G  A         Benign  \n",
      "1  263164  G  A         Benign  \n",
      "2  263168  G  A         Benign  \n",
      "3  387477  A  G  Likely_benign  \n",
      "4  263171  C  T  Likely_benign  \n",
      "   chrm    start      end  snp_id  score strand\n",
      "0  chr1  1042164  1042215  263159      0      +\n",
      "1  chr1  1043450  1043501  263164      0      +\n",
      "2  chr1  1044429  1044480  263168      0      +\n",
      "3  chr1  1045263  1045314  387477      0      +\n",
      "4  chr1  1045542  1045593  263171      0      +\n"
     ]
    }
   ],
   "source": [
    "# We want to get a 50 bp window around the mutation to extract sequences \n",
    "muts = pd.read_csv(\"../temp/\"+whichDataSet+\"/Introns_Intersect_\"+whichDataSet+\"Muts_NotWithinSS.txt\",sep=\"\\t\",header=None)\n",
    "print muts.head()\n",
    "muts_newdata = {\"chrm\":muts[0],\"start\":muts[7]-25,\"end\":muts[8]+25,\"snp_id\":muts[9],\"strand\":muts[4],\"score\":[0]*len(muts[8])}\n",
    "muts_newdf = pd.DataFrame(muts_newdata,columns=[\"chrm\",\"start\",\"end\",\"snp_id\",\"score\",\"strand\"])\n",
    "print muts_newdf.head()\n",
    "muts_newdf.to_csv(\"../temp/\"+whichDataSet+\"/\"+whichDataSet+\"Muts_NotWithinSS_25bpWindow.bed\",header=False,index=False,sep=\"\\t\")"
   ]
  },
  {
   "cell_type": "code",
   "execution_count": 21,
   "metadata": {},
   "outputs": [
    {
     "name": "stdout",
     "output_type": "stream",
     "text": [
      "ClinVar\n"
     ]
    }
   ],
   "source": [
    "%%script bash\n",
    "# Use bedtools to extract sequences around mutations from fasta file and write both a fasta file and a TSV file\n",
    "DataSet=\"ClinVar\"\n",
    "echo $DataSet\n",
    "bedtools getfasta -fi /home/shared/hg38/hg38.fa -bed ../temp/${DataSet}/${DataSet}Muts_NotWithinSS_25bpWindow.bed -name -s -fo ../temp/${DataSet}/${DataSet}Muts_NotWithinSS_25bpWindow-Sequences.fa\n",
    "bedtools getfasta -fi /home/shared/hg38/hg38.fa -bed ../temp/${DataSet}/${DataSet}Muts_NotWithinSS_25bpWindow.bed -name -s -tab -fo ../temp/${DataSet}/${DataSet}Muts_NotWithinSS_25bpWindow-Sequences.txt"
   ]
  },
  {
   "cell_type": "code",
   "execution_count": 22,
   "metadata": {},
   "outputs": [
    {
     "name": "stderr",
     "output_type": "stream",
     "text": [
      "/usr/local/lib/python2.7/dist-packages/pandas/core/indexing.py:461: SettingWithCopyWarning: \n",
      "A value is trying to be set on a copy of a slice from a DataFrame.\n",
      "Try using .loc[row_indexer,col_indexer] = value instead\n",
      "\n",
      "See the caveats in the documentation: http://pandas.pydata.org/pandas-docs/stable/indexing.html#indexing-view-versus-copy\n",
      "  self.obj[item] = s\n"
     ]
    },
    {
     "data": {
      "text/html": [
       "<div>\n",
       "<table border=\"1\" class=\"dataframe\">\n",
       "  <thead>\n",
       "    <tr style=\"text-align: right;\">\n",
       "      <th></th>\n",
       "      <th>0</th>\n",
       "      <th>1</th>\n",
       "      <th>2</th>\n",
       "      <th>3</th>\n",
       "      <th>4</th>\n",
       "      <th>5</th>\n",
       "      <th>6</th>\n",
       "      <th>7</th>\n",
       "      <th>8</th>\n",
       "      <th>9</th>\n",
       "      <th>10</th>\n",
       "      <th>11</th>\n",
       "      <th>12</th>\n",
       "      <th>seq</th>\n",
       "      <th>mutseq</th>\n",
       "    </tr>\n",
       "  </thead>\n",
       "  <tbody>\n",
       "    <tr>\n",
       "      <th>0</th>\n",
       "      <td>chr1</td>\n",
       "      <td>1042162</td>\n",
       "      <td>1043238</td>\n",
       "      <td>NM_001305275</td>\n",
       "      <td>+</td>\n",
       "      <td>AGRN</td>\n",
       "      <td>chr1</td>\n",
       "      <td>1042189</td>\n",
       "      <td>1042190</td>\n",
       "      <td>263159</td>\n",
       "      <td>G</td>\n",
       "      <td>A</td>\n",
       "      <td>Benign</td>\n",
       "      <td>GAGCGCCCCGGGGTGGAGGCCAGGCGGGGTGGGCTGCTCCTGCGTC...</td>\n",
       "      <td>GAGCGCCCCGGGGTGGAGGCCAGGCAGGGTGGGCTGCTCCTGCGTC...</td>\n",
       "    </tr>\n",
       "    <tr>\n",
       "      <th>1</th>\n",
       "      <td>chr1</td>\n",
       "      <td>1043457</td>\n",
       "      <td>1043537</td>\n",
       "      <td>NM_198576</td>\n",
       "      <td>+</td>\n",
       "      <td>AGRN</td>\n",
       "      <td>chr1</td>\n",
       "      <td>1043475</td>\n",
       "      <td>1043476</td>\n",
       "      <td>263164</td>\n",
       "      <td>G</td>\n",
       "      <td>A</td>\n",
       "      <td>Benign</td>\n",
       "      <td>CCCTGTGGTCAGTGGCGGGTGAGGGGTCTGGTGGGGGTCGGGGAGA...</td>\n",
       "      <td>CCCTGTGGTCAGTGGCGGGTGAGGGATCTGGTGGGGGTCGGGGAGA...</td>\n",
       "    </tr>\n",
       "    <tr>\n",
       "      <th>2</th>\n",
       "      <td>chr1</td>\n",
       "      <td>1044439</td>\n",
       "      <td>1045160</td>\n",
       "      <td>NM_001305275</td>\n",
       "      <td>+</td>\n",
       "      <td>AGRN</td>\n",
       "      <td>chr1</td>\n",
       "      <td>1044454</td>\n",
       "      <td>1044455</td>\n",
       "      <td>263168</td>\n",
       "      <td>G</td>\n",
       "      <td>A</td>\n",
       "      <td>Benign</td>\n",
       "      <td>GCCTGCCGAGGTGAGCCGGCTGCACGTGGGGTCTCAGGCACAGGCG...</td>\n",
       "      <td>GCCTGCCGAGGTGAGCCGGCTGCACATGGGGTCTCAGGCACAGGCG...</td>\n",
       "    </tr>\n",
       "    <tr>\n",
       "      <th>3</th>\n",
       "      <td>chr1</td>\n",
       "      <td>1045277</td>\n",
       "      <td>1045358</td>\n",
       "      <td>NM_198576</td>\n",
       "      <td>+</td>\n",
       "      <td>AGRN</td>\n",
       "      <td>chr1</td>\n",
       "      <td>1045288</td>\n",
       "      <td>1045289</td>\n",
       "      <td>387477</td>\n",
       "      <td>A</td>\n",
       "      <td>G</td>\n",
       "      <td>Likely_benign</td>\n",
       "      <td>GGCTGGCTGCCCCAGTGAGTACCTGAGCTCAGCCCCGACCCCGGGC...</td>\n",
       "      <td>GGCTGGCTGCCCCAGTGAGTACCTGGGCTCAGCCCCGACCCCGGGC...</td>\n",
       "    </tr>\n",
       "    <tr>\n",
       "      <th>4</th>\n",
       "      <td>chr1</td>\n",
       "      <td>1045523</td>\n",
       "      <td>1045732</td>\n",
       "      <td>NM_001305275</td>\n",
       "      <td>+</td>\n",
       "      <td>AGRN</td>\n",
       "      <td>chr1</td>\n",
       "      <td>1045567</td>\n",
       "      <td>1045568</td>\n",
       "      <td>263171</td>\n",
       "      <td>C</td>\n",
       "      <td>T</td>\n",
       "      <td>Likely_benign</td>\n",
       "      <td>ACTGGCCACCGGCTATGCCCTCCTACCTGTTCACCCCCATCACTGT...</td>\n",
       "      <td>ACTGGCCACCGGCTATGCCCTCCTATCTGTTCACCCCCATCACTGT...</td>\n",
       "    </tr>\n",
       "  </tbody>\n",
       "</table>\n",
       "</div>"
      ],
      "text/plain": [
       "      0        1        2             3  4     5     6        7        8  \\\n",
       "0  chr1  1042162  1043238  NM_001305275  +  AGRN  chr1  1042189  1042190   \n",
       "1  chr1  1043457  1043537     NM_198576  +  AGRN  chr1  1043475  1043476   \n",
       "2  chr1  1044439  1045160  NM_001305275  +  AGRN  chr1  1044454  1044455   \n",
       "3  chr1  1045277  1045358     NM_198576  +  AGRN  chr1  1045288  1045289   \n",
       "4  chr1  1045523  1045732  NM_001305275  +  AGRN  chr1  1045567  1045568   \n",
       "\n",
       "        9 10 11             12  \\\n",
       "0  263159  G  A         Benign   \n",
       "1  263164  G  A         Benign   \n",
       "2  263168  G  A         Benign   \n",
       "3  387477  A  G  Likely_benign   \n",
       "4  263171  C  T  Likely_benign   \n",
       "\n",
       "                                                 seq  \\\n",
       "0  GAGCGCCCCGGGGTGGAGGCCAGGCGGGGTGGGCTGCTCCTGCGTC...   \n",
       "1  CCCTGTGGTCAGTGGCGGGTGAGGGGTCTGGTGGGGGTCGGGGAGA...   \n",
       "2  GCCTGCCGAGGTGAGCCGGCTGCACGTGGGGTCTCAGGCACAGGCG...   \n",
       "3  GGCTGGCTGCCCCAGTGAGTACCTGAGCTCAGCCCCGACCCCGGGC...   \n",
       "4  ACTGGCCACCGGCTATGCCCTCCTACCTGTTCACCCCCATCACTGT...   \n",
       "\n",
       "                                              mutseq  \n",
       "0  GAGCGCCCCGGGGTGGAGGCCAGGCAGGGTGGGCTGCTCCTGCGTC...  \n",
       "1  CCCTGTGGTCAGTGGCGGGTGAGGGATCTGGTGGGGGTCGGGGAGA...  \n",
       "2  GCCTGCCGAGGTGAGCCGGCTGCACATGGGGTCTCAGGCACAGGCG...  \n",
       "3  GGCTGGCTGCCCCAGTGAGTACCTGGGCTCAGCCCCGACCCCGGGC...  \n",
       "4  ACTGGCCACCGGCTATGCCCTCCTATCTGTTCACCCCCATCACTGT...  "
      ]
     },
     "execution_count": 22,
     "metadata": {},
     "output_type": "execute_result"
    }
   ],
   "source": [
    "introns_Intersect_muts_nonSS_WTandMUTseqs = createDataFrameWithWTAndMUTseqs(\"../temp/\"+whichDataSet+\"/\"+whichDataSet+\"Muts_NotWithinSS_25bpWindow-Sequences.txt\",\"../temp/\"+whichDataSet+\"/Introns_Intersect_\"+whichDataSet+\"Muts_NotWithinSS.txt\")\n",
    "introns_Intersect_muts_nonSS_WTandMUTseqs.head()"
   ]
  },
  {
   "cell_type": "code",
   "execution_count": 23,
   "metadata": {},
   "outputs": [
    {
     "data": {
      "text/plain": [
       "(0, 15)"
      ]
     },
     "execution_count": 23,
     "metadata": {},
     "output_type": "execute_result"
    }
   ],
   "source": [
    "# We need to check if any of the sequences across mutations contains Ns\n",
    "# If they do, we need to remove those mutations, we cannot calculate splice site strength using MaxEntScan if there are Ns\n",
    "any_Ns = introns_Intersect_muts_nonSS_WTandMUTseqs[introns_Intersect_muts_nonSS_WTandMUTseqs['seq'].str.contains('N')]\n",
    "any_Ns.shape\n",
    "# It looks like there no mutations with Ns"
   ]
  },
  {
   "cell_type": "code",
   "execution_count": 24,
   "metadata": {},
   "outputs": [],
   "source": [
    "introns_Intersect_muts_nonSS_WTandMUTseqs.to_csv(\"../temp/\"+whichDataSet+\"/\"+\"Introns_Intersect_\"+whichDataSet+\"Muts_NotWithinSS-25bp_WTandMUTsequences.txt\",sep=\"\\t\",header=False,index=False)"
   ]
  },
  {
   "cell_type": "markdown",
   "metadata": {},
   "source": [
    "We need to grab the true splice site sequence near the mutations, because we need to compare the splice site strength of true splice site to that created by the mutation"
   ]
  },
  {
   "cell_type": "code",
   "execution_count": 25,
   "metadata": {},
   "outputs": [],
   "source": [
    "import pandas as pd\n",
    "def getTrueSpliceSiteCoordsClosestToMut(intersectingfile, end, writefile):\n",
    "\n",
    "    # Grab all the mutations in the intersecting file with all column values\n",
    "    allmuts = pd.read_csv(intersectingfile,header=None,sep=\"\\t\")\n",
    "\n",
    "    allmust_plus = allmuts[allmuts[4]==\"+\"]\n",
    "    allmust_minus = allmuts[allmuts[4]==\"-\"]\n",
    "\n",
    "    if end==\"5p\":\n",
    "        print end\n",
    "        allmuts_data = {\"chrom\":pd.concat([allmust_plus[0],allmust_minus[0]]),\n",
    "                           \"start\":pd.concat([allmust_plus[1]-3,allmust_minus[2]-6]),\n",
    "                           \"end\":pd.concat([allmust_plus[1]+6,allmust_minus[2]+3]),\n",
    "                           \"snp_id\":pd.concat([allmust_plus[9],allmust_minus[9]]),\n",
    "                           \"strand\":pd.concat([allmust_plus[4],allmust_minus[4]]),\n",
    "                        \"score\":[0]*len(pd.concat([allmust_plus[9],allmust_minus[9]]))}\n",
    "    else:\n",
    "        print end\n",
    "        allmuts_data = {\"chrom\": pd.concat([allmust_plus[0], allmust_minus[0]]),\n",
    "                           \"start\": pd.concat([allmust_plus[2] - 20, allmust_minus[1] - 3]),\n",
    "                           \"end\": pd.concat([allmust_plus[2] + 3, allmust_minus[1] + 20]),\n",
    "                           \"snp_id\": pd.concat([allmust_plus[9], allmust_minus[9]]),\n",
    "                           \"strand\": pd.concat([allmust_plus[4], allmust_minus[4]]),\n",
    "                        \"score\":[0]*len(pd.concat([allmust_plus[9],allmust_minus[9]]))}\n",
    "\n",
    "    allmuts_df = pd.DataFrame(allmuts_data,columns=[\"chrom\",\"start\",\"end\",\"snp_id\",\"score\",\"strand\"])\n",
    "\n",
    "    allmuts_df.to_csv(writefile,header=False,index=False,sep=\"\\t\")"
   ]
  },
  {
   "cell_type": "code",
   "execution_count": 26,
   "metadata": {},
   "outputs": [
    {
     "name": "stdout",
     "output_type": "stream",
     "text": [
      "5p\n",
      "3p\n"
     ]
    }
   ],
   "source": [
    "getTrueSpliceSiteCoordsClosestToMut(\"../temp/\"+whichDataSet+\"/Introns_Intersect_\"+whichDataSet+\"Muts_NotWithinSS.txt\",\"5p\",\"../temp/\"+whichDataSet+\"/Introns_Intersect_\"+whichDataSet+\"Muts_NotWithinSS_5pTrueSpliceSites-Coordinates.bed\")\n",
    "getTrueSpliceSiteCoordsClosestToMut(\"../temp/\"+whichDataSet+\"/Introns_Intersect_\"+whichDataSet+\"Muts_NotWithinSS.txt\",\"3p\",\"../temp/\"+whichDataSet+\"/Introns_Intersect_\"+whichDataSet+\"Muts_NotWithinSS_3pTrueSpliceSites-Coordinates.bed\")"
   ]
  },
  {
   "cell_type": "code",
   "execution_count": 27,
   "metadata": {},
   "outputs": [
    {
     "name": "stdout",
     "output_type": "stream",
     "text": [
      "ClinVar\n"
     ]
    }
   ],
   "source": [
    "%%script bash\n",
    "# Use bedtools to extract sequences around mutations from fasta file and write both a fasta file and a TSV file\n",
    "DataSet=\"ClinVar\"\n",
    "echo $DataSet\n",
    "# Let's get the fasta sequences around the true splice site\n",
    "bedtools getfasta -fi /home/shared/hg38/hg38.fa -bed ../temp/${DataSet}/Introns_Intersect_${DataSet}Muts_NotWithinSS_5pTrueSpliceSites-Coordinates.bed -name -s -fo ../temp/${DataSet}/Introns_Intersect_${DataSet}Muts_NotWithinSS_5pTrueSpliceSites-Sequences.fa\n",
    "bedtools getfasta -fi /home/shared/hg38/hg38.fa -bed ../temp/${DataSet}/Introns_Intersect_${DataSet}Muts_NotWithinSS_3pTrueSpliceSites-Coordinates.bed -name -s -fo ../temp/${DataSet}/Introns_Intersect_${DataSet}Muts_NotWithinSS_3pTrueSpliceSites-Sequences.fa\n",
    "# Using MaxEntScore to get the splice site strength of the true splice sites\n",
    "score5.pl ../temp/${DataSet}/Introns_Intersect_${DataSet}Muts_NotWithinSS_5pTrueSpliceSites-Sequences.fa > ../temp/${DataSet}/Introns_Intersect_${DataSet}Muts_NotWithinSS_5pTrueSpliceSites-Sequences_MaxEntScores.txt\n",
    "score3.pl ../temp/${DataSet}/Introns_Intersect_${DataSet}Muts_NotWithinSS_3pTrueSpliceSites-Sequences.fa > ../temp/${DataSet}/Introns_Intersect_${DataSet}Muts_NotWithinSS_3pTrueSpliceSites-Sequences_MaxEntScores.txt"
   ]
  },
  {
   "cell_type": "code",
   "execution_count": 36,
   "metadata": {},
   "outputs": [],
   "source": [
    "from Bio import SeqIO\n",
    "from Bio.Seq import Seq\n",
    "from Bio.SeqRecord import SeqRecord\n",
    "from Bio.Alphabet import IUPAC\n",
    "import subprocess\n",
    "# This is the function that gets all the possible splice strengths for a mutation \n",
    "def generateStrengthsOfNewSpliceSites(datafile,truesplicesitescore_file,end,writefile):\n",
    "    # This data file contains the WT and MUT sequences around the mutation\n",
    "    data = pd.read_csv(datafile,header=None,sep=\"\\t\")\n",
    "    # This is the file that contains all the splice strengths score calculated by MaxEntScore for true splice sites\n",
    "    truess_score_data = pd.read_csv(truesplicesitescore_file,header=None,sep=\"\\t\")\n",
    "    # we add this true splice site strength data to the above data, since we are always going to compare to this score\n",
    "    data.insert(data.shape[1],data.shape[1],truess_score_data[1].values)\n",
    "    snpids = data[9].values\n",
    "    #wt_seqs = data[13].values\n",
    "    mut_seqs = data[14].values\n",
    "    print mut_seqs[0]\n",
    "    if end=='5p':\n",
    "        numToAdd = 9\n",
    "    else:\n",
    "        numToAdd = 23\n",
    "        #plus_data = data[data[4]=='+']\n",
    "        #minus_data = data[data[4]=='-']\n",
    "    for i in range(0, numToAdd):\n",
    "        #print i\n",
    "            #new_df = pd.DataFrame({\"chrom\":data[5],\"start\":data[6]-i,\"end\":data[6]-i+8,\"snp_id\":data[8],\n",
    "            #                            \"score\":[0]*len(data[8]),\"strand\":data[4]},\n",
    "            #                           columns= [\"chrm\",\"start\",\"end\",\"snp_id\",\"score\",\"strand\"])\n",
    "            #new_df.to_csv(\"WT_data_calcMaxEnt.bed\",sep=\"\\t\",header=False,index=False)\n",
    "            #pipe_out = subprocess.call([\"bedtools\",\"getfasta\",\"-fi\",\"/home/shared/hg38/hg38.fa\",\"-bed\",\"WT_data_calcMaxEnt.bed\",\"-name\",\"-s\",\"fo\",\"WT_data_calcMaxEnt-Sequences.fa\"])\n",
    "        #wtseqs_to_write = [SeqRecord(Seq(wt_seqs[j][25-i:25-i+numToAdd],IUPAC.unambiguous_dna), id= snpids[i] + \"_WT\") for j in range(len(wt_seqs))]\n",
    "        mutseqs_to_write = []\n",
    "        for j in range(len(mut_seqs)):\n",
    "            #print j\n",
    "            #print mut_seqs[j][(25-i):(25-i+numToAdd)]\n",
    "            mutseqs_to_write.append(SeqRecord(Seq(mut_seqs[j][(25-i):(25-i+numToAdd)],IUPAC.unambiguous_dna), id= str(snpids[i]) + \"_MUT\"))\n",
    "        #SeqIO.write(wtseqs_to_write,\"WT_data_calcMaxEnt-Sequences.fa\",'fasta')\n",
    "        SeqIO.write(mutseqs_to_write,\"MUT_data_calcMaxEnt-Sequences.fa\",'fasta')\n",
    "        #with open('WT_data_calcMaxEnt-Sequences_MaxEntScores.txt', \"w\") as outfileWT:\n",
    "        #    subprocess.call([\"score5.pl\",\"WT_data_calcMaxEnt-Sequences.fa\"],stdout=outfileWT)\n",
    "        with open('MUT_data_calcMaxEnt-Sequences_MaxEntScores.txt',\"w\") as outfileMUT:\n",
    "            if end=='5p':\n",
    "                subprocess.call([\"score5.pl\",\"MUT_data_calcMaxEnt-Sequences.fa\"],stdout=outfileMUT)\n",
    "            else:\n",
    "                subprocess.call([\"score3.pl\",\"MUT_data_calcMaxEnt-Sequences.fa\"],stdout=outfileMUT)\n",
    "            #pipe_out = subprocess.call([\"bedtools\",\"getfasta\",\"-fi\",\"/home/shared/hg38/hg38.fa\",\"-bed\",\"WT_data_calcMaxEnt.bed\",\"-name\",\"-s\",\"-tab\",\"fo\",\"WT_data_calcMaxEnt-Sequences.bed\"])\n",
    "        #wt_maxentdata_df = pd.read_csv(\"WT_data_calcMaxEnt-Sequences_MaxEntScores.txt\",header=None,sep=\"\\t\")\n",
    "        mut_maxentdata_df = pd.read_csv(\"MUT_data_calcMaxEnt-Sequences_MaxEntScores.txt\",header=None,sep=\"\\t\")\n",
    "        #data.insert(data.shape[1],data.shape[1],wt_maxentdata_df[1].values)\n",
    "        data.insert(data.shape[1],data.shape[1],mut_maxentdata_df[1].values)\n",
    "    \n",
    "    data.to_csv(writefile,header=False,index=False,sep=\"\\t\")"
   ]
  },
  {
   "cell_type": "code",
   "execution_count": 37,
   "metadata": {},
   "outputs": [
    {
     "name": "stdout",
     "output_type": "stream",
     "text": [
      "Calculating splice strength of 5 SS\n",
      "GAGCGCCCCGGGGTGGAGGCCAGGCAGGGTGGGCTGCTCCTGCGTCAGTCC\n",
      "Calculating splice strength of 3 SS\n",
      "GAGCGCCCCGGGGTGGAGGCCAGGCAGGGTGGGCTGCTCCTGCGTCAGTCC\n"
     ]
    }
   ],
   "source": [
    "print \"Calculating splice strength of 5 SS\"\n",
    "generateStrengthsOfNewSpliceSites(\"../temp/\"+whichDataSet+\"/Introns_Intersect_\"+whichDataSet+\"Muts_NotWithinSS-25bp_WTandMUTsequences.txt\",\"../temp/\"+whichDataSet+\"/Introns_Intersect_\"+whichDataSet+\"Muts_NotWithinSS_5pTrueSpliceSites-Sequences_MaxEntScores.txt\",\"5p\",\"../temp/\"+whichDataSet+\"/Introns_Intersect_\"+whichDataSet+\"Muts_NotWithinSS_5p_AllMaxEntScores.txt\")\n",
    "print \"Calculating splice strength of 3 SS\"\n",
    "generateStrengthsOfNewSpliceSites(\"../temp/\"+whichDataSet+\"/Introns_Intersect_\"+whichDataSet+\"Muts_NotWithinSS-25bp_WTandMUTsequences.txt\",\"../temp/\"+whichDataSet+\"/Introns_Intersect_\"+whichDataSet+\"Muts_NotWithinSS_3pTrueSpliceSites-Sequences_MaxEntScores.txt\",\"3p\",\"../temp/\"+whichDataSet+\"/Introns_Intersect_\"+whichDataSet+\"Muts_NotWithinSS_3p_AllMaxEntScores.txt\")"
   ]
  },
  {
   "cell_type": "code",
   "execution_count": 38,
   "metadata": {},
   "outputs": [],
   "source": [
    "# This is the function which identifies any mutations that are predicted to create new splice sites\n",
    "# based on their splice site strength comparison to true splice site\n",
    "def identifyMutsWhichCreateSpliceSites(datafile,end):\n",
    "    data = pd.read_csv(datafile,sep=\"\\t\",header=None)\n",
    "    #print data.head()\n",
    "    snps_withSSscore_greaterThanZeroAndTrueSS = []\n",
    "    if end == '5p':\n",
    "        lastindex = 25\n",
    "    else:\n",
    "        lastindex = 39\n",
    "    for i in range(16,lastindex):\n",
    "        snps_withSSscore_greaterThanZeroAndTrueSS.extend(data[(data[i]>0)&(data[i]>data[15])][9].values)\n",
    "    return list(set(snps_withSSscore_greaterThanZeroAndTrueSS))"
   ]
  },
  {
   "cell_type": "code",
   "execution_count": 39,
   "metadata": {},
   "outputs": [],
   "source": [
    "# Get all mutations predicted to create 5' or 3' splice sites\n",
    "muts_createSS_5p = identifyMutsWhichCreateSpliceSites(\"../temp/\"+whichDataSet+\"/Introns_Intersect_\"+whichDataSet+\"Muts_NotWithinSS_5p_AllMaxEntScores.txt\",\"5p\")\n",
    "muts_createSS_3p = identifyMutsWhichCreateSpliceSites(\"../temp/\"+whichDataSet+\"/Introns_Intersect_\"+whichDataSet+\"Muts_NotWithinSS_3p_AllMaxEntScores.txt\",\"3p\")"
   ]
  },
  {
   "cell_type": "code",
   "execution_count": 40,
   "metadata": {},
   "outputs": [
    {
     "data": {
      "image/png": "[encoded data removed]",
      "text/plain": [
       "<matplotlib.figure.Figure at 0x7f9e94fac510>"
      ]
     },
     "metadata": {},
     "output_type": "display_data"
    }
   ],
   "source": [
    "introns_Intersect_muts_nonSS = pd.read_csv(\"../temp/\"+whichDataSet+\"/Introns_Intersect_\"+whichDataSet+\"Muts_NotWithinSS.txt\",header=None,sep=\"\\t\")\n",
    "numMuts_introns_creatingBoth5p3pSS = len([i for i in muts_createSS_5p if i in muts_createSS_3p])\n",
    "numMuts_introns_creatingOnly5pSS = len([i for i in muts_createSS_5p if i not in muts_createSS_3p])\n",
    "numMuts_introns_creatingOnly3pSS = len([i for i in muts_createSS_3p if i not in muts_createSS_5p])\n",
    "numMuts_introns_Notcreating5p3pSS = introns_Intersect_muts_nonSS.shape[0] - (numMuts_introns_creatingBoth5p3pSS + numMuts_introns_creatingOnly5pSS + numMuts_introns_creatingOnly3pSS)\n",
    "labels = 'Creating SS (' + str(numMuts_introns_creatingOnly5pSS+numMuts_introns_creatingOnly3pSS+numMuts_introns_creatingBoth5p3pSS) + ')','Not creating splice site (' + str(numMuts_introns_Notcreating5p3pSS)+')'\n",
    "sizes = [numMuts_introns_creatingOnly5pSS+numMuts_introns_creatingOnly3pSS+numMuts_introns_creatingBoth5p3pSS,numMuts_introns_Notcreating5p3pSS]\n",
    "colors = ['lightcoral','yellowgreen']\n",
    "explode = (0.1, 0)  # explode 1st slice\n",
    " \n",
    "# Plot\n",
    "plt.pie(sizes, explode=explode, labels=labels, colors=colors,\n",
    "        autopct='%1.2f%%', shadow=True, startangle=140)\n",
    "plt.title(whichDataSet+' DAVs predicted to create new splice sites in Introns')\n",
    "plt.axis('equal')\n",
    "plt.show()"
   ]
  },
  {
   "cell_type": "code",
   "execution_count": 41,
   "metadata": {},
   "outputs": [
    {
     "name": "stdout",
     "output_type": "stream",
     "text": [
      "(2091, 13)\n"
     ]
    },
    {
     "data": {
      "text/html": [
       "<div>\n",
       "<table border=\"1\" class=\"dataframe\">\n",
       "  <thead>\n",
       "    <tr style=\"text-align: right;\">\n",
       "      <th></th>\n",
       "      <th>0</th>\n",
       "      <th>1</th>\n",
       "      <th>2</th>\n",
       "      <th>3</th>\n",
       "      <th>4</th>\n",
       "      <th>5</th>\n",
       "      <th>6</th>\n",
       "      <th>7</th>\n",
       "      <th>8</th>\n",
       "      <th>9</th>\n",
       "      <th>10</th>\n",
       "      <th>11</th>\n",
       "      <th>12</th>\n",
       "    </tr>\n",
       "  </thead>\n",
       "  <tbody>\n",
       "    <tr>\n",
       "      <th>11</th>\n",
       "      <td>chr1</td>\n",
       "      <td>1050037</td>\n",
       "      <td>1050232</td>\n",
       "      <td>NM_198576</td>\n",
       "      <td>+</td>\n",
       "      <td>AGRN</td>\n",
       "      <td>chr1</td>\n",
       "      <td>1050065</td>\n",
       "      <td>1050066</td>\n",
       "      <td>263191</td>\n",
       "      <td>G</td>\n",
       "      <td>T</td>\n",
       "      <td>Benign</td>\n",
       "    </tr>\n",
       "    <tr>\n",
       "      <th>33</th>\n",
       "      <td>chr1</td>\n",
       "      <td>2558468</td>\n",
       "      <td>2559822</td>\n",
       "      <td>NM_003820</td>\n",
       "      <td>+</td>\n",
       "      <td>TNFRSF14</td>\n",
       "      <td>chr1</td>\n",
       "      <td>2559621</td>\n",
       "      <td>2559622</td>\n",
       "      <td>133409</td>\n",
       "      <td>G</td>\n",
       "      <td>A</td>\n",
       "      <td>not_provided</td>\n",
       "    </tr>\n",
       "    <tr>\n",
       "      <th>36</th>\n",
       "      <td>chr1</td>\n",
       "      <td>2558468</td>\n",
       "      <td>2559822</td>\n",
       "      <td>NM_003820</td>\n",
       "      <td>+</td>\n",
       "      <td>TNFRSF14</td>\n",
       "      <td>chr1</td>\n",
       "      <td>2559651</td>\n",
       "      <td>2559652</td>\n",
       "      <td>133412</td>\n",
       "      <td>G</td>\n",
       "      <td>A</td>\n",
       "      <td>not_provided</td>\n",
       "    </tr>\n",
       "    <tr>\n",
       "      <th>66</th>\n",
       "      <td>chr1</td>\n",
       "      <td>10618417</td>\n",
       "      <td>10623018</td>\n",
       "      <td>NM_004565</td>\n",
       "      <td>+</td>\n",
       "      <td>PEX14</td>\n",
       "      <td>chr1</td>\n",
       "      <td>10618430</td>\n",
       "      <td>10618431</td>\n",
       "      <td>95145</td>\n",
       "      <td>A</td>\n",
       "      <td>T</td>\n",
       "      <td>Benign</td>\n",
       "    </tr>\n",
       "    <tr>\n",
       "      <th>88</th>\n",
       "      <td>chr1</td>\n",
       "      <td>11787493</td>\n",
       "      <td>11787872</td>\n",
       "      <td>NM_001010881</td>\n",
       "      <td>+</td>\n",
       "      <td>C1orf167</td>\n",
       "      <td>chr1</td>\n",
       "      <td>11787633</td>\n",
       "      <td>11787634</td>\n",
       "      <td>292179</td>\n",
       "      <td>C</td>\n",
       "      <td>T</td>\n",
       "      <td>Uncertain_significance</td>\n",
       "    </tr>\n",
       "  </tbody>\n",
       "</table>\n",
       "</div>"
      ],
      "text/plain": [
       "      0         1         2             3  4         5     6         7   \\\n",
       "11  chr1   1050037   1050232     NM_198576  +      AGRN  chr1   1050065   \n",
       "33  chr1   2558468   2559822     NM_003820  +  TNFRSF14  chr1   2559621   \n",
       "36  chr1   2558468   2559822     NM_003820  +  TNFRSF14  chr1   2559651   \n",
       "66  chr1  10618417  10623018     NM_004565  +     PEX14  chr1  10618430   \n",
       "88  chr1  11787493  11787872  NM_001010881  +  C1orf167  chr1  11787633   \n",
       "\n",
       "          8       9  10 11                      12  \n",
       "11   1050066  263191  G  T                  Benign  \n",
       "33   2559622  133409  G  A            not_provided  \n",
       "36   2559652  133412  G  A            not_provided  \n",
       "66  10618431   95145  A  T                  Benign  \n",
       "88  11787634  292179  C  T  Uncertain_significance  "
      ]
     },
     "execution_count": 41,
     "metadata": {},
     "output_type": "execute_result"
    }
   ],
   "source": [
    "# Lets write all the mutations predicted to create new splice sites in files\n",
    "muts_createSS = list(set(muts_createSS_5p+muts_createSS_3p))\n",
    "introns_Intersect_Muts_createSS = introns_Intersect_muts_nonSS[introns_Intersect_muts_nonSS[9].isin(muts_createSS)]\n",
    "print introns_Intersect_Muts_createSS.shape\n",
    "introns_Intersect_Muts_createSS.to_csv(\"../temp/\"+whichDataSet+\"/Introns_Intersect_\"+whichDataSet+\"Muts_CreateSS.txt\",sep=\"\\t\",header=False,index=False)\n",
    "introns_Intersect_Muts_createSS.head()"
   ]
  },
  {
   "cell_type": "code",
   "execution_count": 42,
   "metadata": {},
   "outputs": [
    {
     "name": "stdout",
     "output_type": "stream",
     "text": [
      "(29118, 13)\n"
     ]
    },
    {
     "data": {
      "text/html": [
       "<div>\n",
       "<table border=\"1\" class=\"dataframe\">\n",
       "  <thead>\n",
       "    <tr style=\"text-align: right;\">\n",
       "      <th></th>\n",
       "      <th>0</th>\n",
       "      <th>1</th>\n",
       "      <th>2</th>\n",
       "      <th>3</th>\n",
       "      <th>4</th>\n",
       "      <th>5</th>\n",
       "      <th>6</th>\n",
       "      <th>7</th>\n",
       "      <th>8</th>\n",
       "      <th>9</th>\n",
       "      <th>10</th>\n",
       "      <th>11</th>\n",
       "      <th>12</th>\n",
       "    </tr>\n",
       "  </thead>\n",
       "  <tbody>\n",
       "    <tr>\n",
       "      <th>0</th>\n",
       "      <td>chr1</td>\n",
       "      <td>1042162</td>\n",
       "      <td>1043238</td>\n",
       "      <td>NM_001305275</td>\n",
       "      <td>+</td>\n",
       "      <td>AGRN</td>\n",
       "      <td>chr1</td>\n",
       "      <td>1042189</td>\n",
       "      <td>1042190</td>\n",
       "      <td>263159</td>\n",
       "      <td>G</td>\n",
       "      <td>A</td>\n",
       "      <td>Benign</td>\n",
       "    </tr>\n",
       "    <tr>\n",
       "      <th>1</th>\n",
       "      <td>chr1</td>\n",
       "      <td>1043457</td>\n",
       "      <td>1043537</td>\n",
       "      <td>NM_198576</td>\n",
       "      <td>+</td>\n",
       "      <td>AGRN</td>\n",
       "      <td>chr1</td>\n",
       "      <td>1043475</td>\n",
       "      <td>1043476</td>\n",
       "      <td>263164</td>\n",
       "      <td>G</td>\n",
       "      <td>A</td>\n",
       "      <td>Benign</td>\n",
       "    </tr>\n",
       "    <tr>\n",
       "      <th>2</th>\n",
       "      <td>chr1</td>\n",
       "      <td>1044439</td>\n",
       "      <td>1045160</td>\n",
       "      <td>NM_001305275</td>\n",
       "      <td>+</td>\n",
       "      <td>AGRN</td>\n",
       "      <td>chr1</td>\n",
       "      <td>1044454</td>\n",
       "      <td>1044455</td>\n",
       "      <td>263168</td>\n",
       "      <td>G</td>\n",
       "      <td>A</td>\n",
       "      <td>Benign</td>\n",
       "    </tr>\n",
       "    <tr>\n",
       "      <th>3</th>\n",
       "      <td>chr1</td>\n",
       "      <td>1045277</td>\n",
       "      <td>1045358</td>\n",
       "      <td>NM_198576</td>\n",
       "      <td>+</td>\n",
       "      <td>AGRN</td>\n",
       "      <td>chr1</td>\n",
       "      <td>1045288</td>\n",
       "      <td>1045289</td>\n",
       "      <td>387477</td>\n",
       "      <td>A</td>\n",
       "      <td>G</td>\n",
       "      <td>Likely_benign</td>\n",
       "    </tr>\n",
       "    <tr>\n",
       "      <th>4</th>\n",
       "      <td>chr1</td>\n",
       "      <td>1045523</td>\n",
       "      <td>1045732</td>\n",
       "      <td>NM_001305275</td>\n",
       "      <td>+</td>\n",
       "      <td>AGRN</td>\n",
       "      <td>chr1</td>\n",
       "      <td>1045567</td>\n",
       "      <td>1045568</td>\n",
       "      <td>263171</td>\n",
       "      <td>C</td>\n",
       "      <td>T</td>\n",
       "      <td>Likely_benign</td>\n",
       "    </tr>\n",
       "  </tbody>\n",
       "</table>\n",
       "</div>"
      ],
      "text/plain": [
       "     0        1        2             3  4     5     6        7        8   \\\n",
       "0  chr1  1042162  1043238  NM_001305275  +  AGRN  chr1  1042189  1042190   \n",
       "1  chr1  1043457  1043537     NM_198576  +  AGRN  chr1  1043475  1043476   \n",
       "2  chr1  1044439  1045160  NM_001305275  +  AGRN  chr1  1044454  1044455   \n",
       "3  chr1  1045277  1045358     NM_198576  +  AGRN  chr1  1045288  1045289   \n",
       "4  chr1  1045523  1045732  NM_001305275  +  AGRN  chr1  1045567  1045568   \n",
       "\n",
       "       9  10 11             12  \n",
       "0  263159  G  A         Benign  \n",
       "1  263164  G  A         Benign  \n",
       "2  263168  G  A         Benign  \n",
       "3  387477  A  G  Likely_benign  \n",
       "4  263171  C  T  Likely_benign  "
      ]
     },
     "execution_count": 42,
     "metadata": {},
     "output_type": "execute_result"
    }
   ],
   "source": [
    "# Lets write all the mutations that are not predicted to create new splice sites in files\n",
    "introns_Intersect_Muts_DoesNotcreateSS = introns_Intersect_muts_nonSS[~introns_Intersect_muts_nonSS[9].isin(muts_createSS)]\n",
    "print introns_Intersect_Muts_DoesNotcreateSS.shape\n",
    "introns_Intersect_Muts_DoesNotcreateSS.to_csv(\"../temp/\"+whichDataSet+\"/Introns_Intersect_\"+whichDataSet+\"Muts_DoesNotCreateSS.txt\",sep=\"\\t\",header=False,index=False)\n",
    "introns_Intersect_Muts_DoesNotcreateSS.head()"
   ]
  },
  {
   "cell_type": "code",
   "execution_count": 43,
   "metadata": {},
   "outputs": [],
   "source": [
    "# Lets write the mutations themselves into a separate file\n",
    "introns_Intersect_Muts_DoesNotcreateSS.iloc[:,[6,7,8,9,10,11,12,4]].to_csv(\"../temp/\"+whichDataSet+\"/\"+whichDataSet+\"Muts_Intersect_Introns_DoesNotCreateSS.txt\",sep=\"\\t\",header=False,index=False)"
   ]
  },
  {
   "cell_type": "markdown",
   "metadata": {},
   "source": [
    "### We want to look for Category 3 and Category 4 of DAVs: mutations that destroy ISREs and ones that result in new ISRE motifs being created.\n",
    "\n",
    "Look at all mutations that are not predicted to create splice sites and identify ones that result in new ISRE motifs or destroy new ISRE motifs"
   ]
  },
  {
   "cell_type": "code",
   "execution_count": 4,
   "metadata": {},
   "outputs": [],
   "source": [
    "# This is a function that will find mutations that will create or destroy ISRE motifs\n",
    "def getMutationsThatCreateOrDestroyISREMotifs(ISREfile, mutation_seqfile, mutationsOfInterest, mutsite, create):\n",
    "    # Open the file containing ISRE motifs\n",
    "    ISRE_motifs = pd.read_csv(ISREfile,header=None)\n",
    "    print ISRE_motifs.head()\n",
    "    # Open file with mutations and sequences surrounding mutations\n",
    "    mutations_withSeq = pd.read_csv(mutation_seqfile,sep=\"\\t\",header=None)\n",
    "    print mutations_withSeq.shape\n",
    "    # Open file that contains IDs of mutations of interest\n",
    "    muts_Of_interest = pd.read_csv(mutationsOfInterest,sep=\"\\t\",header=None)\n",
    "    print muts_Of_interest.shape\n",
    "    \n",
    "    # Subset muations_withSeq data and only have ones that contains IDs of mutations of interest\n",
    "    muts_Of_interest_withSeq = mutations_withSeq[mutations_withSeq[9].isin(muts_Of_interest[9])]\n",
    "    print muts_Of_interest_withSeq.shape\n",
    "    \n",
    "    if create == True:\n",
    "        index_for_seq = 14\n",
    "    else:\n",
    "        index_for_seq = 13\n",
    "    \n",
    "    # Create a dictionary that stores the mutated sequence as values with mutation id as the key\n",
    "    muts_dict = pd.Series(muts_Of_interest_withSeq[index_for_seq].values,index=muts_Of_interest_withSeq[9].values).to_dict()\n",
    "    \n",
    "    # These are the lists that are going to contain the mutation ids for mutations that result in new ISRE motifs\n",
    "    mutations_Have_Motifs = []\n",
    "\n",
    "    # Go through every record in mutation file\n",
    "    for mut in muts_dict.keys():\n",
    "        mut_seq = muts_dict[mut]\n",
    "        mutatedISREmotifs_for_mut = []\n",
    "        for i in ISRE_motifs[0].values:\n",
    "            x = [[m.start(), m.end()] for m in re2.finditer(i, mut_seq,overlapped=True) if mutsite in range(m.start(), m.end())]\n",
    "            if len(x) != 0:\n",
    "                mutatedISREmotifs_for_mut.append(i)\n",
    "        if len(mutatedISREmotifs_for_mut) > 0:\n",
    "            mutations_Have_Motifs.append([mut,mutatedISREmotifs_for_mut])\n",
    "\n",
    "    return mutations_Have_Motifs"
   ]
  },
  {
   "cell_type": "code",
   "execution_count": 5,
   "metadata": {},
   "outputs": [
    {
     "name": "stdout",
     "output_type": "stream",
     "text": [
      "        0\n",
      "0  ACATGA\n",
      "1  GTAACG\n",
      "2  ACATGG\n",
      "3  GGAACC\n",
      "4  AGATAG\n",
      "(7742, 15)\n",
      "(7124, 13)\n",
      "(7124, 15)\n",
      "1299\n"
     ]
    },
    {
     "data": {
      "text/plain": [
       "[['CM076556', ['TTGTGG']],\n",
       " ['CS128048', ['AGAGGT']],\n",
       " ['CM077979', ['TGTGGG']],\n",
       " ['CM990806', ['AGTGTG']],\n",
       " ['CS1513479', ['AGTTAA']]]"
      ]
     },
     "execution_count": 5,
     "metadata": {},
     "output_type": "execute_result"
    }
   ],
   "source": [
    "# Look for ISRE motifs in the sequences around the mutation that contain the mutated base and check if the mutated base\n",
    "# is within the ISRE motif found\n",
    "Muts_Create_New_ISREs = getMutationsThatCreateOrDestroyISREMotifs(\"../data/ISE_ISS_ZWpaper.tsv\",\"../temp/\"+whichDataSet+\"/Introns_Intersect_\"+whichDataSet+\"Muts_NotWithinSS-25bp_WTandMUTsequences.txt\",\"../temp/\"+whichDataSet+\"/Introns_Intersect_\"+whichDataSet+\"Muts_DoesNotCreateSS.txt\",25,True)\n",
    "print len(Muts_Create_New_ISREs)\n",
    "Muts_Create_New_ISREs[0:5]"
   ]
  },
  {
   "cell_type": "code",
   "execution_count": 13,
   "metadata": {},
   "outputs": [
    {
     "name": "stdout",
     "output_type": "stream",
     "text": [
      "        0\n",
      "0  ACATGA\n",
      "1  GTAACG\n",
      "2  ACATGG\n",
      "3  GGAACC\n",
      "4  AGATAG\n",
      "(7742, 15)\n",
      "(7124, 13)\n",
      "(7124, 15)\n",
      "1255\n"
     ]
    }
   ],
   "source": [
    "# Look for ISRE motifs in the sequences around the mutation that contain the WT base and check if the WT base\n",
    "# is within the ISRE motif found\n",
    "Muts_Destroy_ISREs = getMutationsThatCreateOrDestroyISREMotifs(\"../data/ISE_ISS_ZWpaper.tsv\",\"../temp/\"+whichDataSet+\"/Introns_Intersect_\"+whichDataSet+\"Muts_NotWithinSS-25bp_WTandMUTsequences.txt\",\"../temp/\"+whichDataSet+\"/Introns_Intersect_\"+whichDataSet+\"Muts_DoesNotCreateSS.txt\",25,False)\n",
    "print len(Muts_Destroy_ISREs)"
   ]
  },
  {
   "cell_type": "code",
   "execution_count": 47,
   "metadata": {},
   "outputs": [
    {
     "data": {
      "image/png": "[encoded data removed]",
      "text/plain": [
       "<matplotlib.figure.Figure at 0x7f9e9be21c50>"
      ]
     },
     "metadata": {},
     "output_type": "display_data"
    }
   ],
   "source": [
    "# Piechart to show how DAVs addect ISRE motifs\n",
    "introns_Intersect_Muts_DoesNotcreateSS = pd.read_csv(\"../temp/\"+whichDataSet+\"/Introns_Intersect_\"+whichDataSet+\"Muts_DoesNotCreateSS.txt\",header=None,sep=\"\\t\")\n",
    "Muts_NotcreatingdestroyingISREs = [i for i in list(introns_Intersect_Muts_DoesNotcreateSS[9].values) if i not in Muts_Create_New_ISREs and i not in Muts_Destroy_ISREs]\n",
    "Muts_BothcreatingdestroyingISREs = [i for i in Muts_Create_New_ISREs if i in Muts_Destroy_ISREs]\n",
    "Muts_JustcreatingISREs = [i for i in Muts_Create_New_ISREs if i not in Muts_Destroy_ISREs]\n",
    "Muts_JustdestroyingISREs = [i for i in Muts_Destroy_ISREs if i not in Muts_Create_New_ISREs]\n",
    "\n",
    "labels = 'Creating ISREs (' + str(len(Muts_JustcreatingISREs)) + ')', \\\n",
    "    'Destroying ISREs (' + str(len(Muts_JustdestroyingISREs))+')', \\\n",
    "    'Both (' + str(len(Muts_BothcreatingdestroyingISREs))+')', \\\n",
    "    'Neither (' + str(len(Muts_NotcreatingdestroyingISREs))+')'\n",
    "sizes = [len(Muts_JustcreatingISREs),len(Muts_JustdestroyingISREs),len(Muts_BothcreatingdestroyingISREs),len(Muts_NotcreatingdestroyingISREs)]\n",
    "colors = ['lightskyblue','lightcoral','orange','yellowgreen']\n",
    "explode = (0, 0,0,0.1)  # explode last slice\n",
    " \n",
    "# Plot\n",
    "plt.pie(sizes, explode=explode, labels=labels, colors=colors,\n",
    "        autopct='%1.2f%%', shadow=True, startangle=140)\n",
    "plt.title(whichDataSet+' DAVs and their effect on ISREs')\n",
    "plt.axis('equal')\n",
    "plt.show()"
   ]
  },
  {
   "cell_type": "code",
   "execution_count": 48,
   "metadata": {},
   "outputs": [],
   "source": [
    "# We want to write these mutations into files \n",
    "introns_Intersect_Muts_DoesNotcreateSS[introns_Intersect_Muts_DoesNotcreateSS[9].isin(Muts_BothcreatingdestroyingISREs)].to_csv(\"../temp/\"+whichDataSet+\"/Introns_Intersect_\"+whichDataSet+\"Muts_BothCreateDestroyISRE.txt\",sep=\"\\t\",header=False,index=False)\n",
    "introns_Intersect_Muts_DoesNotcreateSS[introns_Intersect_Muts_DoesNotcreateSS[9].isin(Muts_NotcreatingdestroyingISREs)].to_csv(\"../temp/\"+whichDataSet+\"/Introns_Intersect_\"+whichDataSet+\"Muts_NotCreateDestroyISRE.txt\",sep=\"\\t\",header=False,index=False)\n",
    "introns_Intersect_Muts_DoesNotcreateSS[introns_Intersect_Muts_DoesNotcreateSS[9].isin(Muts_JustcreatingISREs)].to_csv(\"../temp/\"+whichDataSet+\"/Introns_Intersect_\"+whichDataSet+\"Muts_JustCreateISRE.txt\",sep=\"\\t\",header=False,index=False)\n",
    "introns_Intersect_Muts_DoesNotcreateSS[introns_Intersect_Muts_DoesNotcreateSS[9].isin(Muts_JustdestroyingISREs)].to_csv(\"../temp/\"+whichDataSet+\"/Introns_Intersect_\"+whichDataSet+\"Muts_JustDestroyISRE.txt\",sep=\"\\t\",header=False,index=False)"
   ]
  },
  {
   "cell_type": "code",
   "execution_count": 49,
   "metadata": {},
   "outputs": [],
   "source": [
    "# We need to grab just the mutations that are not creating or destroying ISREs and write that to a file\n",
    "introns_Intersect_Muts_DoesNotcreateSS[introns_Intersect_Muts_DoesNotcreateSS[9].isin(Muts_NotcreatingdestroyingISREs)].iloc[:,[6,7,8,9,4,10,11,12]].to_csv(\"../temp/\"+whichDataSet+\"/\"+whichDataSet+\"Muts_Intersect_Introns_NotCreateDestroyISRE.txt\",sep=\"\\t\",index=False,header=False)"
   ]
  },
  {
   "cell_type": "markdown",
   "metadata": {},
   "source": [
    "### We focus on next category of DAVs to assign: DAVs that are found flanking 100bp around ISREs.  \n",
    "\n",
    "We first intersect the DAVs with 100bp flanking ISREs. \n",
    "\n",
    "Data for 100bp flanking ISREs coordinates comes from script Analyzing distribution of ISREs within introns.ipynb"
   ]
  },
  {
   "cell_type": "code",
   "execution_count": 50,
   "metadata": {},
   "outputs": [
    {
     "name": "stdout",
     "output_type": "stream",
     "text": [
      "ClinVar\n"
     ]
    }
   ],
   "source": [
    "%%script bash\n",
    "# Use bedtools to extract sequences around mutations from fasta file and write both a fasta file and a TSV file\n",
    "DataSet=\"ClinVar\"\n",
    "echo $DataSet\n",
    "# Intersect DAVs that are not creating or destroying ISREs with 100bp around ISREs\n",
    "bedtools intersect -a ../processed_data/ISREs_Intersect_Introns_singleISRElocation_50bpWindow.bed -b ../temp/${DataSet}/${DataSet}Muts_Intersect_Introns_NotCreateDestroyISRE.txt -wa -wb > ../temp/${DataSet}/ISREs_Intersect_${DataSet}Muts_Intersect_Introns.txt"
   ]
  },
  {
   "cell_type": "code",
   "execution_count": 51,
   "metadata": {},
   "outputs": [
    {
     "name": "stdout",
     "output_type": "stream",
     "text": [
      "(72316, 13)\n"
     ]
    },
    {
     "data": {
      "text/html": [
       "<div>\n",
       "<table border=\"1\" class=\"dataframe\">\n",
       "  <thead>\n",
       "    <tr style=\"text-align: right;\">\n",
       "      <th></th>\n",
       "      <th>0</th>\n",
       "      <th>1</th>\n",
       "      <th>2</th>\n",
       "      <th>3</th>\n",
       "      <th>4</th>\n",
       "      <th>5</th>\n",
       "      <th>6</th>\n",
       "      <th>7</th>\n",
       "      <th>8</th>\n",
       "      <th>9</th>\n",
       "      <th>10</th>\n",
       "      <th>11</th>\n",
       "      <th>12</th>\n",
       "    </tr>\n",
       "  </thead>\n",
       "  <tbody>\n",
       "    <tr>\n",
       "      <th>0</th>\n",
       "      <td>chr1</td>\n",
       "      <td>1045542</td>\n",
       "      <td>1045648</td>\n",
       "      <td>CTCCTC</td>\n",
       "      <td>+</td>\n",
       "      <td>chr1</td>\n",
       "      <td>1045567</td>\n",
       "      <td>1045568</td>\n",
       "      <td>263171</td>\n",
       "      <td>+</td>\n",
       "      <td>C</td>\n",
       "      <td>T</td>\n",
       "      <td>Likely_benign</td>\n",
       "    </tr>\n",
       "    <tr>\n",
       "      <th>1</th>\n",
       "      <td>chr1</td>\n",
       "      <td>1047442</td>\n",
       "      <td>1047548</td>\n",
       "      <td>TCCTCC</td>\n",
       "      <td>+</td>\n",
       "      <td>chr1</td>\n",
       "      <td>1047463</td>\n",
       "      <td>1047464</td>\n",
       "      <td>128301</td>\n",
       "      <td>+</td>\n",
       "      <td>G</td>\n",
       "      <td>C</td>\n",
       "      <td>Benign/Likely_benign</td>\n",
       "    </tr>\n",
       "    <tr>\n",
       "      <th>2</th>\n",
       "      <td>chr1</td>\n",
       "      <td>1049986</td>\n",
       "      <td>1050092</td>\n",
       "      <td>GGTCGG</td>\n",
       "      <td>+</td>\n",
       "      <td>chr1</td>\n",
       "      <td>1050053</td>\n",
       "      <td>1050054</td>\n",
       "      <td>263190</td>\n",
       "      <td>+</td>\n",
       "      <td>T</td>\n",
       "      <td>A</td>\n",
       "      <td>Likely_benign</td>\n",
       "    </tr>\n",
       "    <tr>\n",
       "      <th>3</th>\n",
       "      <td>chr1</td>\n",
       "      <td>1049996</td>\n",
       "      <td>1050102</td>\n",
       "      <td>GTGGGG</td>\n",
       "      <td>+</td>\n",
       "      <td>chr1</td>\n",
       "      <td>1050053</td>\n",
       "      <td>1050054</td>\n",
       "      <td>263190</td>\n",
       "      <td>+</td>\n",
       "      <td>T</td>\n",
       "      <td>A</td>\n",
       "      <td>Likely_benign</td>\n",
       "    </tr>\n",
       "    <tr>\n",
       "      <th>4</th>\n",
       "      <td>chr1</td>\n",
       "      <td>1050012</td>\n",
       "      <td>1050118</td>\n",
       "      <td>AGGGGG</td>\n",
       "      <td>+</td>\n",
       "      <td>chr1</td>\n",
       "      <td>1050053</td>\n",
       "      <td>1050054</td>\n",
       "      <td>263190</td>\n",
       "      <td>+</td>\n",
       "      <td>T</td>\n",
       "      <td>A</td>\n",
       "      <td>Likely_benign</td>\n",
       "    </tr>\n",
       "  </tbody>\n",
       "</table>\n",
       "</div>"
      ],
      "text/plain": [
       "     0        1        2       3  4     5        6        7       8  9  10 11  \\\n",
       "0  chr1  1045542  1045648  CTCCTC  +  chr1  1045567  1045568  263171  +  C  T   \n",
       "1  chr1  1047442  1047548  TCCTCC  +  chr1  1047463  1047464  128301  +  G  C   \n",
       "2  chr1  1049986  1050092  GGTCGG  +  chr1  1050053  1050054  263190  +  T  A   \n",
       "3  chr1  1049996  1050102  GTGGGG  +  chr1  1050053  1050054  263190  +  T  A   \n",
       "4  chr1  1050012  1050118  AGGGGG  +  chr1  1050053  1050054  263190  +  T  A   \n",
       "\n",
       "                     12  \n",
       "0         Likely_benign  \n",
       "1  Benign/Likely_benign  \n",
       "2         Likely_benign  \n",
       "3         Likely_benign  \n",
       "4         Likely_benign  "
      ]
     },
     "execution_count": 51,
     "metadata": {},
     "output_type": "execute_result"
    }
   ],
   "source": [
    "# Read in the intersection data\n",
    "ISREs_Intersect_introns_Intersect_muts = pd.read_csv(\"../temp/\"+whichDataSet+\"/ISREs_Intersect_\"+whichDataSet+\"Muts_Intersect_Introns.txt\",sep=\"\\t\",header=None)\n",
    "print ISREs_Intersect_introns_Intersect_muts.shape\n",
    "ISREs_Intersect_introns_Intersect_muts.head()"
   ]
  },
  {
   "cell_type": "code",
   "execution_count": 52,
   "metadata": {},
   "outputs": [
    {
     "name": "stdout",
     "output_type": "stream",
     "text": [
      "17812\n"
     ]
    }
   ],
   "source": [
    "# Sanity check to see how many mutations we are intersecting, should be same number in piechart\n",
    "print ISREs_Intersect_introns_Intersect_muts.iloc[:,8].drop_duplicates().shape[0]"
   ]
  },
  {
   "cell_type": "code",
   "execution_count": 53,
   "metadata": {},
   "outputs": [
    {
     "name": "stdout",
     "output_type": "stream",
     "text": [
      "(71596, 13)\n"
     ]
    }
   ],
   "source": [
    "# We only want to include mutations found in introns on the same strand as the ISREs\n",
    "ISREs_Intersect_introns_Intersect_muts_SameStrand = ISREs_Intersect_introns_Intersect_muts[ISREs_Intersect_introns_Intersect_muts[4]==ISREs_Intersect_introns_Intersect_muts[9]]\n",
    "print ISREs_Intersect_introns_Intersect_muts_SameStrand.shape"
   ]
  },
  {
   "cell_type": "code",
   "execution_count": 54,
   "metadata": {},
   "outputs": [],
   "source": [
    "# Write these mutations to a file\n",
    "ISREs_Intersect_introns_Intersect_muts_SameStrand.to_csv(\"../temp/\"+whichDataSet+\"/\"+whichDataSet+\"Muts_Flanking_100bpISREs.txt\",sep=\"\\t\",header=False,index=False)"
   ]
  },
  {
   "cell_type": "markdown",
   "metadata": {},
   "source": [
    "This is the last category of DAVs: They don't meet any of the above criteria -> not found in SS, don't create splice sites, not found in ISREs, don't create new ISREs, not flanking 100 bp around ISREs"
   ]
  },
  {
   "cell_type": "code",
   "execution_count": 55,
   "metadata": {},
   "outputs": [
    {
     "name": "stdout",
     "output_type": "stream",
     "text": [
      "(2868, 13)\n"
     ]
    },
    {
     "data": {
      "text/html": [
       "<div>\n",
       "<table border=\"1\" class=\"dataframe\">\n",
       "  <thead>\n",
       "    <tr style=\"text-align: right;\">\n",
       "      <th></th>\n",
       "      <th>0</th>\n",
       "      <th>1</th>\n",
       "      <th>2</th>\n",
       "      <th>3</th>\n",
       "      <th>4</th>\n",
       "      <th>5</th>\n",
       "      <th>6</th>\n",
       "      <th>7</th>\n",
       "      <th>8</th>\n",
       "      <th>9</th>\n",
       "      <th>10</th>\n",
       "      <th>11</th>\n",
       "      <th>12</th>\n",
       "    </tr>\n",
       "  </thead>\n",
       "  <tbody>\n",
       "    <tr>\n",
       "      <th>0</th>\n",
       "      <td>chr1</td>\n",
       "      <td>1045277</td>\n",
       "      <td>1045358</td>\n",
       "      <td>NM_198576</td>\n",
       "      <td>+</td>\n",
       "      <td>AGRN</td>\n",
       "      <td>chr1</td>\n",
       "      <td>1045288</td>\n",
       "      <td>1045289</td>\n",
       "      <td>387477</td>\n",
       "      <td>A</td>\n",
       "      <td>G</td>\n",
       "      <td>Likely_benign</td>\n",
       "    </tr>\n",
       "    <tr>\n",
       "      <th>3</th>\n",
       "      <td>chr1</td>\n",
       "      <td>1049059</td>\n",
       "      <td>1049235</td>\n",
       "      <td>NM_198576</td>\n",
       "      <td>+</td>\n",
       "      <td>AGRN</td>\n",
       "      <td>chr1</td>\n",
       "      <td>1049075</td>\n",
       "      <td>1049076</td>\n",
       "      <td>387479</td>\n",
       "      <td>C</td>\n",
       "      <td>T</td>\n",
       "      <td>Benign</td>\n",
       "    </tr>\n",
       "    <tr>\n",
       "      <th>42</th>\n",
       "      <td>chr1</td>\n",
       "      <td>11785289</td>\n",
       "      <td>11787387</td>\n",
       "      <td>NM_001010881</td>\n",
       "      <td>+</td>\n",
       "      <td>C1orf167</td>\n",
       "      <td>chr1</td>\n",
       "      <td>11785779</td>\n",
       "      <td>11785780</td>\n",
       "      <td>292148</td>\n",
       "      <td>G</td>\n",
       "      <td>A</td>\n",
       "      <td>Uncertain_significance</td>\n",
       "    </tr>\n",
       "    <tr>\n",
       "      <th>43</th>\n",
       "      <td>chr1</td>\n",
       "      <td>11785289</td>\n",
       "      <td>11787387</td>\n",
       "      <td>NM_001010881</td>\n",
       "      <td>+</td>\n",
       "      <td>C1orf167</td>\n",
       "      <td>chr1</td>\n",
       "      <td>11785795</td>\n",
       "      <td>11785796</td>\n",
       "      <td>292149</td>\n",
       "      <td>G</td>\n",
       "      <td>C</td>\n",
       "      <td>Uncertain_significance</td>\n",
       "    </tr>\n",
       "    <tr>\n",
       "      <th>44</th>\n",
       "      <td>chr1</td>\n",
       "      <td>11785289</td>\n",
       "      <td>11787387</td>\n",
       "      <td>NM_001010881</td>\n",
       "      <td>+</td>\n",
       "      <td>C1orf167</td>\n",
       "      <td>chr1</td>\n",
       "      <td>11785881</td>\n",
       "      <td>11785882</td>\n",
       "      <td>292150</td>\n",
       "      <td>G</td>\n",
       "      <td>A</td>\n",
       "      <td>Uncertain_significance</td>\n",
       "    </tr>\n",
       "  </tbody>\n",
       "</table>\n",
       "</div>"
      ],
      "text/plain": [
       "      0         1         2             3  4         5     6         7   \\\n",
       "0   chr1   1045277   1045358     NM_198576  +      AGRN  chr1   1045288   \n",
       "3   chr1   1049059   1049235     NM_198576  +      AGRN  chr1   1049075   \n",
       "42  chr1  11785289  11787387  NM_001010881  +  C1orf167  chr1  11785779   \n",
       "43  chr1  11785289  11787387  NM_001010881  +  C1orf167  chr1  11785795   \n",
       "44  chr1  11785289  11787387  NM_001010881  +  C1orf167  chr1  11785881   \n",
       "\n",
       "          8       9  10 11                      12  \n",
       "0    1045289  387477  A  G           Likely_benign  \n",
       "3    1049076  387479  C  T                  Benign  \n",
       "42  11785780  292148  G  A  Uncertain_significance  \n",
       "43  11785796  292149  G  C  Uncertain_significance  \n",
       "44  11785882  292150  G  A  Uncertain_significance  "
      ]
     },
     "execution_count": 55,
     "metadata": {},
     "output_type": "execute_result"
    }
   ],
   "source": [
    "# Get mutations that are not found flanking ISREs and don't meet any of above categories\n",
    "Muts_NotCreatingDestroyingISREs = pd.read_csv(\"../temp/\"+whichDataSet+\"/Introns_Intersect_\"+whichDataSet+\"Muts_NotCreateDestroyISRE.txt\",sep=\"\\t\",header=None)\n",
    "Muts_NotMeetingAnyCriteria = Muts_NotCreatingDestroyingISREs[~Muts_NotCreatingDestroyingISREs[9].isin(ISREs_Intersect_introns_Intersect_muts_SameStrand[8])]\n",
    "print Muts_NotMeetingAnyCriteria.shape\n",
    "Muts_NotMeetingAnyCriteria.head()"
   ]
  },
  {
   "cell_type": "code",
   "execution_count": 56,
   "metadata": {},
   "outputs": [],
   "source": [
    "Muts_NotMeetingAnyCriteria.to_csv(\"../temp/\"+whichDataSet+\"/Introns_Intersect_\"+whichDataSet+\"Muts_DoNotMeetAnyCriteria.txt\",sep=\"\\t\",header=False,index=False)"
   ]
  },
  {
   "cell_type": "code",
   "execution_count": 57,
   "metadata": {},
   "outputs": [
    {
     "data": {
      "image/png": "[encoded data removed]",
      "text/plain": [
       "<matplotlib.figure.Figure at 0x7f9e9bea8a10>"
      ]
     },
     "metadata": {},
     "output_type": "display_data"
    }
   ],
   "source": [
    "labels = \"Flanking 100bp of ISREs (\" + str(ISREs_Intersect_introns_Intersect_muts_SameStrand[8].drop_duplicates().shape[0]) +')', \\\n",
    "\"Don't meet any criteria (\" + str(Muts_NotMeetingAnyCriteria[9].drop_duplicates().shape[0]) + ')'\n",
    "sizes = [ISREs_Intersect_introns_Intersect_muts_SameStrand[8].drop_duplicates().shape[0], \\\n",
    "         Muts_NotMeetingAnyCriteria[9].drop_duplicates().shape[0]]\n",
    "colors = ['yellowgreen','lightcoral',]\n",
    "explode = (0.1,0)  # explode 1st slice\n",
    " \n",
    "# Plot\n",
    "plt.pie(sizes, explode=explode, labels=labels, colors=colors,\n",
    "        autopct='%1.2f%%', shadow=True, startangle=140)\n",
    "plt.title('DAVs flanking ISREs')\n",
    "plt.axis('equal')\n",
    "plt.show()"
   ]
  }
 ],
 "metadata": {
  "kernelspec": {
   "display_name": "Python 2",
   "language": "python",
   "name": "python2"
  },
  "language_info": {
   "codemirror_mode": {
    "name": "ipython",
    "version": 2
   },
   "file_extension": ".py",
   "mimetype": "text/x-python",
   "name": "python",
   "nbconvert_exporter": "python",
   "pygments_lexer": "ipython2",
   "version": "2.7.12"
  }
 },
 "nbformat": 4,
 "nbformat_minor": 2
}
