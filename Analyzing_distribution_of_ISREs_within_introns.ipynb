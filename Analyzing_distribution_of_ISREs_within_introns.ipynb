{
 "cells": [
  {
   "cell_type": "markdown",
   "metadata": {},
   "source": [
    "This script will assign coordinates for ISRE motifs from Zefeng Wangs 2013 papers found within introns. \n",
    "\n",
    "It will also write files for coordinates for 100 bps flanking ISRE motifs. \n",
    "\n",
    "It will also analyze the distribution of ISREs within introns.\n",
    "\n",
    "It will also analyze the distribution of mutations around ISREs"
   ]
  },
  {
   "cell_type": "code",
   "execution_count": 1,
   "metadata": {},
   "outputs": [],
   "source": [
    "from Bio import SeqIO\n",
    "from Bio.Seq import Seq\n",
    "import regex as re2\n",
    "import pandas as pd\n",
    "import matplotlib.pyplot as plt\n",
    "import matplotlib\n",
    "matplotlib.style.use('ggplot')\n",
    "import seaborn as sns\n",
    "import numpy as np"
   ]
  },
  {
   "cell_type": "code",
   "execution_count": null,
   "metadata": {},
   "outputs": [],
   "source": [
    "# This function will get the coordinates of ISRE motifs throughout the genome. \n",
    "def findISRESWithinChromosome(seqdirectory,chromosome,ISREfile,writefile):\n",
    "\n",
    "    with open(ISREfile) as f:\n",
    "        ISREs = [line.strip() for line in f]\n",
    "    #chrms = range(1, 23)\n",
    "    #chrms.extend(['X', 'Y'])\n",
    "    # print(chrms)\n",
    "    #chrms_act = ['chr' + str(i) for i in chrms]\n",
    "\n",
    "    with open(writefile,'w') as fw:\n",
    "        #for chromosome in chrms_act:\n",
    "        for rec in SeqIO.parse(open(seqdirectory + '/' + chromosome + '.fa', 'rU'), 'fasta'):\n",
    "            seq_chrm = rec.seq\n",
    "            seq_chrm_revcom = seq_chrm.complement()\n",
    "        for isre in ISREs:\n",
    "            isre_coords_for = [[m.start(), m.end()] for m in re2.finditer(isre, str(seq_chrm),overlapped=True)]\n",
    "            for coord in isre_coords_for:\n",
    "                fw.write(chromosome + '\\t' + str(coord[0]) + '\\t' + str(coord[1]) +'\\t' + isre + '\\t' + '+' +'\\n')\n",
    "            isre_coords_rev = [[m.start(), m.end()] for m in re2.finditer(isre[::-1], str(seq_chrm_revcom), overlapped=True)]\n",
    "            for coord in isre_coords_rev:\n",
    "                fw.write(chromosome + '\\t' + str(coord[0]) + '\\t' + str(coord[1]) + '\\t' + isre + '\\t' + '-' + '\\n')"
   ]
  },
  {
   "cell_type": "code",
   "execution_count": null,
   "metadata": {},
   "outputs": [],
   "source": [
    "# Run the above function for each chromosome\n",
    "chrms = range(1, 23)\n",
    "chrms.extend(['X', 'Y'])\n",
    "print(chrms)\n",
    "chrms_act = ['chr' + str(i) for i in chrms]\n",
    "    \n",
    "for chrom in chrms_act:\n",
    "    print chrom\n",
    "    findISRESWithinChromosome(\"/home/shared/hg38/hg38_chroms\",chrom,\"../data/ISE_ISS_ZWpaper.tsv\",\"../temp/Chromosomedata_ISREs/\"+chrom+\"_ISRE_locations.bed\")\n",
    "    #findISRESWithinChromosome(\"hg38_chroms\",chrom,\"ISE_ISS_ZWpaper.tsv\",\"Chromosomedata_ISEandISSs/\"+chrom+\"_ISS_locations.bed\")"
   ]
  },
  {
   "cell_type": "code",
   "execution_count": null,
   "metadata": {},
   "outputs": [],
   "source": [
    "# Intersect ISRE coordinate file with the intron coordinate file to get ISREs found in introns\n",
    "!./runISREs_Intersect_Introns.sh"
   ]
  },
  {
   "cell_type": "code",
   "execution_count": null,
   "metadata": {},
   "outputs": [],
   "source": [
    "# Concatenatate all the ISRE intersecting introns per chromosome data into one file \n",
    "!cat ../temp/Chromosomedata_ISREs/Introns_Intersect_chr*_ISREs.txt > ../temp/Introns_Intersect_ISREs.txt"
   ]
  },
  {
   "cell_type": "code",
   "execution_count": null,
   "metadata": {},
   "outputs": [],
   "source": [
    "# This function checks if the intron and the ISRE are on the same strand and only returns those that are \n",
    "def grabSameStrandData(datafile,strandind1,strandind2):\n",
    "    data = pd.read_csv(datafile,sep=\"\\t\",header=None)\n",
    "    print data.shape\n",
    "    data_sameStrand= data[data[strandind1]==data[strandind2]]\n",
    "    print data_sameStrand.shape\n",
    "    return(data_sameStrand)"
   ]
  },
  {
   "cell_type": "code",
   "execution_count": null,
   "metadata": {},
   "outputs": [],
   "source": [
    "# Run the grab same strand data function for introns intersecting ISREs\n",
    "introns_Intersect_ISREs_sameStrand = grabSameStrandData(\"../temp/Introns_Intersect_ISREs.txt\",4,10)\n",
    "print introns_Intersect_ISREs_sameStrand.shape\n",
    "introns_Intersect_ISREs_sameStrand.head()"
   ]
  },
  {
   "cell_type": "code",
   "execution_count": null,
   "metadata": {},
   "outputs": [],
   "source": [
    "# Lets see how many unique ISREs are \n",
    "introns_Intersect_ISREs_sameStrand.iloc[:,range(6,11)].drop_duplicates().shape"
   ]
  },
  {
   "cell_type": "code",
   "execution_count": null,
   "metadata": {},
   "outputs": [],
   "source": [
    "# If there are multiple introns associated with one intron, we want to randomly pick one intron for each mutation\n",
    "def getSingleLocationForISRESwithIntron(data):\n",
    "    justISREs = data.iloc[:,[6,7,8,9,10]]\n",
    "    duplicateRows = justISREs.duplicated(keep=False)\n",
    "    duplicated_rows = data[duplicateRows]\n",
    "    print duplicated_rows.shape\n",
    "    nonduplicated_rows = data[~duplicateRows]\n",
    "    print nonduplicated_rows.shape\n",
    "    duplicatedrows_single = duplicated_rows.groupby([6,7,8,10]).apply(lambda x :x.iloc[np.random.randint(0, len(x))])\n",
    "    combinerows = pd.concat([nonduplicated_rows,duplicatedrows_single])\n",
    "    combinerows_sorted = combinerows.sort_values(by=[0,1,2])\n",
    "    return combinerows_sorted"
   ]
  },
  {
   "cell_type": "code",
   "execution_count": null,
   "metadata": {},
   "outputs": [],
   "source": [
    "# Randomly pick intron for each mutation\n",
    "introns_ISREs_singleLocation = getSingleLocationForISRESwithIntron(introns_Intersect_ISREs_sameStrand)\n",
    "print introns_ISREs_singleLocation.shape\n",
    "introns_ISREs_singleLocation.head()"
   ]
  },
  {
   "cell_type": "code",
   "execution_count": null,
   "metadata": {},
   "outputs": [],
   "source": [
    "introns_ISREs_singleLocation.to_csv(\"../processed_data/Introns_Intersect_ISREs_singleISRElocation.txt\",sep=\"\\t\",header=False,index=False)"
   ]
  },
  {
   "cell_type": "code",
   "execution_count": 5,
   "metadata": {},
   "outputs": [],
   "source": [
    "# This function will get the difference between start site of feature of interest and see how far it is from the start\n",
    "# of the intron\n",
    "def getDataForAnydistribution(data,window_5,window_3):\n",
    "    data_plus = data[data[4]=='+']\n",
    "    data_minus = data[data[4]=='-']\n",
    "    valid_data_plus = data_plus[(data_plus[7] >= data_plus[1]+window_5) & (data_plus[7] <= data_plus[2]-1-window_3)]\n",
    "    valid_data_minus = data_minus[(data_minus[7] >= data_minus[1]+window_3) & (data_minus[7] <= data_minus[2]-1-window_5)]\n",
    "    data_dist_plus = (valid_data_plus[7]-valid_data_plus[1])/(valid_data_plus[2]-valid_data_plus[1])\n",
    "    data_dist_minus = (valid_data_minus[7] - valid_data_minus[1]) / (valid_data_minus[2] - valid_data_minus[1])\n",
    "    return pd.concat([data_dist_plus,1-data_dist_minus])"
   ]
  },
  {
   "cell_type": "code",
   "execution_count": 6,
   "metadata": {},
   "outputs": [
    {
     "name": "stdout",
     "output_type": "stream",
     "text": [
      "(23964596, 11)\n"
     ]
    },
    {
     "data": {
      "text/html": [
       "<div>\n",
       "<table border=\"1\" class=\"dataframe\">\n",
       "  <thead>\n",
       "    <tr style=\"text-align: right;\">\n",
       "      <th></th>\n",
       "      <th>0</th>\n",
       "      <th>1</th>\n",
       "      <th>2</th>\n",
       "      <th>3</th>\n",
       "      <th>4</th>\n",
       "      <th>5</th>\n",
       "      <th>6</th>\n",
       "      <th>7</th>\n",
       "      <th>8</th>\n",
       "      <th>9</th>\n",
       "      <th>10</th>\n",
       "    </tr>\n",
       "  </thead>\n",
       "  <tbody>\n",
       "    <tr>\n",
       "      <th>0</th>\n",
       "      <td>chr1</td>\n",
       "      <td>925800</td>\n",
       "      <td>925921</td>\n",
       "      <td>NM_152486</td>\n",
       "      <td>+</td>\n",
       "      <td>SAMD11</td>\n",
       "      <td>chr1</td>\n",
       "      <td>925804</td>\n",
       "      <td>925810</td>\n",
       "      <td>GTGTGG</td>\n",
       "      <td>+</td>\n",
       "    </tr>\n",
       "    <tr>\n",
       "      <th>1</th>\n",
       "      <td>chr1</td>\n",
       "      <td>925800</td>\n",
       "      <td>925921</td>\n",
       "      <td>NM_152486</td>\n",
       "      <td>+</td>\n",
       "      <td>SAMD11</td>\n",
       "      <td>chr1</td>\n",
       "      <td>925820</td>\n",
       "      <td>925826</td>\n",
       "      <td>GTATTT</td>\n",
       "      <td>+</td>\n",
       "    </tr>\n",
       "    <tr>\n",
       "      <th>2</th>\n",
       "      <td>chr1</td>\n",
       "      <td>925800</td>\n",
       "      <td>925921</td>\n",
       "      <td>NM_152486</td>\n",
       "      <td>+</td>\n",
       "      <td>SAMD11</td>\n",
       "      <td>chr1</td>\n",
       "      <td>925805</td>\n",
       "      <td>925811</td>\n",
       "      <td>TGTGGG</td>\n",
       "      <td>+</td>\n",
       "    </tr>\n",
       "    <tr>\n",
       "      <th>3</th>\n",
       "      <td>chr1</td>\n",
       "      <td>925800</td>\n",
       "      <td>925921</td>\n",
       "      <td>NM_152486</td>\n",
       "      <td>+</td>\n",
       "      <td>SAMD11</td>\n",
       "      <td>chr1</td>\n",
       "      <td>925842</td>\n",
       "      <td>925848</td>\n",
       "      <td>AGGGGG</td>\n",
       "      <td>+</td>\n",
       "    </tr>\n",
       "    <tr>\n",
       "      <th>4</th>\n",
       "      <td>chr1</td>\n",
       "      <td>925800</td>\n",
       "      <td>925921</td>\n",
       "      <td>NM_152486</td>\n",
       "      <td>+</td>\n",
       "      <td>SAMD11</td>\n",
       "      <td>chr1</td>\n",
       "      <td>925839</td>\n",
       "      <td>925845</td>\n",
       "      <td>GGGAGG</td>\n",
       "      <td>+</td>\n",
       "    </tr>\n",
       "  </tbody>\n",
       "</table>\n",
       "</div>"
      ],
      "text/plain": [
       "     0       1       2          3  4       5     6       7       8       9  10\n",
       "0  chr1  925800  925921  NM_152486  +  SAMD11  chr1  925804  925810  GTGTGG  +\n",
       "1  chr1  925800  925921  NM_152486  +  SAMD11  chr1  925820  925826  GTATTT  +\n",
       "2  chr1  925800  925921  NM_152486  +  SAMD11  chr1  925805  925811  TGTGGG  +\n",
       "3  chr1  925800  925921  NM_152486  +  SAMD11  chr1  925842  925848  AGGGGG  +\n",
       "4  chr1  925800  925921  NM_152486  +  SAMD11  chr1  925839  925845  GGGAGG  +"
      ]
     },
     "execution_count": 6,
     "metadata": {},
     "output_type": "execute_result"
    }
   ],
   "source": [
    "introns_ISREs_singleLocation = pd.read_csv(\"../processed_data/Introns_Intersect_ISREs_singleISRElocation.txt\",header=None,sep=\"\\t\")\n",
    "print introns_ISREs_singleLocation.shape\n",
    "introns_ISREs_singleLocation.head()"
   ]
  },
  {
   "cell_type": "code",
   "execution_count": 7,
   "metadata": {},
   "outputs": [
    {
     "data": {
      "text/plain": [
       "0    0.033058\n",
       "1    0.165289\n",
       "2    0.041322\n",
       "3    0.347107\n",
       "4    0.322314\n",
       "dtype: float64"
      ]
     },
     "execution_count": 7,
     "metadata": {},
     "output_type": "execute_result"
    }
   ],
   "source": [
    "introns_ISREs_singleLocation_dist = getDataForAnydistribution(introns_ISREs_singleLocation,0,0)\n",
    "introns_ISREs_singleLocation_dist.head()"
   ]
  },
  {
   "cell_type": "code",
   "execution_count": 10,
   "metadata": {},
   "outputs": [
    {
     "data": {
      "image/png": "[encoded data removed]",
      "text/plain": [
       "<matplotlib.figure.Figure at 0x7f9f6774ba10>"
      ]
     },
     "metadata": {},
     "output_type": "display_data"
    }
   ],
   "source": [
    "sns.set_style(\"dark\")\n",
    "a4_dims = (11.7, 8.27)\n",
    "fig, ax = plt.subplots(figsize=a4_dims)\n",
    "sns.distplot(introns_ISREs_singleLocation_dist, bins=1582, kde=False, rug=False, color=\"green\");\n",
    "#plt.ylim([0,2000])\n",
    "plt.ylabel('Density')\n",
    "plt.xlabel('Normalized intron length')\n",
    "plt.title(\"Distribution of ISREs across introns\")\n",
    "plt.show()"
   ]
  },
  {
   "cell_type": "code",
   "execution_count": 3,
   "metadata": {},
   "outputs": [],
   "source": [
    "# This function will write the coordinates around ISREs according to the window size given\n",
    "def writeWindowsAroundISREsInIntrons(datafile,window,writefile):\n",
    "    data = pd.read_csv(datafile,header=None,sep=\"\\t\")\n",
    "    #valid_data = data[((data[7]- 1.5*window) >= data[1]) & ((data[8]+ 1.5*window) <= data[2])]\n",
    "    valid_data = data\n",
    "    new_ISRE_data = {\"chrom\":valid_data[6],\"start\":valid_data[7]-window,\"end\":valid_data[8]+window,\"motif\":valid_data[9],\"strand\":valid_data[10]}\n",
    "    ISRE_datadf = pd.DataFrame(new_ISRE_data,columns=[\"chrom\",\"start\",\"end\",\"motif\",\"strand\"])\n",
    "    ISRE_datadf.to_csv(writefile,sep=\"\\t\",header=False,index=False)"
   ]
  },
  {
   "cell_type": "code",
   "execution_count": 4,
   "metadata": {},
   "outputs": [],
   "source": [
    "writeWindowsAroundISREsInIntrons(\"../processed_data/Introns_Intersect_ISREs_singleISRElocation.txt\",50,\"../processed_data/ISREs_Intersect_Introns_singleISRElocation_50bpWindow.bed\")"
   ]
  },
  {
   "cell_type": "code",
   "execution_count": null,
   "metadata": {},
   "outputs": [],
   "source": [
    "introns_ISREs_Muts_dist = ISREs_Intersect_introns_Intersect_muts_SameStrand[6] - ISREs_Intersect_introns_Intersect_muts_SameStrand[1]\n",
    "introns_ISREs_Muts_dist.head()"
   ]
  },
  {
   "cell_type": "code",
   "execution_count": null,
   "metadata": {},
   "outputs": [],
   "source": [
    "# Plot the distribution of mutations across 100 window of ISREs \n",
    "sns.set_style(\"dark\")\n",
    "a4_dims = (11.7, 8.27)\n",
    "fig, ax = plt.subplots(figsize=a4_dims)\n",
    "sns.distplot(introns_ISREs_Muts_dist, bins=106, norm_hist=True, kde=False, rug=False, color=\"green\");\n",
    "#plt.ylim([0,500])\n",
    "plt.ylabel('Density')\n",
    "plt.xlabel('100 bp window around ISRE')\n",
    "plt.axvline(x=50, color='k', linestyle='--')\n",
    "plt.axvline(x=55, color='k', linestyle='--')\n",
    "plt.xticks([0,50,55,105])\n",
    "ax = plt.gca()\n",
    "ax.set_xticklabels([-50,0,5,50])\n",
    "plt.title(\"Distribution of mutations around ISREs\")\n",
    "plt.show()"
   ]
  },
  {
   "cell_type": "markdown",
   "metadata": {},
   "source": [
    "Let's look at the frequency of ISRE motifs within introns "
   ]
  },
  {
   "cell_type": "code",
   "execution_count": 2,
   "metadata": {},
   "outputs": [
    {
     "name": "stdout",
     "output_type": "stream",
     "text": [
      "(23964596, 11)\n"
     ]
    },
    {
     "data": {
      "text/html": [
       "<div>\n",
       "<table border=\"1\" class=\"dataframe\">\n",
       "  <thead>\n",
       "    <tr style=\"text-align: right;\">\n",
       "      <th></th>\n",
       "      <th>0</th>\n",
       "      <th>1</th>\n",
       "      <th>2</th>\n",
       "      <th>3</th>\n",
       "      <th>4</th>\n",
       "      <th>5</th>\n",
       "      <th>6</th>\n",
       "      <th>7</th>\n",
       "      <th>8</th>\n",
       "      <th>9</th>\n",
       "      <th>10</th>\n",
       "    </tr>\n",
       "  </thead>\n",
       "  <tbody>\n",
       "    <tr>\n",
       "      <th>0</th>\n",
       "      <td>chr1</td>\n",
       "      <td>925800</td>\n",
       "      <td>925921</td>\n",
       "      <td>NM_152486</td>\n",
       "      <td>+</td>\n",
       "      <td>SAMD11</td>\n",
       "      <td>chr1</td>\n",
       "      <td>925804</td>\n",
       "      <td>925810</td>\n",
       "      <td>GTGTGG</td>\n",
       "      <td>+</td>\n",
       "    </tr>\n",
       "    <tr>\n",
       "      <th>1</th>\n",
       "      <td>chr1</td>\n",
       "      <td>925800</td>\n",
       "      <td>925921</td>\n",
       "      <td>NM_152486</td>\n",
       "      <td>+</td>\n",
       "      <td>SAMD11</td>\n",
       "      <td>chr1</td>\n",
       "      <td>925820</td>\n",
       "      <td>925826</td>\n",
       "      <td>GTATTT</td>\n",
       "      <td>+</td>\n",
       "    </tr>\n",
       "    <tr>\n",
       "      <th>2</th>\n",
       "      <td>chr1</td>\n",
       "      <td>925800</td>\n",
       "      <td>925921</td>\n",
       "      <td>NM_152486</td>\n",
       "      <td>+</td>\n",
       "      <td>SAMD11</td>\n",
       "      <td>chr1</td>\n",
       "      <td>925805</td>\n",
       "      <td>925811</td>\n",
       "      <td>TGTGGG</td>\n",
       "      <td>+</td>\n",
       "    </tr>\n",
       "    <tr>\n",
       "      <th>3</th>\n",
       "      <td>chr1</td>\n",
       "      <td>925800</td>\n",
       "      <td>925921</td>\n",
       "      <td>NM_152486</td>\n",
       "      <td>+</td>\n",
       "      <td>SAMD11</td>\n",
       "      <td>chr1</td>\n",
       "      <td>925842</td>\n",
       "      <td>925848</td>\n",
       "      <td>AGGGGG</td>\n",
       "      <td>+</td>\n",
       "    </tr>\n",
       "    <tr>\n",
       "      <th>4</th>\n",
       "      <td>chr1</td>\n",
       "      <td>925800</td>\n",
       "      <td>925921</td>\n",
       "      <td>NM_152486</td>\n",
       "      <td>+</td>\n",
       "      <td>SAMD11</td>\n",
       "      <td>chr1</td>\n",
       "      <td>925839</td>\n",
       "      <td>925845</td>\n",
       "      <td>GGGAGG</td>\n",
       "      <td>+</td>\n",
       "    </tr>\n",
       "  </tbody>\n",
       "</table>\n",
       "</div>"
      ],
      "text/plain": [
       "     0       1       2          3  4       5     6       7       8       9  10\n",
       "0  chr1  925800  925921  NM_152486  +  SAMD11  chr1  925804  925810  GTGTGG  +\n",
       "1  chr1  925800  925921  NM_152486  +  SAMD11  chr1  925820  925826  GTATTT  +\n",
       "2  chr1  925800  925921  NM_152486  +  SAMD11  chr1  925805  925811  TGTGGG  +\n",
       "3  chr1  925800  925921  NM_152486  +  SAMD11  chr1  925842  925848  AGGGGG  +\n",
       "4  chr1  925800  925921  NM_152486  +  SAMD11  chr1  925839  925845  GGGAGG  +"
      ]
     },
     "execution_count": 2,
     "metadata": {},
     "output_type": "execute_result"
    }
   ],
   "source": [
    "# Reads in ISRE motifs found in introns file\n",
    "introns_ISREs_singleLocation = pd.read_csv(\"../processed_data/Introns_Intersect_ISREs_singleISRElocation.txt\",header=None,sep=\"\\t\")\n",
    "print introns_ISREs_singleLocation.shape\n",
    "introns_ISREs_singleLocation.head()"
   ]
  },
  {
   "cell_type": "code",
   "execution_count": 3,
   "metadata": {},
   "outputs": [
    {
     "data": {
      "image/png": "[encoded data removed]",
      "text/plain": [
       "<matplotlib.figure.Figure at 0x7f1e2fff1490>"
      ]
     },
     "metadata": {},
     "output_type": "display_data"
    }
   ],
   "source": [
    "# Look for overrepresented ISREs in introns\n",
    "ISREs_inIntron_Count = introns_ISREs_singleLocation[9].value_counts()\n",
    "ISREs_inIntron_Count_df = pd.DataFrame({\"Numbers\":ISREs_inIntron_Count.values,\"ISREmotifs\":ISREs_inIntron_Count.index.values},columns=[\"ISREmotifs\",\"Numbers\"])\n",
    "sns.set_style(\"whitegrid\")\n",
    "plt.figure(figsize=(20,16))\n",
    "ax = sns.barplot(x=\"ISREmotifs\",y=\"Numbers\",data=ISREs_inIntron_Count_df)\n",
    "plt.xlabel(\"ISRE motifs\")\n",
    "plt.ylabel(\"Frequency of motifs\")\n",
    "locs, labels = plt.xticks()\n",
    "plt.setp(labels, rotation=90)\n",
    "plt.title(\"Breakdown of ISRE motifs found in Introns\")\n",
    "plt.show()"
   ]
  },
  {
   "cell_type": "code",
   "execution_count": null,
   "metadata": {},
   "outputs": [],
   "source": []
  }
 ],
 "metadata": {
  "kernelspec": {
   "display_name": "Python 2",
   "language": "python",
   "name": "python2"
  },
  "language_info": {
   "codemirror_mode": {
    "name": "ipython",
    "version": 2
   },
   "file_extension": ".py",
   "mimetype": "text/x-python",
   "name": "python",
   "nbconvert_exporter": "python",
   "pygments_lexer": "ipython2",
   "version": "2.7.12"
  }
 },
 "nbformat": 4,
 "nbformat_minor": 2
}
