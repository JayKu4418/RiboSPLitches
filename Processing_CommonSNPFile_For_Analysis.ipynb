{
 "cells": [
  {
   "cell_type": "markdown",
   "metadata": {},
   "source": [
    "The purpose of this script is to prepare the common SNP datasets to be used for analysis.\n",
    "\n",
    "The relevant columns we are looking for are chromosome, start and end coordinates, SNP id, major allele, minor allele and minor allele frequency."
   ]
  },
  {
   "cell_type": "code",
   "execution_count": null,
   "metadata": {},
   "outputs": [],
   "source": [
    "%%script bash\n",
    "# First convert vcf file to bed file \n",
    "vcf2bed < ../data/common_all_20170710.vcf > ../processed_data/common_all.bed"
   ]
  },
  {
   "cell_type": "code",
   "execution_count": 2,
   "metadata": {},
   "outputs": [],
   "source": [
    "# Import relevant packages\n",
    "import pandas as pd"
   ]
  },
  {
   "cell_type": "markdown",
   "metadata": {},
   "source": [
    "The following functions are used to extract valid entries in the commonSNPs file that meet the following criteria:\n",
    "- they are single mutations \n",
    "- they are found within genes\n",
    "- they have a MAF that is greater than 0.05"
   ]
  },
  {
   "cell_type": "code",
   "execution_count": null,
   "metadata": {},
   "outputs": [],
   "source": [
    "def isfloat(value):\n",
    "  try:\n",
    "    float(value)\n",
    "    return True\n",
    "  except ValueError:\n",
    "    return False\n",
    "\n",
    "from operator import itemgetter\n",
    "def getMAF_Index(rowofinterest):\n",
    "    x =rowofinterest[8].split(';')\n",
    "    y = [i for i in x if i is not None and \"CAF=\" in i]\n",
    "    z = y[0].split('=')[1].split(',')\n",
    "    z_p = [float(i) if isfloat(i) else 1 for i in z[1:]]\n",
    "    min_index = min(enumerate(z_p), key=itemgetter(1))[0]\n",
    "    return min_index\n",
    "\n",
    "def getMAF(rowofinterest):\n",
    "    x =rowofinterest[8].split(';')\n",
    "    y = [i for i in x if i is not None and \"CAF=\" in i]\n",
    "    z = y[0].split('=')[1].split(',')\n",
    "    z_p = [float(i) for i in z[1:] if isfloat(i)]\n",
    "    return min(z_p) \n",
    "\n",
    "def getRowRelevantForGroup(group):\n",
    "    i = group[\"maf_index\"].values[0]\n",
    "    try:\n",
    "        return group.iloc[i,:]\n",
    "    except:\n",
    "        print group\n",
    "\n",
    "def getNumOfAlleles(rowofinterest):\n",
    "    x =rowofinterest[8].split(';')\n",
    "    y = [i for i in x if i is not None and \"CAF=\" in i]\n",
    "    z = y[0].split('=')[1].split(',')\n",
    "    return len(z)\n",
    "\n",
    "def getGene(rowofinterest):\n",
    "    x =rowofinterest[8].split(';')\n",
    "    y = [i for i in x if i is not None and \"GENEINFO=\" in i]\n",
    "    return y[0].split('=')[1]\n",
    "\n",
    "def extractValidInfoCommonSNPs(snpfile,writefile):\n",
    "    chrom = range(1,23)\n",
    "    chrom.extend(['X','Y'])\n",
    "    commonSNPs = pd.read_csv(snpfile,sep=\"\\t\",header=None)\n",
    "    commonSNPs_single = commonSNPs[(commonSNPs[5].isin(['A','G','T','C','N']))&(commonSNPs[6].isin(['A','G','T','C','N']))]\n",
    "    for chromosome in chrom:\n",
    "        print chromosome\n",
    "        # Get chromosomes that are for each chromosome\n",
    "        commonSNPs_single_chrom = commonSNPs_single[commonSNPs_single[0]==chromosome]\n",
    "        # Get number of alleles for each SNP\n",
    "        numAllelesForChrom = commonSNPs_single_chrom.apply(getNumOfAlleles,1)\n",
    "        # Get SNPs that have 2 alleles, one major and one minor allele\n",
    "        dataForchrom_2alleles = commonSNPs_single_chrom[numAllelesForChrom == 2]\n",
    "        # Get the minor allele frequency for SNPs that have 2 alleles\n",
    "        mafForchrom_2alleles = dataForchrom_2alleles.apply(getMAF,1)\n",
    "        # Get all SNPs that have greater than 2 alleles \n",
    "        not2alleles = commonSNPs_single_chrom[numAllelesForChrom > 2]\n",
    "        # Get the index of the allele that has the minor allele frequency, this will 0,1,2 or 3\n",
    "        index_MAF_not2alleles = not2alleles.apply(getMAF_Index,1)\n",
    "        # Assign the index to the table that is for SNPs with more than 2 alleles\n",
    "        not2alleles = not2alleles.assign(maf_index=index_MAF_not2alleles)\n",
    "        # Group SNPs by SNP id and then get the row that has the index for the MAF\n",
    "        dataForchrom_not2alleles = not2alleles.groupby([3]).apply(getRowRelevantForGroup)\n",
    "        # get the minor allele frequency for that allele selected \n",
    "        maf_not2alleles = dataForchrom_not2alleles.apply(getMAF,1)\n",
    "        dataForchrom = {\"chrom\":pd.concat([dataForchrom_2alleles[0],dataForchrom_not2alleles[0]]),\n",
    "                        \"start\":pd.concat([dataForchrom_2alleles[1],dataForchrom_not2alleles[1]]),\n",
    "                        \"end\":pd.concat([dataForchrom_2alleles[2],dataForchrom_not2alleles[2]]),\n",
    "                        \"snpID\":pd.concat([dataForchrom_2alleles[3],dataForchrom_not2alleles[3]]),\n",
    "                        \"major\":pd.concat([dataForchrom_2alleles[5],dataForchrom_not2alleles[5]]),\n",
    "                        \"minor\":pd.concat([dataForchrom_2alleles[6],dataForchrom_not2alleles[6]]),\n",
    "                        \"MAF\":pd.concat([mafForchrom_2alleles,maf_not2alleles])}\n",
    "        #dfForchrom = pd.DataFrame(dataForchrom,columns=[\"chrom\",\"start\",\"end\",\"snpID\",\"major\",\"minor\",\"gene\",\"MAF\"])\n",
    "        dfForchrom = pd.DataFrame(dataForchrom,columns=[\"chrom\",\"start\",\"end\",\"snpID\",\"major\",\"minor\",\"MAF\"])\n",
    "        dfForchrom.to_csv(writefile,sep=\"\\t\",header=False,index=False,mode=\"a\")\n",
    "        #dfForchrom_MAFvalid = dfForchrom[(dfForchrom[\"MAF\"]>=minMAFval)&(dfForchrom[\"MAF\"]<=(1-minMAFval))]\n",
    "        #dfForchrom_MAFvalid['chrom'] = 'chr' + dfForchrom_MAFvalid['chrom'].astype(str)\n",
    "        #dfForchrom_MAFvalid.to_csv(writefile,sep=\"\\t\",header=False,index=False,mode=\"a\")"
   ]
  },
  {
   "cell_type": "code",
   "execution_count": null,
   "metadata": {},
   "outputs": [],
   "source": [
    "# Get the relevant SNPs \n",
    "#extractValidInfoCommonSNPs(\"../processed_data/common_all.bed\",\"../processed_data/commonSNPs_all_processed.bed\")"
   ]
  },
  {
   "cell_type": "code",
   "execution_count": 3,
   "metadata": {},
   "outputs": [
    {
     "name": "stderr",
     "output_type": "stream",
     "text": [
      "/usr/local/lib/python2.7/dist-packages/IPython/core/interactiveshell.py:2718: DtypeWarning: Columns (0) have mixed types. Specify dtype option on import or set low_memory=False.\n",
      "  interactivity=interactivity, compiler=compiler, result=result)\n"
     ]
    },
    {
     "name": "stdout",
     "output_type": "stream",
     "text": [
      "(33745944, 7)\n"
     ]
    },
    {
     "data": {
      "text/html": [
       "<div>\n",
       "<table border=\"1\" class=\"dataframe\">\n",
       "  <thead>\n",
       "    <tr style=\"text-align: right;\">\n",
       "      <th></th>\n",
       "      <th>0</th>\n",
       "      <th>1</th>\n",
       "      <th>2</th>\n",
       "      <th>3</th>\n",
       "      <th>4</th>\n",
       "      <th>5</th>\n",
       "      <th>6</th>\n",
       "    </tr>\n",
       "  </thead>\n",
       "  <tbody>\n",
       "    <tr>\n",
       "      <th>0</th>\n",
       "      <td>1</td>\n",
       "      <td>10641</td>\n",
       "      <td>10642</td>\n",
       "      <td>rs558604819</td>\n",
       "      <td>G</td>\n",
       "      <td>A</td>\n",
       "      <td>0.004193</td>\n",
       "    </tr>\n",
       "    <tr>\n",
       "      <th>1</th>\n",
       "      <td>1</td>\n",
       "      <td>11007</td>\n",
       "      <td>11008</td>\n",
       "      <td>rs575272151</td>\n",
       "      <td>C</td>\n",
       "      <td>G</td>\n",
       "      <td>0.088060</td>\n",
       "    </tr>\n",
       "    <tr>\n",
       "      <th>2</th>\n",
       "      <td>1</td>\n",
       "      <td>11011</td>\n",
       "      <td>11012</td>\n",
       "      <td>rs544419019</td>\n",
       "      <td>C</td>\n",
       "      <td>G</td>\n",
       "      <td>0.088060</td>\n",
       "    </tr>\n",
       "    <tr>\n",
       "      <th>3</th>\n",
       "      <td>1</td>\n",
       "      <td>11062</td>\n",
       "      <td>11063</td>\n",
       "      <td>rs561109771</td>\n",
       "      <td>T</td>\n",
       "      <td>G</td>\n",
       "      <td>0.002995</td>\n",
       "    </tr>\n",
       "    <tr>\n",
       "      <th>4</th>\n",
       "      <td>1</td>\n",
       "      <td>13109</td>\n",
       "      <td>13110</td>\n",
       "      <td>rs540538026</td>\n",
       "      <td>G</td>\n",
       "      <td>A</td>\n",
       "      <td>0.026760</td>\n",
       "    </tr>\n",
       "  </tbody>\n",
       "</table>\n",
       "</div>"
      ],
      "text/plain": [
       "   0      1      2            3  4  5         6\n",
       "0  1  10641  10642  rs558604819  G  A  0.004193\n",
       "1  1  11007  11008  rs575272151  C  G  0.088060\n",
       "2  1  11011  11012  rs544419019  C  G  0.088060\n",
       "3  1  11062  11063  rs561109771  T  G  0.002995\n",
       "4  1  13109  13110  rs540538026  G  A  0.026760"
      ]
     },
     "execution_count": 3,
     "metadata": {},
     "output_type": "execute_result"
    }
   ],
   "source": [
    "# Get the SNPs\n",
    "allSNPs = pd.read_csv(\"../processed_data/commonSNPs_all_processed.bed\",header=None,sep=\"\\t\")\n",
    "print allSNPs.shape\n",
    "allSNPs.head()"
   ]
  },
  {
   "cell_type": "code",
   "execution_count": 4,
   "metadata": {},
   "outputs": [
    {
     "name": "stdout",
     "output_type": "stream",
     "text": [
      "(7105197, 7)\n"
     ]
    },
    {
     "name": "stderr",
     "output_type": "stream",
     "text": [
      "/usr/local/lib/python2.7/dist-packages/ipykernel_launcher.py:5: SettingWithCopyWarning: \n",
      "A value is trying to be set on a copy of a slice from a DataFrame.\n",
      "Try using .loc[row_indexer,col_indexer] = value instead\n",
      "\n",
      "See the caveats in the documentation: http://pandas.pydata.org/pandas-docs/stable/indexing.html#indexing-view-versus-copy\n",
      "  \"\"\"\n"
     ]
    },
    {
     "data": {
      "text/html": [
       "<div>\n",
       "<table border=\"1\" class=\"dataframe\">\n",
       "  <thead>\n",
       "    <tr style=\"text-align: right;\">\n",
       "      <th></th>\n",
       "      <th>0</th>\n",
       "      <th>1</th>\n",
       "      <th>2</th>\n",
       "      <th>3</th>\n",
       "      <th>4</th>\n",
       "      <th>5</th>\n",
       "      <th>6</th>\n",
       "    </tr>\n",
       "  </thead>\n",
       "  <tbody>\n",
       "    <tr>\n",
       "      <th>1</th>\n",
       "      <td>chr1</td>\n",
       "      <td>11007</td>\n",
       "      <td>11008</td>\n",
       "      <td>rs575272151</td>\n",
       "      <td>C</td>\n",
       "      <td>G</td>\n",
       "      <td>0.08806</td>\n",
       "    </tr>\n",
       "    <tr>\n",
       "      <th>2</th>\n",
       "      <td>chr1</td>\n",
       "      <td>11011</td>\n",
       "      <td>11012</td>\n",
       "      <td>rs544419019</td>\n",
       "      <td>C</td>\n",
       "      <td>G</td>\n",
       "      <td>0.08806</td>\n",
       "    </tr>\n",
       "    <tr>\n",
       "      <th>5</th>\n",
       "      <td>chr1</td>\n",
       "      <td>13115</td>\n",
       "      <td>13116</td>\n",
       "      <td>rs62635286</td>\n",
       "      <td>T</td>\n",
       "      <td>G</td>\n",
       "      <td>0.09704</td>\n",
       "    </tr>\n",
       "    <tr>\n",
       "      <th>6</th>\n",
       "      <td>chr1</td>\n",
       "      <td>13117</td>\n",
       "      <td>13118</td>\n",
       "      <td>rs62028691</td>\n",
       "      <td>A</td>\n",
       "      <td>G</td>\n",
       "      <td>0.09704</td>\n",
       "    </tr>\n",
       "    <tr>\n",
       "      <th>7</th>\n",
       "      <td>chr1</td>\n",
       "      <td>13272</td>\n",
       "      <td>13273</td>\n",
       "      <td>rs531730856</td>\n",
       "      <td>G</td>\n",
       "      <td>C</td>\n",
       "      <td>0.09505</td>\n",
       "    </tr>\n",
       "  </tbody>\n",
       "</table>\n",
       "</div>"
      ],
      "text/plain": [
       "      0      1      2            3  4  5        6\n",
       "1  chr1  11007  11008  rs575272151  C  G  0.08806\n",
       "2  chr1  11011  11012  rs544419019  C  G  0.08806\n",
       "5  chr1  13115  13116   rs62635286  T  G  0.09704\n",
       "6  chr1  13117  13118   rs62028691  A  G  0.09704\n",
       "7  chr1  13272  13273  rs531730856  G  C  0.09505"
      ]
     },
     "execution_count": 4,
     "metadata": {},
     "output_type": "execute_result"
    }
   ],
   "source": [
    "# Get SNPs that have MAF value greater than certain threshold 0.05\n",
    "minMAFval=0.05\n",
    "allSNPs_aboveMAF = allSNPs[(allSNPs[6]>=minMAFval)&(allSNPs[6]<=(1-minMAFval))]\n",
    "print allSNPs_aboveMAF.shape\n",
    "allSNPs_aboveMAF[0] = 'chr' + allSNPs_aboveMAF[0].astype(str)\n",
    "allSNPs_aboveMAF.head()"
   ]
  },
  {
   "cell_type": "code",
   "execution_count": 5,
   "metadata": {},
   "outputs": [],
   "source": [
    "# Write the SNPs to a file\n",
    "allSNPs_aboveMAF.to_csv(\"../processed_data/commonSNPs_all_processed_AboveMAF5Percent.bed\",sep=\"\\t\",header=False,index=False)"
   ]
  },
  {
   "cell_type": "code",
   "execution_count": null,
   "metadata": {},
   "outputs": [],
   "source": []
  }
 ],
 "metadata": {
  "kernelspec": {
   "display_name": "Python 2",
   "language": "python",
   "name": "python2"
  }
 },
 "nbformat": 4,
 "nbformat_minor": 2
}
